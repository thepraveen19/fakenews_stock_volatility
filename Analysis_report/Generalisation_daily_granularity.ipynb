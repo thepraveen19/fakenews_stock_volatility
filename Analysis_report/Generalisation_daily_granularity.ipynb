{
  "nbformat": 4,
  "nbformat_minor": 0,
  "metadata": {
    "colab": {
      "name": "Generalisation_daily_granularity.ipynb",
      "provenance": [],
      "collapsed_sections": []
    },
    "kernelspec": {
      "name": "python3",
      "display_name": "Python 3"
    },
    "language_info": {
      "name": "python"
    }
  },
  "cells": [
    {
      "cell_type": "markdown",
      "source": [
        "**Generalisation based on correlation of parameters across the horizon, with a daily granularity, seggregation of industries and seggregation of stocks based on price**"
      ],
      "metadata": {
        "id": "7dShvhxV-RFq"
      }
    },
    {
      "cell_type": "code",
      "source": [
        "import pandas as pd\n",
        "import numpy as np\n",
        "\n",
        "from functools import reduce\n",
        "\n",
        "import ipywidgets as widgets\n",
        "from IPython.display import display"
      ],
      "metadata": {
        "id": "rQYsFIsDORUL"
      },
      "execution_count": 625,
      "outputs": []
    },
    {
      "cell_type": "code",
      "source": [
        "df1 = pd.read_csv('/content/daily_corr_AAPL.csv') # Mid\n",
        "df2 = pd.read_csv('/content/daily_corr_ABUS.csv') # Small\n",
        "df3 = pd.read_csv('/content/daily_corr_ARDS.csv') # Small\n",
        "df4 = pd.read_csv('/content/daily_corr_BABA.csv') # Mid\n",
        "df5 = pd.read_csv('/content/daily_corr_FB.csv') # Large\n",
        "df6 = pd.read_csv('/content/daily_corr_GME.csv') # Mid\n",
        "df7 = pd.read_csv('/content/daily_corr_MCD.csv') # Large\n",
        "df8 = pd.read_csv('/content/daily_corr_PFE.csv') # Small\n",
        "df9 = pd.read_csv('/content/daily_corr_PLUG.csv') # Small\n",
        "df10 = pd.read_csv('/content/daily_corr_QCOM.csv') # Mid\n",
        "df11= pd.read_csv('/content/daily_corr_SENS.csv') # Small\n",
        "df12 = pd.read_csv('/content/daily_corr_TSLA.csv') # Large\n",
        "df13 = pd.read_csv('/content/daily_corr_TWTR.csv') # Small\n",
        "df14 = pd.read_csv('/content/daily_corr_UUUU.csv') # Small\n"
      ],
      "metadata": {
        "id": "56NKrcbkOQob"
      },
      "execution_count": 626,
      "outputs": []
    },
    {
      "cell_type": "code",
      "source": [
        "def rename_df(df):\n",
        "  df=df.rename(columns={\"index\":\"AvgTrueRange\", \"index.1\":\"NATR\", \"index.2\":\"TRANGE\", \"index.3\":\"O\", \"index.4\":\"C\",\n",
        "                    \"index.5\":\"E\", \"index.6\":\"A\", \"index.7\":\"N\", \"index.8\":\"B5_O_Um\", \"index.9\":\"B5_C_Um\", \"index.10\":\"B5_E_Um\",\n",
        "                    \"index.11\":\"B5_A_Um\", \"index.12\":\"B5_N_Um\", \"index.13\":\"B5_O_Dm\", \"index.14\":\"B5_C_Dm\", \"index.15\":\"B5_E_Dm\",\n",
        "                    \"index.16\":\"B5_A_Dm\", \"index.17\":\"B5_N_Dm\", \"index.18\":\"Fake_news\", \"index.19\":\"Upward_momentum_created\", \"index.20\":\"Downward_momentum_created\",\n",
        "                    \"index.21\":\"Verified_status_True\", \"index.22\":\"Verified_status_False\"\n",
        "                    })\n",
        "  del df['Unnamed: 0']\n",
        "  df = df.astype(str)\n",
        "  return df"
      ],
      "metadata": {
        "id": "ocGisIUuQ6lO"
      },
      "execution_count": 627,
      "outputs": []
    },
    {
      "cell_type": "code",
      "source": [
        "df1=rename_df(df1)\n",
        "df2=rename_df(df2)\n",
        "df3=rename_df(df3)\n",
        "df4=rename_df(df4)\n",
        "df5=rename_df(df5)\n",
        "df6=rename_df(df6)\n",
        "df7=rename_df(df7)\n",
        "df8=rename_df(df8)\n",
        "df9=rename_df(df9)\n",
        "df10=rename_df(df10)\n",
        "df11=rename_df(df11)\n",
        "df12=rename_df(df12)\n",
        "df13=rename_df(df13)\n",
        "df14=rename_df(df14)"
      ],
      "metadata": {
        "id": "JGwzUwNCRcDF"
      },
      "execution_count": 628,
      "outputs": []
    },
    {
      "cell_type": "code",
      "source": [
        "df1.info()"
      ],
      "metadata": {
        "colab": {
          "base_uri": "https://localhost:8080/"
        },
        "id": "aTDKqvQdl3B7",
        "outputId": "79641855-e246-46f6-cbe7-5a467d0db7e5"
      },
      "execution_count": 629,
      "outputs": [
        {
          "output_type": "stream",
          "name": "stdout",
          "text": [
            "<class 'pandas.core.frame.DataFrame'>\n",
            "RangeIndex: 12 entries, 0 to 11\n",
            "Data columns (total 23 columns):\n",
            " #   Column                     Non-Null Count  Dtype \n",
            "---  ------                     --------------  ----- \n",
            " 0   AvgTrueRange               12 non-null     object\n",
            " 1   NATR                       12 non-null     object\n",
            " 2   TRANGE                     12 non-null     object\n",
            " 3   O                          12 non-null     object\n",
            " 4   C                          12 non-null     object\n",
            " 5   E                          12 non-null     object\n",
            " 6   A                          12 non-null     object\n",
            " 7   N                          12 non-null     object\n",
            " 8   B5_O_Um                    12 non-null     object\n",
            " 9   B5_C_Um                    12 non-null     object\n",
            " 10  B5_E_Um                    12 non-null     object\n",
            " 11  B5_A_Um                    12 non-null     object\n",
            " 12  B5_N_Um                    12 non-null     object\n",
            " 13  B5_O_Dm                    12 non-null     object\n",
            " 14  B5_C_Dm                    12 non-null     object\n",
            " 15  B5_E_Dm                    12 non-null     object\n",
            " 16  B5_A_Dm                    12 non-null     object\n",
            " 17  B5_N_Dm                    12 non-null     object\n",
            " 18  Fake_news                  12 non-null     object\n",
            " 19  Upward_momentum_created    12 non-null     object\n",
            " 20  Downward_momentum_created  12 non-null     object\n",
            " 21  Verified_status_True       12 non-null     object\n",
            " 22  Verified_status_False      12 non-null     object\n",
            "dtypes: object(23)\n",
            "memory usage: 2.3+ KB\n"
          ]
        }
      ]
    },
    {
      "cell_type": "markdown",
      "source": [
        "**Correlation based on the size of the company:**\n"
      ],
      "metadata": {
        "id": "7fufDigKgKaI"
      }
    },
    {
      "cell_type": "markdown",
      "source": [
        "**Small size**"
      ],
      "metadata": {
        "id": "KKIidVNPgvE6"
      }
    },
    {
      "cell_type": "code",
      "source": [
        "reduce(np.intersect1d, [df2.AvgTrueRange, \n",
        "                        df3.AvgTrueRange,\n",
        "                        df8.AvgTrueRange,\n",
        "                        df9.AvgTrueRange, \n",
        "                        df11.AvgTrueRange,\n",
        "                        df13.AvgTrueRange,\n",
        "                        df14.AvgTrueRange\n",
        "                        ])"
      ],
      "metadata": {
        "colab": {
          "base_uri": "https://localhost:8080/"
        },
        "id": "z34BvRTBOoUC",
        "outputId": "19bec20a-81c0-4389-e381-720831b351ed"
      },
      "execution_count": 630,
      "outputs": [
        {
          "output_type": "execute_result",
          "data": {
            "text/plain": [
              "array(['AvgTrueRange', 'TRANGE', 'Variance', 'nan'], dtype=object)"
            ]
          },
          "metadata": {},
          "execution_count": 630
        }
      ]
    },
    {
      "cell_type": "code",
      "source": [
        "reduce(np.intersect1d, [df2.NATR, \n",
        "                        df3.NATR,\n",
        "                        df8.NATR,\n",
        "                        df9.NATR, \n",
        "                        df11.NATR,\n",
        "                        df13.NATR,\n",
        "                        df14.NATR,\n",
        "                        ])"
      ],
      "metadata": {
        "colab": {
          "base_uri": "https://localhost:8080/"
        },
        "id": "Tvb7tx66qZ0Z",
        "outputId": "b8c2a0e6-cccf-49a6-e921-9a85fc97255e"
      },
      "execution_count": 631,
      "outputs": [
        {
          "output_type": "execute_result",
          "data": {
            "text/plain": [
              "array(['NATR', 'vol_current', 'vol_future'], dtype=object)"
            ]
          },
          "metadata": {},
          "execution_count": 631
        }
      ]
    },
    {
      "cell_type": "code",
      "source": [
        "reduce(np.intersect1d, [df2.TRANGE, \n",
        "                        df3.TRANGE,\n",
        "                        df8.TRANGE,\n",
        "                        df9.TRANGE, \n",
        "                        df11.TRANGE,\n",
        "                        df13.TRANGE,\n",
        "                        df14.TRANGE,\n",
        "                        ])"
      ],
      "metadata": {
        "colab": {
          "base_uri": "https://localhost:8080/"
        },
        "id": "Z9s6gu39q5hB",
        "outputId": "3774ad78-74aa-4cfc-c8fc-53fb76bd10ed"
      },
      "execution_count": 632,
      "outputs": [
        {
          "output_type": "execute_result",
          "data": {
            "text/plain": [
              "array(['AvgTrueRange', 'TRANGE'], dtype=object)"
            ]
          },
          "metadata": {},
          "execution_count": 632
        }
      ]
    },
    {
      "cell_type": "code",
      "source": [
        "reduce(np.intersect1d, [df2.O, \n",
        "                        df3.O,\n",
        "                        df8.O,\n",
        "                        df9.O, \n",
        "                        df11.O,\n",
        "                        df13.O,\n",
        "                        df14.O,\n",
        "                        ])"
      ],
      "metadata": {
        "colab": {
          "base_uri": "https://localhost:8080/"
        },
        "id": "fjjqhLVprA-S",
        "outputId": "e47977d1-9a4f-4b79-f1f8-ef64dcf261db"
      },
      "execution_count": 633,
      "outputs": [
        {
          "output_type": "execute_result",
          "data": {
            "text/plain": [
              "array([], dtype=object)"
            ]
          },
          "metadata": {},
          "execution_count": 633
        }
      ]
    },
    {
      "cell_type": "code",
      "source": [
        "reduce(np.intersect1d, [df2.C, \n",
        "                        df3.C,\n",
        "                        df8.C,\n",
        "                        df9.C, \n",
        "                        df11.C,\n",
        "                        df13.C,\n",
        "                        df14.C,\n",
        "                        ])"
      ],
      "metadata": {
        "colab": {
          "base_uri": "https://localhost:8080/"
        },
        "id": "SEpWk69Dsg1s",
        "outputId": "039c6bff-e0d3-4fd3-f6c1-404b3adf9856"
      },
      "execution_count": 634,
      "outputs": [
        {
          "output_type": "execute_result",
          "data": {
            "text/plain": [
              "array([], dtype=object)"
            ]
          },
          "metadata": {},
          "execution_count": 634
        }
      ]
    },
    {
      "cell_type": "code",
      "source": [
        "reduce(np.intersect1d, [df2.E, \n",
        "                        df3.E,\n",
        "                        df8.E,\n",
        "                        df9.E, \n",
        "                        df11.E,\n",
        "                        df13.E,\n",
        "                        df14.E,\n",
        "                        ])"
      ],
      "metadata": {
        "colab": {
          "base_uri": "https://localhost:8080/"
        },
        "id": "zPC-fwkMspdU",
        "outputId": "8a54b094-1b87-4085-c808-6891ff2c916a"
      },
      "execution_count": 635,
      "outputs": [
        {
          "output_type": "execute_result",
          "data": {
            "text/plain": [
              "array([], dtype=object)"
            ]
          },
          "metadata": {},
          "execution_count": 635
        }
      ]
    },
    {
      "cell_type": "code",
      "source": [
        "reduce(np.intersect1d, [df2.A, \n",
        "                        df3.A,\n",
        "                        df8.A,\n",
        "                        df9.A, \n",
        "                        df11.A,\n",
        "                        df13.A,\n",
        "                        df14.A,\n",
        "                        ])"
      ],
      "metadata": {
        "colab": {
          "base_uri": "https://localhost:8080/"
        },
        "id": "D9yRIbcUstj8",
        "outputId": "4f993601-7c59-48f4-c7d7-e598616f03f0"
      },
      "execution_count": 636,
      "outputs": [
        {
          "output_type": "execute_result",
          "data": {
            "text/plain": [
              "array([], dtype=object)"
            ]
          },
          "metadata": {},
          "execution_count": 636
        }
      ]
    },
    {
      "cell_type": "code",
      "source": [
        "reduce(np.intersect1d, [df2.N, \n",
        "                        df3.N,\n",
        "                        df8.N,\n",
        "                        df9.N, \n",
        "                        df11.N,\n",
        "                        df13.N,\n",
        "                        df14.N,\n",
        "                        ])"
      ],
      "metadata": {
        "colab": {
          "base_uri": "https://localhost:8080/"
        },
        "id": "IuRo2xGuswSM",
        "outputId": "04ca30b1-b5f2-4ce3-c081-087d4fb634f5"
      },
      "execution_count": 637,
      "outputs": [
        {
          "output_type": "execute_result",
          "data": {
            "text/plain": [
              "array(['nan'], dtype=object)"
            ]
          },
          "metadata": {},
          "execution_count": 637
        }
      ]
    },
    {
      "cell_type": "code",
      "source": [
        "reduce(np.intersect1d, [df2.B5_O_Um, \n",
        "                        df3.B5_O_Um,\n",
        "                        df8.B5_O_Um,\n",
        "                        df9.B5_O_Um, \n",
        "                        df11.B5_O_Um,\n",
        "                        df13.B5_O_Um,\n",
        "                        df14.B5_O_Um,\n",
        "                        ])"
      ],
      "metadata": {
        "colab": {
          "base_uri": "https://localhost:8080/"
        },
        "id": "0oCHOeCkszZc",
        "outputId": "7ba45919-853a-4cf0-808f-6552fb4a33db"
      },
      "execution_count": 638,
      "outputs": [
        {
          "output_type": "execute_result",
          "data": {
            "text/plain": [
              "array(['nan'], dtype=object)"
            ]
          },
          "metadata": {},
          "execution_count": 638
        }
      ]
    },
    {
      "cell_type": "code",
      "source": [
        "reduce(np.intersect1d, [df2.B5_C_Um, \n",
        "                        df3.B5_C_Um,\n",
        "                        df8.B5_C_Um,\n",
        "                        df9.B5_C_Um, \n",
        "                        df11.B5_C_Um,\n",
        "                        df13.B5_C_Um,\n",
        "                        df14.B5_C_Um,\n",
        "                        ])"
      ],
      "metadata": {
        "colab": {
          "base_uri": "https://localhost:8080/"
        },
        "id": "Lk54OMphtAhD",
        "outputId": "05802767-6b10-4cfa-df44-1bb0a9765315"
      },
      "execution_count": 639,
      "outputs": [
        {
          "output_type": "execute_result",
          "data": {
            "text/plain": [
              "array(['nan'], dtype=object)"
            ]
          },
          "metadata": {},
          "execution_count": 639
        }
      ]
    },
    {
      "cell_type": "code",
      "source": [
        "reduce(np.intersect1d, [df2.B5_E_Um, \n",
        "                        df3.B5_E_Um,\n",
        "                        df8.B5_E_Um,\n",
        "                        df9.B5_E_Um, \n",
        "                        df11.B5_E_Um,\n",
        "                        df13.B5_E_Um,\n",
        "                        df14.B5_E_Um,\n",
        "                        ])"
      ],
      "metadata": {
        "colab": {
          "base_uri": "https://localhost:8080/"
        },
        "id": "4lOrujaitITD",
        "outputId": "1bc51810-eb3f-4444-9f97-d874c3115bc5"
      },
      "execution_count": 640,
      "outputs": [
        {
          "output_type": "execute_result",
          "data": {
            "text/plain": [
              "array(['nan'], dtype=object)"
            ]
          },
          "metadata": {},
          "execution_count": 640
        }
      ]
    },
    {
      "cell_type": "code",
      "source": [
        "reduce(np.intersect1d, [df2.B5_A_Um, \n",
        "                        df3.B5_A_Um,\n",
        "                        df8.B5_A_Um,\n",
        "                        df9.B5_A_Um, \n",
        "                        df11.B5_A_Um,\n",
        "                        df13.B5_A_Um,\n",
        "                        df14.B5_A_Um,\n",
        "                        ])"
      ],
      "metadata": {
        "colab": {
          "base_uri": "https://localhost:8080/"
        },
        "id": "6SQ0__IUtMfL",
        "outputId": "fb54a82f-c7d5-4d06-e8b2-0a277f4e8b34"
      },
      "execution_count": 641,
      "outputs": [
        {
          "output_type": "execute_result",
          "data": {
            "text/plain": [
              "array(['nan'], dtype=object)"
            ]
          },
          "metadata": {},
          "execution_count": 641
        }
      ]
    },
    {
      "cell_type": "code",
      "source": [
        "reduce(np.intersect1d, [df2.B5_N_Um, \n",
        "                        df3.B5_N_Um,\n",
        "                        df8.B5_N_Um,\n",
        "                        df9.B5_N_Um, \n",
        "                        df11.B5_N_Um,\n",
        "                        df13.B5_N_Um,\n",
        "                        df14.B5_N_Um,\n",
        "                        ])"
      ],
      "metadata": {
        "colab": {
          "base_uri": "https://localhost:8080/"
        },
        "id": "ZMACc_KstP-l",
        "outputId": "83e9d968-01a5-40f9-ee64-3761ce118bc6"
      },
      "execution_count": 642,
      "outputs": [
        {
          "output_type": "execute_result",
          "data": {
            "text/plain": [
              "array(['nan'], dtype=object)"
            ]
          },
          "metadata": {},
          "execution_count": 642
        }
      ]
    },
    {
      "cell_type": "code",
      "source": [
        ""
      ],
      "metadata": {
        "id": "z8r4IfbEtTKM"
      },
      "execution_count": 642,
      "outputs": []
    },
    {
      "cell_type": "code",
      "source": [
        "reduce(np.intersect1d, [df2.B5_O_Dm, \n",
        "                        df3.B5_O_Dm,\n",
        "                        df8.B5_O_Dm,\n",
        "                        df9.B5_O_Dm, \n",
        "                        df11.B5_O_Dm,\n",
        "                        df13.B5_O_Dm,\n",
        "                        df14.B5_O_Dm,\n",
        "                        ])"
      ],
      "metadata": {
        "colab": {
          "base_uri": "https://localhost:8080/"
        },
        "outputId": "796b746e-7969-4b28-f0bb-d59dc6c9f888",
        "id": "1X3pY1RttcRm"
      },
      "execution_count": 643,
      "outputs": [
        {
          "output_type": "execute_result",
          "data": {
            "text/plain": [
              "array([], dtype=object)"
            ]
          },
          "metadata": {},
          "execution_count": 643
        }
      ]
    },
    {
      "cell_type": "code",
      "source": [
        "reduce(np.intersect1d, [df2.B5_C_Dm, \n",
        "                        df3.B5_C_Dm,\n",
        "                        df8.B5_C_Dm,\n",
        "                        df9.B5_C_Dm, \n",
        "                        df11.B5_C_Dm,\n",
        "                        df13.B5_C_Dm,\n",
        "                        df14.B5_C_Dm,\n",
        "                        ])"
      ],
      "metadata": {
        "colab": {
          "base_uri": "https://localhost:8080/"
        },
        "outputId": "a4746f82-5116-4dff-c41c-f7dd25f3f776",
        "id": "9JGzDNI4tcRm"
      },
      "execution_count": 644,
      "outputs": [
        {
          "output_type": "execute_result",
          "data": {
            "text/plain": [
              "array([], dtype=object)"
            ]
          },
          "metadata": {},
          "execution_count": 644
        }
      ]
    },
    {
      "cell_type": "code",
      "source": [
        "reduce(np.intersect1d, [df2.B5_E_Dm, \n",
        "                        df3.B5_E_Dm,\n",
        "                        df8.B5_E_Dm,\n",
        "                        df9.B5_E_Dm, \n",
        "                        df11.B5_E_Dm,\n",
        "                        df13.B5_E_Dm,\n",
        "                        df14.B5_E_Dm,\n",
        "                        ])"
      ],
      "metadata": {
        "colab": {
          "base_uri": "https://localhost:8080/"
        },
        "outputId": "42fec7ad-babb-42fe-cfad-3c396908bd30",
        "id": "_-VdCqoMtcRn"
      },
      "execution_count": 645,
      "outputs": [
        {
          "output_type": "execute_result",
          "data": {
            "text/plain": [
              "array([], dtype=object)"
            ]
          },
          "metadata": {},
          "execution_count": 645
        }
      ]
    },
    {
      "cell_type": "code",
      "source": [
        "reduce(np.intersect1d, [df2.B5_A_Dm, \n",
        "                        df3.B5_A_Dm,\n",
        "                        df8.B5_A_Dm,\n",
        "                        df9.B5_A_Dm, \n",
        "                        df11.B5_A_Dm,\n",
        "                        df13.B5_A_Dm,\n",
        "                        df14.B5_A_Dm,\n",
        "                        ])"
      ],
      "metadata": {
        "colab": {
          "base_uri": "https://localhost:8080/"
        },
        "outputId": "8305e00d-6df5-4be4-f416-100edcd5c1d7",
        "id": "kS9l1OeKtcRn"
      },
      "execution_count": 646,
      "outputs": [
        {
          "output_type": "execute_result",
          "data": {
            "text/plain": [
              "array([], dtype=object)"
            ]
          },
          "metadata": {},
          "execution_count": 646
        }
      ]
    },
    {
      "cell_type": "code",
      "source": [
        "reduce(np.intersect1d, [df2.B5_N_Dm, \n",
        "                        df3.B5_N_Dm,\n",
        "                        df8.B5_N_Dm,\n",
        "                        df9.B5_N_Dm, \n",
        "                        df11.B5_N_Dm,\n",
        "                        df13.B5_N_Dm,\n",
        "                        df14.B5_N_Dm,\n",
        "                        ])"
      ],
      "metadata": {
        "colab": {
          "base_uri": "https://localhost:8080/"
        },
        "outputId": "9c083e1f-3b13-4218-e798-0cd53f7a19bc",
        "id": "pJGbbdoEtcRn"
      },
      "execution_count": 647,
      "outputs": [
        {
          "output_type": "execute_result",
          "data": {
            "text/plain": [
              "array(['nan'], dtype=object)"
            ]
          },
          "metadata": {},
          "execution_count": 647
        }
      ]
    },
    {
      "cell_type": "code",
      "source": [
        "reduce(np.intersect1d, [df2.Fake_news, \n",
        "                        df3.Fake_news,\n",
        "                        df8.Fake_news,\n",
        "                        df9.Fake_news, \n",
        "                        df11.Fake_news,\n",
        "                        df13.Fake_news,\n",
        "                        df14.Fake_news,\n",
        "                        ])"
      ],
      "metadata": {
        "colab": {
          "base_uri": "https://localhost:8080/"
        },
        "id": "BBXga5Lhtwyt",
        "outputId": "3b73be03-8ad4-4ab7-e07b-7d3c3c96dc5d"
      },
      "execution_count": 648,
      "outputs": [
        {
          "output_type": "execute_result",
          "data": {
            "text/plain": [
              "array([], dtype=object)"
            ]
          },
          "metadata": {},
          "execution_count": 648
        }
      ]
    },
    {
      "cell_type": "code",
      "source": [
        "reduce(np.intersect1d, [df2.Upward_momentum_created, \n",
        "                        df3.Upward_momentum_created,\n",
        "                        df8.Upward_momentum_created,\n",
        "                        df9.Upward_momentum_created, \n",
        "                        df11.Upward_momentum_created,\n",
        "                        df13.Upward_momentum_created,\n",
        "                        df14.Upward_momentum_created,\n",
        "                        ])"
      ],
      "metadata": {
        "colab": {
          "base_uri": "https://localhost:8080/"
        },
        "id": "nbpo5FkUt64F",
        "outputId": "3e2eb976-13af-48c6-9796-ffab072f25b0"
      },
      "execution_count": 649,
      "outputs": [
        {
          "output_type": "execute_result",
          "data": {
            "text/plain": [
              "array(['nan'], dtype=object)"
            ]
          },
          "metadata": {},
          "execution_count": 649
        }
      ]
    },
    {
      "cell_type": "code",
      "source": [
        "reduce(np.intersect1d, [df2.Downward_momentum_created, \n",
        "                        df3.Downward_momentum_created,\n",
        "                        df8.Downward_momentum_created,\n",
        "                        df9.Downward_momentum_created, \n",
        "                        df11.Downward_momentum_created,\n",
        "                        df13.Downward_momentum_created,\n",
        "                        df14.Downward_momentum_created,\n",
        "                        ])"
      ],
      "metadata": {
        "colab": {
          "base_uri": "https://localhost:8080/"
        },
        "id": "IKfoyM8muD4E",
        "outputId": "d64c91b5-6a9d-4c8a-ce3b-2fc75f393761"
      },
      "execution_count": 650,
      "outputs": [
        {
          "output_type": "execute_result",
          "data": {
            "text/plain": [
              "array(['Downward_momentum_created', 'Verified_status_False', 'Volume'],\n",
              "      dtype=object)"
            ]
          },
          "metadata": {},
          "execution_count": 650
        }
      ]
    },
    {
      "cell_type": "code",
      "source": [
        "reduce(np.intersect1d, [df2.Verified_status_True, \n",
        "                        df3.Verified_status_True,\n",
        "                        df8.Verified_status_True,\n",
        "                        df9.Verified_status_True, \n",
        "                        df11.Verified_status_True,\n",
        "                        df13.Verified_status_True,\n",
        "                        df14.Verified_status_True,\n",
        "                        ])"
      ],
      "metadata": {
        "colab": {
          "base_uri": "https://localhost:8080/"
        },
        "id": "u5bpq-EYuP9d",
        "outputId": "0bd7ac4c-7a04-4d7c-f94e-dc7478709d58"
      },
      "execution_count": 651,
      "outputs": [
        {
          "output_type": "execute_result",
          "data": {
            "text/plain": [
              "array(['Verified_status_True', 'nan'], dtype=object)"
            ]
          },
          "metadata": {},
          "execution_count": 651
        }
      ]
    },
    {
      "cell_type": "code",
      "source": [
        "reduce(np.intersect1d, [df2.Verified_status_False, \n",
        "                        df3.Verified_status_False,\n",
        "                        df8.Verified_status_False,\n",
        "                        df9.Verified_status_False, \n",
        "                        df11.Verified_status_False,\n",
        "                        df13.Verified_status_False,\n",
        "                        df14.Verified_status_False,\n",
        "                        ])"
      ],
      "metadata": {
        "colab": {
          "base_uri": "https://localhost:8080/"
        },
        "id": "LkpUDyn-uZu_",
        "outputId": "6bf4c031-3cfd-4951-f656-d648bcfec1eb"
      },
      "execution_count": 652,
      "outputs": [
        {
          "output_type": "execute_result",
          "data": {
            "text/plain": [
              "array(['Downward_momentum_created', 'Verified_status_False', 'Volume'],\n",
              "      dtype=object)"
            ]
          },
          "metadata": {},
          "execution_count": 652
        }
      ]
    },
    {
      "cell_type": "markdown",
      "source": [
        "**Mid size:**"
      ],
      "metadata": {
        "id": "VEAoBBwcgSfP"
      }
    },
    {
      "cell_type": "code",
      "source": [
        "reduce(np.intersect1d, [df1.AvgTrueRange, \n",
        "                        df4.AvgTrueRange,\n",
        "                        df6.AvgTrueRange,\n",
        "                        df10.AvgTrueRange\n",
        "                        ])"
      ],
      "metadata": {
        "colab": {
          "base_uri": "https://localhost:8080/"
        },
        "outputId": "04cdd714-1051-49f4-bc9d-fbe768d6b023",
        "id": "8G28gH-FwcNA"
      },
      "execution_count": 653,
      "outputs": [
        {
          "output_type": "execute_result",
          "data": {
            "text/plain": [
              "array(['AvgTrueRange', 'NATR', 'TRANGE'], dtype=object)"
            ]
          },
          "metadata": {},
          "execution_count": 653
        }
      ]
    },
    {
      "cell_type": "code",
      "source": [
        "reduce(np.intersect1d, [df1.NATR, \n",
        "                        df4.NATR,\n",
        "                        df6.NATR,\n",
        "                        df10.NATR\n",
        "                        ])"
      ],
      "metadata": {
        "colab": {
          "base_uri": "https://localhost:8080/"
        },
        "outputId": "810cf1c5-58b1-4819-8a29-f71dc7307c83",
        "id": "Tb7bXf0AwcNB"
      },
      "execution_count": 654,
      "outputs": [
        {
          "output_type": "execute_result",
          "data": {
            "text/plain": [
              "array(['AvgTrueRange', 'NATR', 'Volume'], dtype=object)"
            ]
          },
          "metadata": {},
          "execution_count": 654
        }
      ]
    },
    {
      "cell_type": "code",
      "source": [
        "reduce(np.intersect1d, [df1.TRANGE, \n",
        "                        df4.TRANGE,\n",
        "                        df6.TRANGE,\n",
        "                        df10.TRANGE\n",
        "                        ])"
      ],
      "metadata": {
        "colab": {
          "base_uri": "https://localhost:8080/"
        },
        "outputId": "75058cf1-81da-449b-c11c-a1f31129e6aa",
        "id": "GOQN-qt2wcNB"
      },
      "execution_count": 655,
      "outputs": [
        {
          "output_type": "execute_result",
          "data": {
            "text/plain": [
              "array(['AvgTrueRange', 'N', 'O', 'TRANGE', 'Verified_status_False',\n",
              "       'Volume', 'nan'], dtype=object)"
            ]
          },
          "metadata": {},
          "execution_count": 655
        }
      ]
    },
    {
      "cell_type": "code",
      "source": [
        "reduce(np.intersect1d, [df1.O, \n",
        "                        df4.O,\n",
        "                        df6.O,\n",
        "                        df10.O\n",
        "                        ])"
      ],
      "metadata": {
        "colab": {
          "base_uri": "https://localhost:8080/"
        },
        "outputId": "063d8856-edb1-4b34-c702-3c9839d6accb",
        "id": "tdvVduxxwcNB"
      },
      "execution_count": 656,
      "outputs": [
        {
          "output_type": "execute_result",
          "data": {
            "text/plain": [
              "array(['B5_N_Dm', 'B5_O_Dm', 'Downward_momentum_created', 'N', 'O',\n",
              "       'TRANGE', 'Verified_status_False', 'Verified_status_True',\n",
              "       'Volume'], dtype=object)"
            ]
          },
          "metadata": {},
          "execution_count": 656
        }
      ]
    },
    {
      "cell_type": "code",
      "source": [
        "reduce(np.intersect1d, [df1.C, \n",
        "                        df4.C,\n",
        "                        df6.C,\n",
        "                        df10.C\n",
        "                        ])"
      ],
      "metadata": {
        "colab": {
          "base_uri": "https://localhost:8080/"
        },
        "outputId": "57bc4eeb-9e4d-45d0-8a3e-7e743b558602",
        "id": "A2dhu9E7wcNB"
      },
      "execution_count": 657,
      "outputs": [
        {
          "output_type": "execute_result",
          "data": {
            "text/plain": [
              "array(['nan'], dtype=object)"
            ]
          },
          "metadata": {},
          "execution_count": 657
        }
      ]
    },
    {
      "cell_type": "code",
      "source": [
        "reduce(np.intersect1d, [df1.E, \n",
        "                        df4.E,\n",
        "                        df6.E,\n",
        "                        df10.E\n",
        "                        ])"
      ],
      "metadata": {
        "colab": {
          "base_uri": "https://localhost:8080/"
        },
        "outputId": "4925f525-ab54-4c51-b48a-aa13b243bb37",
        "id": "tnJvzQQUwcNB"
      },
      "execution_count": 658,
      "outputs": [
        {
          "output_type": "execute_result",
          "data": {
            "text/plain": [
              "array([], dtype=object)"
            ]
          },
          "metadata": {},
          "execution_count": 658
        }
      ]
    },
    {
      "cell_type": "code",
      "source": [
        "reduce(np.intersect1d, [df1.A, \n",
        "                        df4.A,\n",
        "                        df6.A,\n",
        "                        df10.A\n",
        "                        ])"
      ],
      "metadata": {
        "colab": {
          "base_uri": "https://localhost:8080/"
        },
        "outputId": "bd40f154-d1db-4365-874e-01921c5e8270",
        "id": "-kpb09BfwcNC"
      },
      "execution_count": 659,
      "outputs": [
        {
          "output_type": "execute_result",
          "data": {
            "text/plain": [
              "array(['nan'], dtype=object)"
            ]
          },
          "metadata": {},
          "execution_count": 659
        }
      ]
    },
    {
      "cell_type": "code",
      "source": [
        "reduce(np.intersect1d, [df1.N, \n",
        "                        df4.N,\n",
        "                        df6.N,\n",
        "                        df10.N\n",
        "                        ])"
      ],
      "metadata": {
        "colab": {
          "base_uri": "https://localhost:8080/"
        },
        "outputId": "999e8b56-a522-4929-a337-80efcd6ab5f5",
        "id": "YG9yWobxwcNC"
      },
      "execution_count": 660,
      "outputs": [
        {
          "output_type": "execute_result",
          "data": {
            "text/plain": [
              "array(['B5_N_Dm', 'B5_O_Dm', 'Downward_momentum_created', 'N', 'O',\n",
              "       'TRANGE', 'Verified_status_False', 'Verified_status_True',\n",
              "       'Volume'], dtype=object)"
            ]
          },
          "metadata": {},
          "execution_count": 660
        }
      ]
    },
    {
      "cell_type": "code",
      "source": [
        "reduce(np.intersect1d, [df1.B5_O_Um, \n",
        "                        df4.B5_O_Um,\n",
        "                        df6.B5_O_Um,\n",
        "                        df10.B5_O_Um\n",
        "                        ])"
      ],
      "metadata": {
        "colab": {
          "base_uri": "https://localhost:8080/"
        },
        "outputId": "4870d2ed-e645-4f7d-ee10-4603e9fad754",
        "id": "Uj-fsh_nwcNC"
      },
      "execution_count": 661,
      "outputs": [
        {
          "output_type": "execute_result",
          "data": {
            "text/plain": [
              "array(['nan'], dtype=object)"
            ]
          },
          "metadata": {},
          "execution_count": 661
        }
      ]
    },
    {
      "cell_type": "code",
      "source": [
        "reduce(np.intersect1d, [df1.B5_C_Um, \n",
        "                        df4.B5_C_Um,\n",
        "                        df6.B5_C_Um,\n",
        "                        df10.B5_C_Um\n",
        "                        ])"
      ],
      "metadata": {
        "colab": {
          "base_uri": "https://localhost:8080/"
        },
        "outputId": "49ce783d-cc5b-4985-a530-543e699d3242",
        "id": "HPq9SLP1wcNC"
      },
      "execution_count": 662,
      "outputs": [
        {
          "output_type": "execute_result",
          "data": {
            "text/plain": [
              "array(['nan'], dtype=object)"
            ]
          },
          "metadata": {},
          "execution_count": 662
        }
      ]
    },
    {
      "cell_type": "code",
      "source": [
        "reduce(np.intersect1d, [df1.B5_E_Um, \n",
        "                        df4.B5_E_Um,\n",
        "                        df6.B5_E_Um,\n",
        "                        df10.B5_E_Um\n",
        "                        ])"
      ],
      "metadata": {
        "colab": {
          "base_uri": "https://localhost:8080/"
        },
        "outputId": "3da1ebc3-11e9-404f-f8a2-c0da472a0be3",
        "id": "j20gV5FiwcNC"
      },
      "execution_count": 663,
      "outputs": [
        {
          "output_type": "execute_result",
          "data": {
            "text/plain": [
              "array(['nan'], dtype=object)"
            ]
          },
          "metadata": {},
          "execution_count": 663
        }
      ]
    },
    {
      "cell_type": "code",
      "source": [
        "reduce(np.intersect1d, [df1.B5_A_Um, \n",
        "                        df4.B5_A_Um,\n",
        "                        df6.B5_A_Um,\n",
        "                        df10.B5_A_Um\n",
        "                        ])"
      ],
      "metadata": {
        "colab": {
          "base_uri": "https://localhost:8080/"
        },
        "outputId": "50a80d52-c513-4158-badd-b6cf60684181",
        "id": "r5FTEdlnwcND"
      },
      "execution_count": 664,
      "outputs": [
        {
          "output_type": "execute_result",
          "data": {
            "text/plain": [
              "array(['nan'], dtype=object)"
            ]
          },
          "metadata": {},
          "execution_count": 664
        }
      ]
    },
    {
      "cell_type": "code",
      "source": [
        "reduce(np.intersect1d, [df1.B5_N_Um, \n",
        "                        df4.B5_N_Um,\n",
        "                        df6.B5_N_Um,\n",
        "                        df10.B5_N_Um\n",
        "                        ])"
      ],
      "metadata": {
        "colab": {
          "base_uri": "https://localhost:8080/"
        },
        "outputId": "002cc1eb-63de-44a9-9626-f087bc226af3",
        "id": "yQaEmH5YwcND"
      },
      "execution_count": 665,
      "outputs": [
        {
          "output_type": "execute_result",
          "data": {
            "text/plain": [
              "array(['nan'], dtype=object)"
            ]
          },
          "metadata": {},
          "execution_count": 665
        }
      ]
    },
    {
      "cell_type": "code",
      "source": [
        "reduce(np.intersect1d, [df1.B5_O_Dm, \n",
        "                        df4.B5_O_Dm,\n",
        "                        df6.B5_O_Dm,\n",
        "                        df10.B5_O_Dm\n",
        "                        ])"
      ],
      "metadata": {
        "colab": {
          "base_uri": "https://localhost:8080/"
        },
        "outputId": "29c5c9da-77f1-4c91-b42b-72ad82ef7336",
        "id": "Jt2vGtlbwcNE"
      },
      "execution_count": 666,
      "outputs": [
        {
          "output_type": "execute_result",
          "data": {
            "text/plain": [
              "array(['B5_N_Dm', 'B5_O_Dm', 'Downward_momentum_created', 'N', 'O',\n",
              "       'Verified_status_False', 'Verified_status_True', 'nan'],\n",
              "      dtype=object)"
            ]
          },
          "metadata": {},
          "execution_count": 666
        }
      ]
    },
    {
      "cell_type": "code",
      "source": [
        "reduce(np.intersect1d, [df1.B5_C_Dm, \n",
        "                        df4.B5_C_Dm,\n",
        "                        df6.B5_C_Dm,\n",
        "                        df10.B5_C_Dm\n",
        "                        ])"
      ],
      "metadata": {
        "colab": {
          "base_uri": "https://localhost:8080/"
        },
        "outputId": "d9cddfba-838c-4a1a-81a5-f9353c4efb10",
        "id": "Fze7R4YCwcNE"
      },
      "execution_count": 667,
      "outputs": [
        {
          "output_type": "execute_result",
          "data": {
            "text/plain": [
              "array(['nan'], dtype=object)"
            ]
          },
          "metadata": {},
          "execution_count": 667
        }
      ]
    },
    {
      "cell_type": "code",
      "source": [
        "reduce(np.intersect1d, [df1.B5_E_Dm, \n",
        "                        df4.B5_E_Dm,\n",
        "                        df6.B5_E_Dm,\n",
        "                        df10.B5_E_Dm\n",
        "                        ])"
      ],
      "metadata": {
        "colab": {
          "base_uri": "https://localhost:8080/"
        },
        "outputId": "e7c0fc8a-4c14-4a00-d265-8a2b99d76448",
        "id": "9AE5wO2EwcNE"
      },
      "execution_count": 668,
      "outputs": [
        {
          "output_type": "execute_result",
          "data": {
            "text/plain": [
              "array(['nan'], dtype=object)"
            ]
          },
          "metadata": {},
          "execution_count": 668
        }
      ]
    },
    {
      "cell_type": "code",
      "source": [
        "reduce(np.intersect1d, [df1.B5_A_Dm, \n",
        "                        df4.B5_A_Dm,\n",
        "                        df6.B5_A_Dm,\n",
        "                        df10.B5_A_Dm\n",
        "                        ])"
      ],
      "metadata": {
        "colab": {
          "base_uri": "https://localhost:8080/"
        },
        "outputId": "05323afc-6b34-462f-b2ff-42f61c02d0f9",
        "id": "JVLT2nlZwcNF"
      },
      "execution_count": 669,
      "outputs": [
        {
          "output_type": "execute_result",
          "data": {
            "text/plain": [
              "array(['nan'], dtype=object)"
            ]
          },
          "metadata": {},
          "execution_count": 669
        }
      ]
    },
    {
      "cell_type": "code",
      "source": [
        "reduce(np.intersect1d, [df1.B5_N_Dm, \n",
        "                        df4.B5_N_Dm,\n",
        "                        df6.B5_N_Dm,\n",
        "                        df10.B5_N_Dm\n",
        "                        ])"
      ],
      "metadata": {
        "colab": {
          "base_uri": "https://localhost:8080/"
        },
        "outputId": "00ee7452-6180-454f-8e36-6471dd28e105",
        "id": "8dCqdKI4wcNF"
      },
      "execution_count": 670,
      "outputs": [
        {
          "output_type": "execute_result",
          "data": {
            "text/plain": [
              "array(['B5_N_Dm', 'B5_O_Dm', 'Downward_momentum_created', 'N', 'O',\n",
              "       'Verified_status_False', 'Verified_status_True', 'nan'],\n",
              "      dtype=object)"
            ]
          },
          "metadata": {},
          "execution_count": 670
        }
      ]
    },
    {
      "cell_type": "code",
      "source": [
        "reduce(np.intersect1d, [df1.Fake_news, \n",
        "                        df4.Fake_news,\n",
        "                        df6.Fake_news,\n",
        "                        df10.Fake_news\n",
        "                        ])"
      ],
      "metadata": {
        "colab": {
          "base_uri": "https://localhost:8080/"
        },
        "outputId": "1b730a72-b214-4f8d-ac40-2b605e80ad68",
        "id": "hS1DBP27wcNF"
      },
      "execution_count": 671,
      "outputs": [
        {
          "output_type": "execute_result",
          "data": {
            "text/plain": [
              "array([], dtype=object)"
            ]
          },
          "metadata": {},
          "execution_count": 671
        }
      ]
    },
    {
      "cell_type": "code",
      "source": [
        "reduce(np.intersect1d, [df1.Upward_momentum_created, \n",
        "                        df4.Upward_momentum_created,\n",
        "                        df6.Upward_momentum_created,\n",
        "                        df10.Upward_momentum_created\n",
        "                        ])"
      ],
      "metadata": {
        "colab": {
          "base_uri": "https://localhost:8080/"
        },
        "outputId": "931943eb-46c0-478e-d1f9-114e9e405874",
        "id": "DGVtf5BuwcNF"
      },
      "execution_count": 672,
      "outputs": [
        {
          "output_type": "execute_result",
          "data": {
            "text/plain": [
              "array(['nan'], dtype=object)"
            ]
          },
          "metadata": {},
          "execution_count": 672
        }
      ]
    },
    {
      "cell_type": "code",
      "source": [
        "reduce(np.intersect1d, [df1.Downward_momentum_created, \n",
        "                        df4.Downward_momentum_created,\n",
        "                        df6.Downward_momentum_created,\n",
        "                        df10.Downward_momentum_created\n",
        "                        ])"
      ],
      "metadata": {
        "colab": {
          "base_uri": "https://localhost:8080/"
        },
        "outputId": "d6a28cda-fb60-4e4b-fb8f-bb3ec75466bd",
        "id": "4ISf4YCpwcNF"
      },
      "execution_count": 673,
      "outputs": [
        {
          "output_type": "execute_result",
          "data": {
            "text/plain": [
              "array(['B5_N_Dm', 'B5_O_Dm', 'Downward_momentum_created', 'N', 'O',\n",
              "       'Verified_status_False', 'Verified_status_True', 'nan'],\n",
              "      dtype=object)"
            ]
          },
          "metadata": {},
          "execution_count": 673
        }
      ]
    },
    {
      "cell_type": "code",
      "source": [
        "reduce(np.intersect1d, [df1.Verified_status_True, \n",
        "                        df4.Verified_status_True,\n",
        "                        df6.Verified_status_True,\n",
        "                        df10.Verified_status_True\n",
        "                        ])"
      ],
      "metadata": {
        "colab": {
          "base_uri": "https://localhost:8080/"
        },
        "outputId": "4c0643bc-4b04-4885-845e-2db26501d18f",
        "id": "-EiF6qVWwcNF"
      },
      "execution_count": 674,
      "outputs": [
        {
          "output_type": "execute_result",
          "data": {
            "text/plain": [
              "array(['B5_N_Dm', 'B5_O_Dm', 'Downward_momentum_created', 'N', 'O',\n",
              "       'Verified_status_False', 'Verified_status_True', 'nan'],\n",
              "      dtype=object)"
            ]
          },
          "metadata": {},
          "execution_count": 674
        }
      ]
    },
    {
      "cell_type": "code",
      "source": [
        "reduce(np.intersect1d, [df1.Verified_status_False, \n",
        "                        df4.Verified_status_False,\n",
        "                        df6.Verified_status_False,\n",
        "                        df10.Verified_status_False\n",
        "                        ])"
      ],
      "metadata": {
        "colab": {
          "base_uri": "https://localhost:8080/"
        },
        "outputId": "f1857fdf-2d63-475a-b758-1431c370a1e1",
        "id": "7ZkhSc6FwcNG"
      },
      "execution_count": 675,
      "outputs": [
        {
          "output_type": "execute_result",
          "data": {
            "text/plain": [
              "array(['B5_N_Dm', 'B5_O_Dm', 'Downward_momentum_created', 'N', 'O',\n",
              "       'TRANGE', 'Verified_status_False', 'Verified_status_True',\n",
              "       'Volume'], dtype=object)"
            ]
          },
          "metadata": {},
          "execution_count": 675
        }
      ]
    },
    {
      "cell_type": "markdown",
      "source": [
        "**Large size:**"
      ],
      "metadata": {
        "id": "UbHUSUQNwcNG"
      }
    },
    {
      "cell_type": "code",
      "source": [
        "reduce(np.intersect1d, [df5.AvgTrueRange, \n",
        "                        df7.AvgTrueRange,\n",
        "                        df12.AvgTrueRange\n",
        "                        ])"
      ],
      "metadata": {
        "colab": {
          "base_uri": "https://localhost:8080/"
        },
        "outputId": "eabfa610-978b-4c70-b3a6-ea61275b9033",
        "id": "AFFWVEGezWRC"
      },
      "execution_count": 676,
      "outputs": [
        {
          "output_type": "execute_result",
          "data": {
            "text/plain": [
              "array(['AvgTrueRange', 'NATR', 'TRANGE', 'Variance', 'vol_current',\n",
              "       'vol_future'], dtype=object)"
            ]
          },
          "metadata": {},
          "execution_count": 676
        }
      ]
    },
    {
      "cell_type": "code",
      "source": [
        "reduce(np.intersect1d, [df5.NATR, \n",
        "                        df7.NATR,\n",
        "                        df12.NATR\n",
        "                        ])"
      ],
      "metadata": {
        "colab": {
          "base_uri": "https://localhost:8080/"
        },
        "outputId": "1fe7700e-2325-42a8-ffc9-f98daf56b1d7",
        "id": "SUNuCwEzzWRK"
      },
      "execution_count": 677,
      "outputs": [
        {
          "output_type": "execute_result",
          "data": {
            "text/plain": [
              "array(['AvgTrueRange', 'NATR', 'vol_current', 'vol_future'], dtype=object)"
            ]
          },
          "metadata": {},
          "execution_count": 677
        }
      ]
    },
    {
      "cell_type": "code",
      "source": [
        "reduce(np.intersect1d, [df5.TRANGE, \n",
        "                        df7.TRANGE,\n",
        "                        df12.TRANGE\n",
        "                        ])"
      ],
      "metadata": {
        "colab": {
          "base_uri": "https://localhost:8080/"
        },
        "outputId": "a5d41148-e288-41ca-99d6-5253e4f5a098",
        "id": "n29PuksUzWRK"
      },
      "execution_count": 678,
      "outputs": [
        {
          "output_type": "execute_result",
          "data": {
            "text/plain": [
              "array(['AvgTrueRange', 'TRANGE'], dtype=object)"
            ]
          },
          "metadata": {},
          "execution_count": 678
        }
      ]
    },
    {
      "cell_type": "code",
      "source": [
        "reduce(np.intersect1d, [df5.O, \n",
        "                        df7.O,\n",
        "                        df12.O\n",
        "                        ])"
      ],
      "metadata": {
        "colab": {
          "base_uri": "https://localhost:8080/"
        },
        "outputId": "72ed7d93-6536-41cf-a8b1-5e31eb11cfe0",
        "id": "6BaVJaoVzWRL"
      },
      "execution_count": 679,
      "outputs": [
        {
          "output_type": "execute_result",
          "data": {
            "text/plain": [
              "array(['B5_O_Dm', 'Downward_momentum_created', 'Fake_news', 'O',\n",
              "       'Verified_status_False', 'Verified_status_True', 'nan'],\n",
              "      dtype=object)"
            ]
          },
          "metadata": {},
          "execution_count": 679
        }
      ]
    },
    {
      "cell_type": "code",
      "source": [
        "reduce(np.intersect1d, [df5.C, \n",
        "                        df7.C,\n",
        "                        df12.C\n",
        "                        ])"
      ],
      "metadata": {
        "colab": {
          "base_uri": "https://localhost:8080/"
        },
        "outputId": "e69d8dad-f8b6-4b24-ba68-5f5b32e6c5a0",
        "id": "8iCztw63zWRL"
      },
      "execution_count": 680,
      "outputs": [
        {
          "output_type": "execute_result",
          "data": {
            "text/plain": [
              "array(['nan'], dtype=object)"
            ]
          },
          "metadata": {},
          "execution_count": 680
        }
      ]
    },
    {
      "cell_type": "code",
      "source": [
        "reduce(np.intersect1d, [df5.E, \n",
        "                        df7.E,\n",
        "                        df12.E\n",
        "                        ])"
      ],
      "metadata": {
        "colab": {
          "base_uri": "https://localhost:8080/"
        },
        "outputId": "9349f241-8e07-4c21-aabf-02e1165f6a2f",
        "id": "-T4_PI_gzWRL"
      },
      "execution_count": 681,
      "outputs": [
        {
          "output_type": "execute_result",
          "data": {
            "text/plain": [
              "array(['nan'], dtype=object)"
            ]
          },
          "metadata": {},
          "execution_count": 681
        }
      ]
    },
    {
      "cell_type": "code",
      "source": [
        "reduce(np.intersect1d, [df5.A, \n",
        "                        df7.A,\n",
        "                        df12.A\n",
        "                        ])"
      ],
      "metadata": {
        "colab": {
          "base_uri": "https://localhost:8080/"
        },
        "outputId": "b476bb17-3107-4f57-d032-6c18faeecc63",
        "id": "S20JN2hBzWRL"
      },
      "execution_count": 682,
      "outputs": [
        {
          "output_type": "execute_result",
          "data": {
            "text/plain": [
              "array(['nan'], dtype=object)"
            ]
          },
          "metadata": {},
          "execution_count": 682
        }
      ]
    },
    {
      "cell_type": "code",
      "source": [
        "reduce(np.intersect1d, [df5.N, \n",
        "                        df7.N,\n",
        "                        df12.N\n",
        "                        ])"
      ],
      "metadata": {
        "colab": {
          "base_uri": "https://localhost:8080/"
        },
        "outputId": "bc94a72a-4dc8-4b12-cbc8-ed28f33920a8",
        "id": "Bll6tjMbzWRL"
      },
      "execution_count": 683,
      "outputs": [
        {
          "output_type": "execute_result",
          "data": {
            "text/plain": [
              "array(['nan'], dtype=object)"
            ]
          },
          "metadata": {},
          "execution_count": 683
        }
      ]
    },
    {
      "cell_type": "code",
      "source": [
        "reduce(np.intersect1d, [df5.B5_O_Um, \n",
        "                        df7.B5_O_Um,\n",
        "                        df12.B5_O_Um\n",
        "                        ])"
      ],
      "metadata": {
        "colab": {
          "base_uri": "https://localhost:8080/"
        },
        "outputId": "920b0934-83ff-438b-edf0-bc39c60717ba",
        "id": "pIf7Es8ZzWRL"
      },
      "execution_count": 684,
      "outputs": [
        {
          "output_type": "execute_result",
          "data": {
            "text/plain": [
              "array(['nan'], dtype=object)"
            ]
          },
          "metadata": {},
          "execution_count": 684
        }
      ]
    },
    {
      "cell_type": "code",
      "source": [
        "reduce(np.intersect1d, [df5.B5_C_Um, \n",
        "                        df7.B5_C_Um,\n",
        "                        df12.B5_C_Um\n",
        "                        ])"
      ],
      "metadata": {
        "colab": {
          "base_uri": "https://localhost:8080/"
        },
        "outputId": "0d4e1429-5c86-474f-fc11-e9ace47c98a6",
        "id": "9OqIsM8AzWRM"
      },
      "execution_count": 685,
      "outputs": [
        {
          "output_type": "execute_result",
          "data": {
            "text/plain": [
              "array(['nan'], dtype=object)"
            ]
          },
          "metadata": {},
          "execution_count": 685
        }
      ]
    },
    {
      "cell_type": "code",
      "source": [
        "reduce(np.intersect1d, [df5.B5_E_Um, \n",
        "                        df7.B5_E_Um,\n",
        "                        df12.B5_E_Um\n",
        "                        ])"
      ],
      "metadata": {
        "colab": {
          "base_uri": "https://localhost:8080/"
        },
        "outputId": "da513131-3435-47c8-a76f-aa64960c2840",
        "id": "zO6TSMfOzWRM"
      },
      "execution_count": 686,
      "outputs": [
        {
          "output_type": "execute_result",
          "data": {
            "text/plain": [
              "array(['nan'], dtype=object)"
            ]
          },
          "metadata": {},
          "execution_count": 686
        }
      ]
    },
    {
      "cell_type": "code",
      "source": [
        "reduce(np.intersect1d, [df5.B5_A_Um, \n",
        "                        df7.B5_A_Um,\n",
        "                        df12.B5_A_Um\n",
        "                        ])"
      ],
      "metadata": {
        "colab": {
          "base_uri": "https://localhost:8080/"
        },
        "outputId": "d9277caa-dc20-4061-e5bb-adc845a3be04",
        "id": "U-zsOj6rzWRM"
      },
      "execution_count": 687,
      "outputs": [
        {
          "output_type": "execute_result",
          "data": {
            "text/plain": [
              "array(['nan'], dtype=object)"
            ]
          },
          "metadata": {},
          "execution_count": 687
        }
      ]
    },
    {
      "cell_type": "code",
      "source": [
        "reduce(np.intersect1d, [df5.B5_N_Um, \n",
        "                        df7.B5_N_Um,\n",
        "                        df12.B5_N_Um\n",
        "                        ])"
      ],
      "metadata": {
        "colab": {
          "base_uri": "https://localhost:8080/"
        },
        "outputId": "2c10a06e-1c15-4ae4-96a2-4db52a8b3f0b",
        "id": "rpwFaqAAzWRM"
      },
      "execution_count": 688,
      "outputs": [
        {
          "output_type": "execute_result",
          "data": {
            "text/plain": [
              "array(['nan'], dtype=object)"
            ]
          },
          "metadata": {},
          "execution_count": 688
        }
      ]
    },
    {
      "cell_type": "code",
      "source": [
        "reduce(np.intersect1d, [df5.B5_O_Dm, \n",
        "                        df7.B5_O_Dm,\n",
        "                        df12.B5_O_Dm\n",
        "                        ])"
      ],
      "metadata": {
        "colab": {
          "base_uri": "https://localhost:8080/"
        },
        "outputId": "850150da-c49b-4882-d74a-b2444b9689a6",
        "id": "BAFsRnGLzWRM"
      },
      "execution_count": 689,
      "outputs": [
        {
          "output_type": "execute_result",
          "data": {
            "text/plain": [
              "array(['B5_O_Dm', 'Downward_momentum_created', 'Fake_news', 'O',\n",
              "       'Verified_status_False', 'Verified_status_True', 'nan'],\n",
              "      dtype=object)"
            ]
          },
          "metadata": {},
          "execution_count": 689
        }
      ]
    },
    {
      "cell_type": "code",
      "source": [
        "reduce(np.intersect1d, [df5.B5_C_Dm, \n",
        "                        df7.B5_C_Dm,\n",
        "                        df12.B5_C_Dm\n",
        "                        ])"
      ],
      "metadata": {
        "colab": {
          "base_uri": "https://localhost:8080/"
        },
        "outputId": "58b715ae-9ddd-4756-f8b8-f1bf0a986711",
        "id": "gyNFkevRzWRM"
      },
      "execution_count": 690,
      "outputs": [
        {
          "output_type": "execute_result",
          "data": {
            "text/plain": [
              "array(['nan'], dtype=object)"
            ]
          },
          "metadata": {},
          "execution_count": 690
        }
      ]
    },
    {
      "cell_type": "code",
      "source": [
        "reduce(np.intersect1d, [df5.B5_E_Dm, \n",
        "                        df7.B5_E_Dm,\n",
        "                        df12.B5_E_Dm\n",
        "                        ])"
      ],
      "metadata": {
        "colab": {
          "base_uri": "https://localhost:8080/"
        },
        "outputId": "04fcbed2-9494-4acc-8d5a-215bddf795e9",
        "id": "Vp2HL7n1zWRM"
      },
      "execution_count": 691,
      "outputs": [
        {
          "output_type": "execute_result",
          "data": {
            "text/plain": [
              "array(['nan'], dtype=object)"
            ]
          },
          "metadata": {},
          "execution_count": 691
        }
      ]
    },
    {
      "cell_type": "code",
      "source": [
        "reduce(np.intersect1d, [df5.B5_A_Dm, \n",
        "                        df7.B5_A_Dm,\n",
        "                        df12.B5_A_Dm\n",
        "                        ])"
      ],
      "metadata": {
        "colab": {
          "base_uri": "https://localhost:8080/"
        },
        "outputId": "ea6b8cec-5541-4840-fd26-2d31800f0c79",
        "id": "4UfhZqNvzWRN"
      },
      "execution_count": 692,
      "outputs": [
        {
          "output_type": "execute_result",
          "data": {
            "text/plain": [
              "array(['nan'], dtype=object)"
            ]
          },
          "metadata": {},
          "execution_count": 692
        }
      ]
    },
    {
      "cell_type": "code",
      "source": [
        "reduce(np.intersect1d, [df5.B5_N_Dm, \n",
        "                        df7.B5_N_Dm,\n",
        "                        df12.B5_N_Dm\n",
        "                        ])"
      ],
      "metadata": {
        "colab": {
          "base_uri": "https://localhost:8080/"
        },
        "outputId": "17a4d8a2-2047-40ce-e106-807d9a2c94c1",
        "id": "YL_Ut-YVzWRN"
      },
      "execution_count": 693,
      "outputs": [
        {
          "output_type": "execute_result",
          "data": {
            "text/plain": [
              "array(['nan'], dtype=object)"
            ]
          },
          "metadata": {},
          "execution_count": 693
        }
      ]
    },
    {
      "cell_type": "code",
      "source": [
        "reduce(np.intersect1d, [df5.Fake_news, \n",
        "                        df7.Fake_news,\n",
        "                        df12.Fake_news\n",
        "                        ])"
      ],
      "metadata": {
        "colab": {
          "base_uri": "https://localhost:8080/"
        },
        "outputId": "94183909-5273-4c76-9166-a14638d53aad",
        "id": "i3qY_5rmzWRN"
      },
      "execution_count": 694,
      "outputs": [
        {
          "output_type": "execute_result",
          "data": {
            "text/plain": [
              "array(['B5_O_Dm', 'Downward_momentum_created', 'Fake_news', 'O',\n",
              "       'Verified_status_False', 'Verified_status_True', 'nan'],\n",
              "      dtype=object)"
            ]
          },
          "metadata": {},
          "execution_count": 694
        }
      ]
    },
    {
      "cell_type": "code",
      "source": [
        "reduce(np.intersect1d, [df5.Upward_momentum_created, \n",
        "                        df7.Upward_momentum_created,\n",
        "                        df12.Upward_momentum_created\n",
        "                        ])"
      ],
      "metadata": {
        "colab": {
          "base_uri": "https://localhost:8080/"
        },
        "outputId": "47f6f950-c55f-4f71-caa7-669d57f19349",
        "id": "AuhkyFgBzWRN"
      },
      "execution_count": 695,
      "outputs": [
        {
          "output_type": "execute_result",
          "data": {
            "text/plain": [
              "array(['nan'], dtype=object)"
            ]
          },
          "metadata": {},
          "execution_count": 695
        }
      ]
    },
    {
      "cell_type": "code",
      "source": [
        "reduce(np.intersect1d, [df5.Downward_momentum_created, \n",
        "                        df7.Downward_momentum_created,\n",
        "                        df12.Downward_momentum_created\n",
        "                        ])"
      ],
      "metadata": {
        "colab": {
          "base_uri": "https://localhost:8080/"
        },
        "outputId": "4d4906d5-3dd2-444a-fcc8-278d4884eedc",
        "id": "qP5QMhKnzWRN"
      },
      "execution_count": 696,
      "outputs": [
        {
          "output_type": "execute_result",
          "data": {
            "text/plain": [
              "array(['B5_O_Dm', 'Downward_momentum_created', 'Fake_news', 'O',\n",
              "       'Verified_status_False', 'Verified_status_True', 'nan'],\n",
              "      dtype=object)"
            ]
          },
          "metadata": {},
          "execution_count": 696
        }
      ]
    },
    {
      "cell_type": "code",
      "source": [
        "reduce(np.intersect1d, [df5.Verified_status_True, \n",
        "                        df7.Verified_status_True,\n",
        "                        df12.Verified_status_True\n",
        "                        ])"
      ],
      "metadata": {
        "colab": {
          "base_uri": "https://localhost:8080/"
        },
        "outputId": "850bcaae-f991-4257-b06d-432518d31293",
        "id": "yPNmAiQnzWRN"
      },
      "execution_count": 697,
      "outputs": [
        {
          "output_type": "execute_result",
          "data": {
            "text/plain": [
              "array(['B5_O_Dm', 'Downward_momentum_created', 'Fake_news', 'O',\n",
              "       'Verified_status_False', 'Verified_status_True', 'nan'],\n",
              "      dtype=object)"
            ]
          },
          "metadata": {},
          "execution_count": 697
        }
      ]
    },
    {
      "cell_type": "code",
      "source": [
        "reduce(np.intersect1d, [df5.Verified_status_False, \n",
        "                        df7.Verified_status_False,\n",
        "                        df12.Verified_status_False\n",
        "                        ])"
      ],
      "metadata": {
        "colab": {
          "base_uri": "https://localhost:8080/"
        },
        "outputId": "7e507313-321e-4299-e7fe-08bc14edb07c",
        "id": "NhidQY5ezWRO"
      },
      "execution_count": 698,
      "outputs": [
        {
          "output_type": "execute_result",
          "data": {
            "text/plain": [
              "array(['B5_O_Dm', 'Downward_momentum_created', 'Fake_news', 'O',\n",
              "       'Verified_status_False', 'Verified_status_True', 'nan'],\n",
              "      dtype=object)"
            ]
          },
          "metadata": {},
          "execution_count": 698
        }
      ]
    },
    {
      "cell_type": "markdown",
      "source": [
        "**Type of industry**"
      ],
      "metadata": {
        "id": "xgTIcnbj23zc"
      }
    },
    {
      "cell_type": "markdown",
      "source": [
        "**Technology:**"
      ],
      "metadata": {
        "id": "njaOPXfJ3Ehk"
      }
    },
    {
      "cell_type": "code",
      "source": [
        "reduce(np.intersect1d, [df1.AvgTrueRange, \n",
        "                        df2.AvgTrueRange,\n",
        "                        df4.AvgTrueRange,\n",
        "                        df6.AvgTrueRange, \n",
        "                        df12.AvgTrueRange,\n",
        "                        df14.AvgTrueRange\n",
        "                        ])"
      ],
      "metadata": {
        "colab": {
          "base_uri": "https://localhost:8080/"
        },
        "outputId": "2cdf7703-e9d5-4829-b6a4-ec0652a3b921",
        "id": "bXOOXwqJ36oK"
      },
      "execution_count": 699,
      "outputs": [
        {
          "output_type": "execute_result",
          "data": {
            "text/plain": [
              "array(['AvgTrueRange', 'TRANGE', 'Variance'], dtype=object)"
            ]
          },
          "metadata": {},
          "execution_count": 699
        }
      ]
    },
    {
      "cell_type": "code",
      "source": [
        "reduce(np.intersect1d, [df1.NATR, \n",
        "                        df2.NATR,\n",
        "                        df4.NATR,\n",
        "                        df6.NATR, \n",
        "                        df12.NATR,\n",
        "                        df14.NATR\n",
        "                        ])"
      ],
      "metadata": {
        "colab": {
          "base_uri": "https://localhost:8080/"
        },
        "outputId": "25bc374c-9fb3-40e5-f96a-3b17ac5df463",
        "id": "VxY5x0r_36oL"
      },
      "execution_count": 700,
      "outputs": [
        {
          "output_type": "execute_result",
          "data": {
            "text/plain": [
              "array(['NATR'], dtype=object)"
            ]
          },
          "metadata": {},
          "execution_count": 700
        }
      ]
    },
    {
      "cell_type": "code",
      "source": [
        "reduce(np.intersect1d, [df1.TRANGE, \n",
        "                        df2.TRANGE,\n",
        "                        df4.TRANGE,\n",
        "                        df6.TRANGE, \n",
        "                        df12.TRANGE,\n",
        "                        df14.TRANGE\n",
        "                        ])"
      ],
      "metadata": {
        "colab": {
          "base_uri": "https://localhost:8080/"
        },
        "outputId": "5d00d00f-4793-4422-f6ce-e913da9a03a9",
        "id": "q6mrCbSi36oL"
      },
      "execution_count": 701,
      "outputs": [
        {
          "output_type": "execute_result",
          "data": {
            "text/plain": [
              "array(['AvgTrueRange', 'E', 'N', 'O', 'TRANGE', 'Verified_status_False',\n",
              "       'Volume'], dtype=object)"
            ]
          },
          "metadata": {},
          "execution_count": 701
        }
      ]
    },
    {
      "cell_type": "code",
      "source": [
        "reduce(np.intersect1d, [df1.O, \n",
        "                        df2.O,\n",
        "                        df4.O,\n",
        "                        df6.O, \n",
        "                        df12.O,\n",
        "                        df14.O\n",
        "                        ])"
      ],
      "metadata": {
        "colab": {
          "base_uri": "https://localhost:8080/"
        },
        "outputId": "3c0c3018-df0c-4a39-ae2b-dda965e324ea",
        "id": "5OFQGWLr36oL"
      },
      "execution_count": 702,
      "outputs": [
        {
          "output_type": "execute_result",
          "data": {
            "text/plain": [
              "array(['B5_E_Dm', 'B5_N_Dm', 'B5_O_Dm', 'Downward_momentum_created', 'E',\n",
              "       'N', 'O', 'TRANGE', 'Verified_status_False', 'Volume'],\n",
              "      dtype=object)"
            ]
          },
          "metadata": {},
          "execution_count": 702
        }
      ]
    },
    {
      "cell_type": "code",
      "source": [
        "reduce(np.intersect1d, [df1.C, \n",
        "                        df2.C,\n",
        "                        df4.C,\n",
        "                        df6.C, \n",
        "                        df12.C,\n",
        "                        df14.C\n",
        "                        ])"
      ],
      "metadata": {
        "colab": {
          "base_uri": "https://localhost:8080/"
        },
        "outputId": "1d7524d2-c532-44d0-a092-d8099c666d91",
        "id": "oHkItUvO36oL"
      },
      "execution_count": 703,
      "outputs": [
        {
          "output_type": "execute_result",
          "data": {
            "text/plain": [
              "array(['nan'], dtype=object)"
            ]
          },
          "metadata": {},
          "execution_count": 703
        }
      ]
    },
    {
      "cell_type": "code",
      "source": [
        "reduce(np.intersect1d, [df1.E, \n",
        "                        df2.E,\n",
        "                        df4.E,\n",
        "                        df6.E, \n",
        "                        df12.E,\n",
        "                        df14.E\n",
        "                        ])"
      ],
      "metadata": {
        "colab": {
          "base_uri": "https://localhost:8080/"
        },
        "outputId": "30349f20-a988-4253-cf3a-7b8994841471",
        "id": "EfnMlQns36oM"
      },
      "execution_count": 704,
      "outputs": [
        {
          "output_type": "execute_result",
          "data": {
            "text/plain": [
              "array(['B5_E_Dm', 'B5_N_Dm', 'B5_O_Dm', 'Downward_momentum_created', 'E',\n",
              "       'N', 'O', 'TRANGE', 'Verified_status_False', 'Volume'],\n",
              "      dtype=object)"
            ]
          },
          "metadata": {},
          "execution_count": 704
        }
      ]
    },
    {
      "cell_type": "code",
      "source": [
        "reduce(np.intersect1d, [df1.A, \n",
        "                        df2.A,\n",
        "                        df4.A,\n",
        "                        df6.A, \n",
        "                        df12.A,\n",
        "                        df14.A\n",
        "                        ])"
      ],
      "metadata": {
        "colab": {
          "base_uri": "https://localhost:8080/"
        },
        "outputId": "d092deef-6aa1-4442-c53f-c02a7b7b85f0",
        "id": "ETLEbp4G36oM"
      },
      "execution_count": 705,
      "outputs": [
        {
          "output_type": "execute_result",
          "data": {
            "text/plain": [
              "array(['nan'], dtype=object)"
            ]
          },
          "metadata": {},
          "execution_count": 705
        }
      ]
    },
    {
      "cell_type": "code",
      "source": [
        "reduce(np.intersect1d, [df1.N, \n",
        "                        df2.N,\n",
        "                        df4.N,\n",
        "                        df6.N, \n",
        "                        df12.N,\n",
        "                        df14.N\n",
        "                        ])"
      ],
      "metadata": {
        "colab": {
          "base_uri": "https://localhost:8080/"
        },
        "outputId": "49704f43-1c15-4b48-c68b-c5e3818ff225",
        "id": "LQx-jpVu36oM"
      },
      "execution_count": 706,
      "outputs": [
        {
          "output_type": "execute_result",
          "data": {
            "text/plain": [
              "array(['B5_E_Dm', 'B5_N_Dm', 'B5_O_Dm', 'Downward_momentum_created', 'E',\n",
              "       'N', 'O', 'TRANGE', 'Verified_status_False', 'Volume'],\n",
              "      dtype=object)"
            ]
          },
          "metadata": {},
          "execution_count": 706
        }
      ]
    },
    {
      "cell_type": "code",
      "source": [
        "reduce(np.intersect1d, [df1.B5_O_Um, \n",
        "                        df2.B5_O_Um,\n",
        "                        df4.B5_O_Um,\n",
        "                        df6.B5_O_Um, \n",
        "                        df12.B5_O_Um,\n",
        "                        df14.B5_O_Um\n",
        "                        ])"
      ],
      "metadata": {
        "colab": {
          "base_uri": "https://localhost:8080/"
        },
        "outputId": "86a4d367-c6c4-430d-c9f6-76ae61a4fe0b",
        "id": "STtQ5m0y36oM"
      },
      "execution_count": 707,
      "outputs": [
        {
          "output_type": "execute_result",
          "data": {
            "text/plain": [
              "array(['nan'], dtype=object)"
            ]
          },
          "metadata": {},
          "execution_count": 707
        }
      ]
    },
    {
      "cell_type": "code",
      "source": [
        "reduce(np.intersect1d, [df1.B5_C_Um, \n",
        "                        df2.B5_C_Um,\n",
        "                        df4.B5_C_Um,\n",
        "                        df6.B5_C_Um, \n",
        "                        df12.B5_C_Um,\n",
        "                        df14.B5_C_Um\n",
        "                        ])"
      ],
      "metadata": {
        "colab": {
          "base_uri": "https://localhost:8080/"
        },
        "outputId": "64a6e9c3-d29e-400a-9e8b-d59fc7959b37",
        "id": "pniEOlZ336oM"
      },
      "execution_count": 708,
      "outputs": [
        {
          "output_type": "execute_result",
          "data": {
            "text/plain": [
              "array(['nan'], dtype=object)"
            ]
          },
          "metadata": {},
          "execution_count": 708
        }
      ]
    },
    {
      "cell_type": "code",
      "source": [
        "reduce(np.intersect1d, [df1.B5_E_Um, \n",
        "                        df2.B5_E_Um,\n",
        "                        df4.B5_E_Um,\n",
        "                        df6.B5_E_Um, \n",
        "                        df12.B5_E_Um,\n",
        "                        df14.B5_E_Um\n",
        "                        ])"
      ],
      "metadata": {
        "colab": {
          "base_uri": "https://localhost:8080/"
        },
        "outputId": "a43c07ac-23aa-4944-c952-a8c4358a3626",
        "id": "nZ8tl1hX36oM"
      },
      "execution_count": 709,
      "outputs": [
        {
          "output_type": "execute_result",
          "data": {
            "text/plain": [
              "array(['nan'], dtype=object)"
            ]
          },
          "metadata": {},
          "execution_count": 709
        }
      ]
    },
    {
      "cell_type": "code",
      "source": [
        "reduce(np.intersect1d, [df1.B5_A_Um, \n",
        "                        df2.B5_A_Um,\n",
        "                        df4.B5_A_Um,\n",
        "                        df6.B5_A_Um, \n",
        "                        df12.B5_A_Um,\n",
        "                        df14.B5_A_Um\n",
        "                        ])"
      ],
      "metadata": {
        "colab": {
          "base_uri": "https://localhost:8080/"
        },
        "outputId": "20b1ca72-2cda-42c6-fa34-03378c1db35f",
        "id": "VKwHv7LE36oN"
      },
      "execution_count": 710,
      "outputs": [
        {
          "output_type": "execute_result",
          "data": {
            "text/plain": [
              "array(['nan'], dtype=object)"
            ]
          },
          "metadata": {},
          "execution_count": 710
        }
      ]
    },
    {
      "cell_type": "code",
      "source": [
        "reduce(np.intersect1d, [df1.B5_N_Um, \n",
        "                        df2.B5_N_Um,\n",
        "                        df4.B5_N_Um,\n",
        "                        df6.B5_N_Um, \n",
        "                        df12.B5_N_Um,\n",
        "                        df14.B5_N_Um\n",
        "                        ])"
      ],
      "metadata": {
        "colab": {
          "base_uri": "https://localhost:8080/"
        },
        "outputId": "de30c3ac-b1f8-4129-9ae6-5ab85199ce5c",
        "id": "x6zSH2tS36oN"
      },
      "execution_count": 711,
      "outputs": [
        {
          "output_type": "execute_result",
          "data": {
            "text/plain": [
              "array(['nan'], dtype=object)"
            ]
          },
          "metadata": {},
          "execution_count": 711
        }
      ]
    },
    {
      "cell_type": "code",
      "source": [
        ""
      ],
      "metadata": {
        "id": "FpuXFAk536oN"
      },
      "execution_count": 711,
      "outputs": []
    },
    {
      "cell_type": "code",
      "source": [
        "reduce(np.intersect1d, [df1.B5_O_Dm, \n",
        "                        df2.B5_O_Dm,\n",
        "                        df4.B5_O_Dm,\n",
        "                        df6.B5_O_Dm, \n",
        "                        df12.B5_O_Dm,\n",
        "                        df14.B5_O_Dm\n",
        "                        ])"
      ],
      "metadata": {
        "colab": {
          "base_uri": "https://localhost:8080/"
        },
        "outputId": "e61b44d9-188a-408b-a281-70f1fde67a8e",
        "id": "_bcV9fkD36oN"
      },
      "execution_count": 712,
      "outputs": [
        {
          "output_type": "execute_result",
          "data": {
            "text/plain": [
              "array(['B5_E_Dm', 'B5_N_Dm', 'B5_O_Dm', 'Downward_momentum_created', 'E',\n",
              "       'N', 'O', 'Verified_status_False', 'nan'], dtype=object)"
            ]
          },
          "metadata": {},
          "execution_count": 712
        }
      ]
    },
    {
      "cell_type": "code",
      "source": [
        "reduce(np.intersect1d, [df1.B5_C_Dm, \n",
        "                        df2.B5_C_Dm,\n",
        "                        df4.B5_C_Dm,\n",
        "                        df6.B5_C_Dm, \n",
        "                        df12.B5_C_Dm,\n",
        "                        df14.B5_C_Dm\n",
        "                        ])"
      ],
      "metadata": {
        "colab": {
          "base_uri": "https://localhost:8080/"
        },
        "outputId": "a250da2d-5f4b-42ca-b734-82b4df4736f5",
        "id": "KvNUyIoA36oN"
      },
      "execution_count": 713,
      "outputs": [
        {
          "output_type": "execute_result",
          "data": {
            "text/plain": [
              "array(['nan'], dtype=object)"
            ]
          },
          "metadata": {},
          "execution_count": 713
        }
      ]
    },
    {
      "cell_type": "code",
      "source": [
        "reduce(np.intersect1d, [df1.B5_E_Dm, \n",
        "                        df2.B5_E_Dm,\n",
        "                        df4.B5_E_Dm,\n",
        "                        df6.B5_E_Dm, \n",
        "                        df12.B5_E_Dm,\n",
        "                        df14.B5_E_Dm\n",
        "                        ])"
      ],
      "metadata": {
        "colab": {
          "base_uri": "https://localhost:8080/"
        },
        "outputId": "99ae1411-8de7-4639-a129-7d71e29ae93c",
        "id": "LHnkGKm_36oN"
      },
      "execution_count": 714,
      "outputs": [
        {
          "output_type": "execute_result",
          "data": {
            "text/plain": [
              "array(['B5_E_Dm', 'B5_N_Dm', 'B5_O_Dm', 'Downward_momentum_created', 'E',\n",
              "       'N', 'O', 'Verified_status_False', 'nan'], dtype=object)"
            ]
          },
          "metadata": {},
          "execution_count": 714
        }
      ]
    },
    {
      "cell_type": "code",
      "source": [
        "reduce(np.intersect1d, [df1.B5_A_Dm, \n",
        "                        df2.B5_A_Dm,\n",
        "                        df4.B5_A_Dm,\n",
        "                        df6.B5_A_Dm, \n",
        "                        df12.B5_A_Dm,\n",
        "                        df14.B5_A_Dm\n",
        "                        ])"
      ],
      "metadata": {
        "colab": {
          "base_uri": "https://localhost:8080/"
        },
        "outputId": "4d991123-f121-48e3-b975-777339ac9aa6",
        "id": "EFxFsDKA36oN"
      },
      "execution_count": 715,
      "outputs": [
        {
          "output_type": "execute_result",
          "data": {
            "text/plain": [
              "array(['nan'], dtype=object)"
            ]
          },
          "metadata": {},
          "execution_count": 715
        }
      ]
    },
    {
      "cell_type": "code",
      "source": [
        "reduce(np.intersect1d, [df1.B5_N_Dm, \n",
        "                        df2.B5_N_Dm,\n",
        "                        df4.B5_N_Dm,\n",
        "                        df6.B5_N_Dm, \n",
        "                        df12.B5_N_Dm,\n",
        "                        df14.B5_N_Dm\n",
        "                        ])"
      ],
      "metadata": {
        "colab": {
          "base_uri": "https://localhost:8080/"
        },
        "outputId": "a2f34b46-109e-400e-b505-9a1a3cdef3dd",
        "id": "EmimVEHK36oO"
      },
      "execution_count": 716,
      "outputs": [
        {
          "output_type": "execute_result",
          "data": {
            "text/plain": [
              "array(['B5_E_Dm', 'B5_N_Dm', 'B5_O_Dm', 'Downward_momentum_created', 'E',\n",
              "       'N', 'O', 'Verified_status_False', 'nan'], dtype=object)"
            ]
          },
          "metadata": {},
          "execution_count": 716
        }
      ]
    },
    {
      "cell_type": "code",
      "source": [
        "reduce(np.intersect1d, [df1.Fake_news, \n",
        "                        df2.Fake_news,\n",
        "                        df4.Fake_news,\n",
        "                        df6.Fake_news, \n",
        "                        df12.Fake_news,\n",
        "                        df14.Fake_news\n",
        "                        ])"
      ],
      "metadata": {
        "colab": {
          "base_uri": "https://localhost:8080/"
        },
        "outputId": "379e8307-67d0-43d0-f17a-5ae32c357d0b",
        "id": "Paqz0Nwj36oO"
      },
      "execution_count": 717,
      "outputs": [
        {
          "output_type": "execute_result",
          "data": {
            "text/plain": [
              "array([], dtype=object)"
            ]
          },
          "metadata": {},
          "execution_count": 717
        }
      ]
    },
    {
      "cell_type": "code",
      "source": [
        "reduce(np.intersect1d, [df1.Upward_momentum_created, \n",
        "                        df2.Upward_momentum_created,\n",
        "                        df4.Upward_momentum_created,\n",
        "                        df6.Upward_momentum_created, \n",
        "                        df12.Upward_momentum_created,\n",
        "                        df14.Upward_momentum_created\n",
        "                        ])"
      ],
      "metadata": {
        "colab": {
          "base_uri": "https://localhost:8080/"
        },
        "outputId": "4d37f024-5724-4021-8392-b34ce67f7d96",
        "id": "2s-6TzIK36oO"
      },
      "execution_count": 718,
      "outputs": [
        {
          "output_type": "execute_result",
          "data": {
            "text/plain": [
              "array(['nan'], dtype=object)"
            ]
          },
          "metadata": {},
          "execution_count": 718
        }
      ]
    },
    {
      "cell_type": "code",
      "source": [
        "reduce(np.intersect1d, [df1.Downward_momentum_created, \n",
        "                        df2.Downward_momentum_created,\n",
        "                        df4.Downward_momentum_created,\n",
        "                        df6.Downward_momentum_created, \n",
        "                        df12.Downward_momentum_created,\n",
        "                        df14.Downward_momentum_created\n",
        "                        ])"
      ],
      "metadata": {
        "colab": {
          "base_uri": "https://localhost:8080/"
        },
        "outputId": "f28360b9-49b4-4e01-913c-1669910a0d67",
        "id": "Rjwi3RCG36oO"
      },
      "execution_count": 719,
      "outputs": [
        {
          "output_type": "execute_result",
          "data": {
            "text/plain": [
              "array(['B5_E_Dm', 'B5_N_Dm', 'B5_O_Dm', 'Downward_momentum_created', 'E',\n",
              "       'N', 'O', 'Verified_status_False', 'nan'], dtype=object)"
            ]
          },
          "metadata": {},
          "execution_count": 719
        }
      ]
    },
    {
      "cell_type": "code",
      "source": [
        "reduce(np.intersect1d, [df1.Verified_status_True, \n",
        "                        df2.Verified_status_True,\n",
        "                        df4.Verified_status_True,\n",
        "                        df6.Verified_status_True, \n",
        "                        df12.Verified_status_True,\n",
        "                        df14.Verified_status_True\n",
        "                        ])"
      ],
      "metadata": {
        "colab": {
          "base_uri": "https://localhost:8080/"
        },
        "outputId": "7e84699b-8437-4a34-beea-7e19d8bcbf5d",
        "id": "GP-iW5QJ36oO"
      },
      "execution_count": 720,
      "outputs": [
        {
          "output_type": "execute_result",
          "data": {
            "text/plain": [
              "array(['Verified_status_True', 'nan'], dtype=object)"
            ]
          },
          "metadata": {},
          "execution_count": 720
        }
      ]
    },
    {
      "cell_type": "code",
      "source": [
        "reduce(np.intersect1d, [df1.Verified_status_False, \n",
        "                        df2.Verified_status_False,\n",
        "                        df4.Verified_status_False,\n",
        "                        df6.Verified_status_False, \n",
        "                        df12.Verified_status_False,\n",
        "                        df14.Verified_status_False\n",
        "                        ])"
      ],
      "metadata": {
        "colab": {
          "base_uri": "https://localhost:8080/"
        },
        "outputId": "977d857f-a907-4349-c350-701ecc246073",
        "id": "EGIfS77k36oO"
      },
      "execution_count": 721,
      "outputs": [
        {
          "output_type": "execute_result",
          "data": {
            "text/plain": [
              "array(['B5_E_Dm', 'B5_N_Dm', 'B5_O_Dm', 'Downward_momentum_created', 'E',\n",
              "       'N', 'O', 'TRANGE', 'Verified_status_False', 'Volume'],\n",
              "      dtype=object)"
            ]
          },
          "metadata": {},
          "execution_count": 721
        }
      ]
    },
    {
      "cell_type": "markdown",
      "source": [
        "**Pharma**:"
      ],
      "metadata": {
        "id": "2B5Eqghg3L8H"
      }
    },
    {
      "cell_type": "code",
      "source": [
        "reduce(np.intersect1d, [df2.AvgTrueRange, \n",
        "                        df5.AvgTrueRange,\n",
        "                        df9.AvgTrueRange\n",
        "                        ])"
      ],
      "metadata": {
        "colab": {
          "base_uri": "https://localhost:8080/"
        },
        "outputId": "46318764-f562-49f6-a204-0125b242d302",
        "id": "RFPk3QjW392f"
      },
      "execution_count": 722,
      "outputs": [
        {
          "output_type": "execute_result",
          "data": {
            "text/plain": [
              "array(['AvgTrueRange', 'TRANGE', 'Variance', 'nan'], dtype=object)"
            ]
          },
          "metadata": {},
          "execution_count": 722
        }
      ]
    },
    {
      "cell_type": "code",
      "source": [
        "reduce(np.intersect1d, [df2.NATR, \n",
        "                        df5.NATR,\n",
        "                        df9.NATR\n",
        "                        ])"
      ],
      "metadata": {
        "colab": {
          "base_uri": "https://localhost:8080/"
        },
        "outputId": "d8186938-0101-4ce5-83a6-517b613a8e64",
        "id": "afsRGp-g392p"
      },
      "execution_count": 723,
      "outputs": [
        {
          "output_type": "execute_result",
          "data": {
            "text/plain": [
              "array(['NATR', 'vol_current', 'vol_future'], dtype=object)"
            ]
          },
          "metadata": {},
          "execution_count": 723
        }
      ]
    },
    {
      "cell_type": "code",
      "source": [
        "reduce(np.intersect1d, [df2.TRANGE, \n",
        "                        df5.TRANGE,\n",
        "                        df9.TRANGE\n",
        "                        ])"
      ],
      "metadata": {
        "colab": {
          "base_uri": "https://localhost:8080/"
        },
        "outputId": "3ae2b186-1f6c-4d7b-a621-124e1261a92f",
        "id": "C8R6pF_4392p"
      },
      "execution_count": 724,
      "outputs": [
        {
          "output_type": "execute_result",
          "data": {
            "text/plain": [
              "array(['AvgTrueRange', 'N', 'TRANGE', 'Verified_status_False', 'Volume'],\n",
              "      dtype=object)"
            ]
          },
          "metadata": {},
          "execution_count": 724
        }
      ]
    },
    {
      "cell_type": "code",
      "source": [
        "reduce(np.intersect1d, [df2.O, \n",
        "                        df5.O,\n",
        "                        df9.O\n",
        "                        ])"
      ],
      "metadata": {
        "colab": {
          "base_uri": "https://localhost:8080/"
        },
        "outputId": "e0f4fe0c-cad2-4694-ad9f-058eef9f87a4",
        "id": "Es-L8MmQ392y"
      },
      "execution_count": 725,
      "outputs": [
        {
          "output_type": "execute_result",
          "data": {
            "text/plain": [
              "array(['nan'], dtype=object)"
            ]
          },
          "metadata": {},
          "execution_count": 725
        }
      ]
    },
    {
      "cell_type": "code",
      "source": [
        "reduce(np.intersect1d, [df2.C, \n",
        "                        df5.C,\n",
        "                        df9.C\n",
        "                        ])"
      ],
      "metadata": {
        "colab": {
          "base_uri": "https://localhost:8080/"
        },
        "outputId": "6667e80a-2d6c-4658-908e-7b50f5e76d9f",
        "id": "yn0nq5Eb392z"
      },
      "execution_count": 726,
      "outputs": [
        {
          "output_type": "execute_result",
          "data": {
            "text/plain": [
              "array(['nan'], dtype=object)"
            ]
          },
          "metadata": {},
          "execution_count": 726
        }
      ]
    },
    {
      "cell_type": "code",
      "source": [
        "reduce(np.intersect1d, [df2.E, \n",
        "                        df5.E,\n",
        "                        df9.E\n",
        "                        ])"
      ],
      "metadata": {
        "colab": {
          "base_uri": "https://localhost:8080/"
        },
        "outputId": "75ab7773-b4b0-4c39-c445-f12d2a196b5d",
        "id": "iXIzypZj392z"
      },
      "execution_count": 727,
      "outputs": [
        {
          "output_type": "execute_result",
          "data": {
            "text/plain": [
              "array(['nan'], dtype=object)"
            ]
          },
          "metadata": {},
          "execution_count": 727
        }
      ]
    },
    {
      "cell_type": "code",
      "source": [
        "reduce(np.intersect1d, [df2.A, \n",
        "                        df5.A,\n",
        "                        df9.A\n",
        "                        ])"
      ],
      "metadata": {
        "colab": {
          "base_uri": "https://localhost:8080/"
        },
        "outputId": "8ebd1a05-4d7c-405b-b32f-55cf1a1f6edd",
        "id": "Lz1-D2tN3929"
      },
      "execution_count": 728,
      "outputs": [
        {
          "output_type": "execute_result",
          "data": {
            "text/plain": [
              "array(['nan'], dtype=object)"
            ]
          },
          "metadata": {},
          "execution_count": 728
        }
      ]
    },
    {
      "cell_type": "code",
      "source": [
        "reduce(np.intersect1d, [df2.N, \n",
        "                        df5.N,\n",
        "                        df9.N\n",
        "                        ])"
      ],
      "metadata": {
        "colab": {
          "base_uri": "https://localhost:8080/"
        },
        "outputId": "3b4b2d1c-8061-400c-ad84-b6deb080fd6d",
        "id": "_jz2jpHC3929"
      },
      "execution_count": 729,
      "outputs": [
        {
          "output_type": "execute_result",
          "data": {
            "text/plain": [
              "array(['B5_N_Dm', 'Downward_momentum_created', 'N', 'TRANGE',\n",
              "       'Verified_status_False', 'Verified_status_True', 'Volume', 'nan'],\n",
              "      dtype=object)"
            ]
          },
          "metadata": {},
          "execution_count": 729
        }
      ]
    },
    {
      "cell_type": "code",
      "source": [
        "reduce(np.intersect1d, [df2.B5_O_Um, \n",
        "                        df5.B5_O_Um,\n",
        "                        df9.B5_O_Um\n",
        "                        ])"
      ],
      "metadata": {
        "colab": {
          "base_uri": "https://localhost:8080/"
        },
        "outputId": "9a599783-6da3-476a-fcd5-b1f3050582f9",
        "id": "kkooeS_13929"
      },
      "execution_count": 730,
      "outputs": [
        {
          "output_type": "execute_result",
          "data": {
            "text/plain": [
              "array(['nan'], dtype=object)"
            ]
          },
          "metadata": {},
          "execution_count": 730
        }
      ]
    },
    {
      "cell_type": "code",
      "source": [
        "reduce(np.intersect1d, [df2.B5_C_Um, \n",
        "                        df5.B5_C_Um,\n",
        "                        df9.B5_C_Um\n",
        "                        ])"
      ],
      "metadata": {
        "colab": {
          "base_uri": "https://localhost:8080/"
        },
        "outputId": "c56b60df-5920-4d1b-b42e-7f576fa21996",
        "id": "RBLcHw2U393H"
      },
      "execution_count": 731,
      "outputs": [
        {
          "output_type": "execute_result",
          "data": {
            "text/plain": [
              "array(['nan'], dtype=object)"
            ]
          },
          "metadata": {},
          "execution_count": 731
        }
      ]
    },
    {
      "cell_type": "code",
      "source": [
        "reduce(np.intersect1d, [df2.B5_E_Um, \n",
        "                        df5.B5_E_Um,\n",
        "                        df9.B5_E_Um\n",
        "                        ])"
      ],
      "metadata": {
        "colab": {
          "base_uri": "https://localhost:8080/"
        },
        "outputId": "3d80d82f-73a7-4fa3-fd10-3f31fdb36380",
        "id": "V0p2j4qj393H"
      },
      "execution_count": 732,
      "outputs": [
        {
          "output_type": "execute_result",
          "data": {
            "text/plain": [
              "array(['nan'], dtype=object)"
            ]
          },
          "metadata": {},
          "execution_count": 732
        }
      ]
    },
    {
      "cell_type": "code",
      "source": [
        "reduce(np.intersect1d, [df2.B5_A_Um, \n",
        "                        df5.B5_A_Um,\n",
        "                        df9.B5_A_Um\n",
        "                        ])"
      ],
      "metadata": {
        "colab": {
          "base_uri": "https://localhost:8080/"
        },
        "outputId": "3571619e-a32b-4fb4-fee1-03edb95738d2",
        "id": "eIKAaC9R393I"
      },
      "execution_count": 733,
      "outputs": [
        {
          "output_type": "execute_result",
          "data": {
            "text/plain": [
              "array(['nan'], dtype=object)"
            ]
          },
          "metadata": {},
          "execution_count": 733
        }
      ]
    },
    {
      "cell_type": "code",
      "source": [
        "reduce(np.intersect1d, [df2.B5_N_Um, \n",
        "                        df5.B5_N_Um,\n",
        "                        df9.B5_N_Um\n",
        "                        ])"
      ],
      "metadata": {
        "colab": {
          "base_uri": "https://localhost:8080/"
        },
        "outputId": "3882fec6-6c98-4da8-9e45-f6f64ee7b2b0",
        "id": "sJ2Jgasm393R"
      },
      "execution_count": 734,
      "outputs": [
        {
          "output_type": "execute_result",
          "data": {
            "text/plain": [
              "array(['nan'], dtype=object)"
            ]
          },
          "metadata": {},
          "execution_count": 734
        }
      ]
    },
    {
      "cell_type": "code",
      "source": [
        "reduce(np.intersect1d, [df2.B5_O_Dm, \n",
        "                        df5.B5_O_Dm,\n",
        "                        df9.B5_O_Dm\n",
        "                        ])"
      ],
      "metadata": {
        "colab": {
          "base_uri": "https://localhost:8080/"
        },
        "outputId": "edc9b47c-e084-4a6c-8e3d-f71f628c6ab7",
        "id": "8TngId5_393S"
      },
      "execution_count": 735,
      "outputs": [
        {
          "output_type": "execute_result",
          "data": {
            "text/plain": [
              "array(['nan'], dtype=object)"
            ]
          },
          "metadata": {},
          "execution_count": 735
        }
      ]
    },
    {
      "cell_type": "code",
      "source": [
        "reduce(np.intersect1d, [df2.B5_C_Dm, \n",
        "                        df5.B5_C_Dm,\n",
        "                        df9.B5_C_Dm\n",
        "                        ])"
      ],
      "metadata": {
        "colab": {
          "base_uri": "https://localhost:8080/"
        },
        "outputId": "cd58be43-3d1c-45ff-a561-e0fcdb66eab8",
        "id": "N5acu_xj393b"
      },
      "execution_count": 736,
      "outputs": [
        {
          "output_type": "execute_result",
          "data": {
            "text/plain": [
              "array(['nan'], dtype=object)"
            ]
          },
          "metadata": {},
          "execution_count": 736
        }
      ]
    },
    {
      "cell_type": "code",
      "source": [
        "reduce(np.intersect1d, [df2.B5_E_Dm, \n",
        "                        df5.B5_E_Dm,\n",
        "                        df9.B5_E_Dm\n",
        "                        ])"
      ],
      "metadata": {
        "colab": {
          "base_uri": "https://localhost:8080/"
        },
        "outputId": "64e90249-4393-47bb-acee-d04ec1704cf9",
        "id": "lSS_SZ1c393c"
      },
      "execution_count": 737,
      "outputs": [
        {
          "output_type": "execute_result",
          "data": {
            "text/plain": [
              "array(['nan'], dtype=object)"
            ]
          },
          "metadata": {},
          "execution_count": 737
        }
      ]
    },
    {
      "cell_type": "code",
      "source": [
        "reduce(np.intersect1d, [df2.B5_A_Dm, \n",
        "                        df5.B5_A_Dm,\n",
        "                        df9.B5_A_Dm\n",
        "                        ])"
      ],
      "metadata": {
        "colab": {
          "base_uri": "https://localhost:8080/"
        },
        "outputId": "04abea0c-0c68-43dd-bd74-fed1b825d8b5",
        "id": "KQ6kfaif393c"
      },
      "execution_count": 738,
      "outputs": [
        {
          "output_type": "execute_result",
          "data": {
            "text/plain": [
              "array(['nan'], dtype=object)"
            ]
          },
          "metadata": {},
          "execution_count": 738
        }
      ]
    },
    {
      "cell_type": "code",
      "source": [
        "reduce(np.intersect1d, [df2.B5_N_Dm, \n",
        "                        df5.B5_N_Dm,\n",
        "                        df9.B5_N_Dm\n",
        "                        ])"
      ],
      "metadata": {
        "colab": {
          "base_uri": "https://localhost:8080/"
        },
        "outputId": "3fd5ebe8-5604-41d6-e0cf-317bd6f3b685",
        "id": "zd4Kocro393h"
      },
      "execution_count": 739,
      "outputs": [
        {
          "output_type": "execute_result",
          "data": {
            "text/plain": [
              "array(['B5_N_Dm', 'Downward_momentum_created', 'N',\n",
              "       'Verified_status_False', 'Verified_status_True', 'Volume', 'nan'],\n",
              "      dtype=object)"
            ]
          },
          "metadata": {},
          "execution_count": 739
        }
      ]
    },
    {
      "cell_type": "code",
      "source": [
        "reduce(np.intersect1d, [df2.Fake_news, \n",
        "                        df5.Fake_news,\n",
        "                        df9.Fake_news\n",
        "                        ])"
      ],
      "metadata": {
        "colab": {
          "base_uri": "https://localhost:8080/"
        },
        "outputId": "14a0e177-4095-4390-f7c4-b473850c28ab",
        "id": "CpfOqocR393h"
      },
      "execution_count": 740,
      "outputs": [
        {
          "output_type": "execute_result",
          "data": {
            "text/plain": [
              "array(['nan'], dtype=object)"
            ]
          },
          "metadata": {},
          "execution_count": 740
        }
      ]
    },
    {
      "cell_type": "code",
      "source": [
        "reduce(np.intersect1d, [df2.Upward_momentum_created, \n",
        "                        df5.Upward_momentum_created,\n",
        "                        df9.Upward_momentum_created\n",
        "                        ])"
      ],
      "metadata": {
        "colab": {
          "base_uri": "https://localhost:8080/"
        },
        "outputId": "f3620e4b-2e09-42d6-f099-5d569f09e641",
        "id": "aEKZlBWg393i"
      },
      "execution_count": 741,
      "outputs": [
        {
          "output_type": "execute_result",
          "data": {
            "text/plain": [
              "array(['nan'], dtype=object)"
            ]
          },
          "metadata": {},
          "execution_count": 741
        }
      ]
    },
    {
      "cell_type": "code",
      "source": [
        "reduce(np.intersect1d, [df2.Downward_momentum_created, \n",
        "                        df5.Downward_momentum_created,\n",
        "                        df9.Downward_momentum_created\n",
        "                        ])"
      ],
      "metadata": {
        "colab": {
          "base_uri": "https://localhost:8080/"
        },
        "outputId": "4e1b693c-bc7f-4455-84cc-e9014de8323b",
        "id": "tRhrNYWt393i"
      },
      "execution_count": 742,
      "outputs": [
        {
          "output_type": "execute_result",
          "data": {
            "text/plain": [
              "array(['B5_N_Dm', 'Downward_momentum_created', 'N',\n",
              "       'Verified_status_False', 'Verified_status_True', 'Volume', 'nan'],\n",
              "      dtype=object)"
            ]
          },
          "metadata": {},
          "execution_count": 742
        }
      ]
    },
    {
      "cell_type": "code",
      "source": [
        "reduce(np.intersect1d, [df2.Verified_status_True, \n",
        "                        df5.Verified_status_True,\n",
        "                        df9.Verified_status_True\n",
        "                        ])"
      ],
      "metadata": {
        "colab": {
          "base_uri": "https://localhost:8080/"
        },
        "outputId": "0ae9011f-fdcb-42b3-d8ca-d0aa8d915c3e",
        "id": "bLiahj3h393i"
      },
      "execution_count": 743,
      "outputs": [
        {
          "output_type": "execute_result",
          "data": {
            "text/plain": [
              "array(['B5_N_Dm', 'Downward_momentum_created', 'N',\n",
              "       'Verified_status_False', 'Verified_status_True', 'Volume', 'nan'],\n",
              "      dtype=object)"
            ]
          },
          "metadata": {},
          "execution_count": 743
        }
      ]
    },
    {
      "cell_type": "code",
      "source": [
        "reduce(np.intersect1d, [df2.Verified_status_False, \n",
        "                        df5.Verified_status_False,\n",
        "                        df9.Verified_status_False\n",
        "                        ])"
      ],
      "metadata": {
        "colab": {
          "base_uri": "https://localhost:8080/"
        },
        "outputId": "1fea2e76-25e3-4dfe-86ba-bf672522ab2c",
        "id": "ugjPPM1w393j"
      },
      "execution_count": 744,
      "outputs": [
        {
          "output_type": "execute_result",
          "data": {
            "text/plain": [
              "array(['B5_N_Dm', 'Downward_momentum_created', 'N', 'TRANGE',\n",
              "       'Verified_status_False', 'Verified_status_True', 'Volume', 'nan'],\n",
              "      dtype=object)"
            ]
          },
          "metadata": {},
          "execution_count": 744
        }
      ]
    },
    {
      "cell_type": "markdown",
      "source": [
        "**Manufacturing**:"
      ],
      "metadata": {
        "id": "TlKWK7J53Zam"
      }
    },
    {
      "cell_type": "code",
      "source": [
        ""
      ],
      "metadata": {
        "id": "Ubt5-KF73cJW"
      },
      "execution_count": 744,
      "outputs": []
    },
    {
      "cell_type": "code",
      "source": [
        "reduce(np.intersect1d, [df10.AvgTrueRange, \n",
        "                        df11.AvgTrueRange,\n",
        "                        df13.AvgTrueRange\n",
        "                        ])"
      ],
      "metadata": {
        "colab": {
          "base_uri": "https://localhost:8080/"
        },
        "outputId": "e93f186e-60ec-4675-e95d-63dbef9fb40a",
        "id": "Kw8jlult3-ta"
      },
      "execution_count": 745,
      "outputs": [
        {
          "output_type": "execute_result",
          "data": {
            "text/plain": [
              "array(['AvgTrueRange', 'TRANGE', 'TRIX'], dtype=object)"
            ]
          },
          "metadata": {},
          "execution_count": 745
        }
      ]
    },
    {
      "cell_type": "code",
      "source": [
        "reduce(np.intersect1d, [df10.NATR, \n",
        "                        df11.NATR,\n",
        "                        df13.NATR\n",
        "                        ])"
      ],
      "metadata": {
        "colab": {
          "base_uri": "https://localhost:8080/"
        },
        "outputId": "da17f6b3-fadd-4399-d1cb-aefa67ae280c",
        "id": "doYzaCh93-ta"
      },
      "execution_count": 746,
      "outputs": [
        {
          "output_type": "execute_result",
          "data": {
            "text/plain": [
              "array(['NATR', 'vol_current', 'vol_future'], dtype=object)"
            ]
          },
          "metadata": {},
          "execution_count": 746
        }
      ]
    },
    {
      "cell_type": "code",
      "source": [
        "reduce(np.intersect1d, [df10.TRANGE, \n",
        "                        df11.TRANGE,\n",
        "                        df13.TRANGE\n",
        "                        ])"
      ],
      "metadata": {
        "colab": {
          "base_uri": "https://localhost:8080/"
        },
        "outputId": "95749fac-02bf-467b-d90c-737c6d240ee5",
        "id": "TNcybbiW3-tb"
      },
      "execution_count": 747,
      "outputs": [
        {
          "output_type": "execute_result",
          "data": {
            "text/plain": [
              "array(['AvgTrueRange', 'B5_C_Dm', 'B5_N_Dm', 'B5_O_Dm', 'C',\n",
              "       'Downward_momentum_created', 'Fake_news', 'N', 'O', 'TRANGE',\n",
              "       'Verified_status_False', 'Volume'], dtype=object)"
            ]
          },
          "metadata": {},
          "execution_count": 747
        }
      ]
    },
    {
      "cell_type": "code",
      "source": [
        "reduce(np.intersect1d, [df10.O, \n",
        "                        df11.O,\n",
        "                        df13.O\n",
        "                        ])"
      ],
      "metadata": {
        "colab": {
          "base_uri": "https://localhost:8080/"
        },
        "outputId": "259e59bf-101f-40d5-d56c-fb68cb4cc9e9",
        "id": "ezTT5_3O3-tb"
      },
      "execution_count": 748,
      "outputs": [
        {
          "output_type": "execute_result",
          "data": {
            "text/plain": [
              "array(['B5_C_Dm', 'B5_N_Dm', 'B5_O_Dm', 'C', 'Downward_momentum_created',\n",
              "       'Fake_news', 'N', 'O', 'TRANGE', 'Verified_status_False',\n",
              "       'Verified_status_True', 'Volume', 'nan'], dtype=object)"
            ]
          },
          "metadata": {},
          "execution_count": 748
        }
      ]
    },
    {
      "cell_type": "code",
      "source": [
        "reduce(np.intersect1d, [df10.C, \n",
        "                        df11.C,\n",
        "                        df13.C\n",
        "                        ])"
      ],
      "metadata": {
        "colab": {
          "base_uri": "https://localhost:8080/"
        },
        "outputId": "faa6830d-3596-4fb3-c3e0-8e7844a7d120",
        "id": "aEXXgR3L3-tb"
      },
      "execution_count": 749,
      "outputs": [
        {
          "output_type": "execute_result",
          "data": {
            "text/plain": [
              "array(['B5_C_Dm', 'B5_N_Dm', 'B5_O_Dm', 'C', 'Downward_momentum_created',\n",
              "       'Fake_news', 'N', 'O', 'TRANGE', 'Verified_status_False',\n",
              "       'Verified_status_True', 'Volume', 'nan'], dtype=object)"
            ]
          },
          "metadata": {},
          "execution_count": 749
        }
      ]
    },
    {
      "cell_type": "code",
      "source": [
        "reduce(np.intersect1d, [df10.E, \n",
        "                        df11.E,\n",
        "                        df13.E\n",
        "                        ])"
      ],
      "metadata": {
        "colab": {
          "base_uri": "https://localhost:8080/"
        },
        "outputId": "ecac91b1-c8a8-4f96-827e-5579d0376619",
        "id": "flExVdH03-tb"
      },
      "execution_count": 750,
      "outputs": [
        {
          "output_type": "execute_result",
          "data": {
            "text/plain": [
              "array(['nan'], dtype=object)"
            ]
          },
          "metadata": {},
          "execution_count": 750
        }
      ]
    },
    {
      "cell_type": "code",
      "source": [
        "reduce(np.intersect1d, [df10.A, \n",
        "                        df11.A,\n",
        "                        df13.A\n",
        "                        ])"
      ],
      "metadata": {
        "colab": {
          "base_uri": "https://localhost:8080/"
        },
        "outputId": "c34b5465-13de-4b32-e65e-3f14d16d69b6",
        "id": "CRiBF6yu3-tb"
      },
      "execution_count": 751,
      "outputs": [
        {
          "output_type": "execute_result",
          "data": {
            "text/plain": [
              "array(['nan'], dtype=object)"
            ]
          },
          "metadata": {},
          "execution_count": 751
        }
      ]
    },
    {
      "cell_type": "code",
      "source": [
        "reduce(np.intersect1d, [df10.N, \n",
        "                        df11.N,\n",
        "                        df13.N\n",
        "                        ])"
      ],
      "metadata": {
        "colab": {
          "base_uri": "https://localhost:8080/"
        },
        "outputId": "a594cc95-8a1a-4673-e6e3-4bf52bbec69e",
        "id": "Rnktj2eN3-tb"
      },
      "execution_count": 752,
      "outputs": [
        {
          "output_type": "execute_result",
          "data": {
            "text/plain": [
              "array(['B5_C_Dm', 'B5_N_Dm', 'B5_O_Dm', 'C', 'Downward_momentum_created',\n",
              "       'Fake_news', 'N', 'O', 'TRANGE', 'Verified_status_False',\n",
              "       'Verified_status_True', 'Volume', 'nan'], dtype=object)"
            ]
          },
          "metadata": {},
          "execution_count": 752
        }
      ]
    },
    {
      "cell_type": "code",
      "source": [
        "reduce(np.intersect1d, [df10.B5_O_Um, \n",
        "                        df11.B5_O_Um,\n",
        "                        df13.B5_O_Um\n",
        "                        ])"
      ],
      "metadata": {
        "colab": {
          "base_uri": "https://localhost:8080/"
        },
        "outputId": "abd3965b-9668-454f-ae68-e153bc57f562",
        "id": "1d2ACaCq3-tc"
      },
      "execution_count": 753,
      "outputs": [
        {
          "output_type": "execute_result",
          "data": {
            "text/plain": [
              "array(['nan'], dtype=object)"
            ]
          },
          "metadata": {},
          "execution_count": 753
        }
      ]
    },
    {
      "cell_type": "code",
      "source": [
        "reduce(np.intersect1d, [df10.B5_C_Um, \n",
        "                        df11.B5_C_Um,\n",
        "                        df13.B5_C_Um\n",
        "                        ])"
      ],
      "metadata": {
        "colab": {
          "base_uri": "https://localhost:8080/"
        },
        "outputId": "840f31a8-da70-47dc-b82f-1c5974eb4cb9",
        "id": "aSNycXpm3-tc"
      },
      "execution_count": 754,
      "outputs": [
        {
          "output_type": "execute_result",
          "data": {
            "text/plain": [
              "array(['nan'], dtype=object)"
            ]
          },
          "metadata": {},
          "execution_count": 754
        }
      ]
    },
    {
      "cell_type": "code",
      "source": [
        "reduce(np.intersect1d, [df10.B5_E_Um, \n",
        "                        df11.B5_E_Um,\n",
        "                        df13.B5_E_Um\n",
        "                        ])"
      ],
      "metadata": {
        "colab": {
          "base_uri": "https://localhost:8080/"
        },
        "outputId": "c5862206-eabf-43b5-d2d6-716ea3679334",
        "id": "pey3HjZP3-tc"
      },
      "execution_count": 755,
      "outputs": [
        {
          "output_type": "execute_result",
          "data": {
            "text/plain": [
              "array(['nan'], dtype=object)"
            ]
          },
          "metadata": {},
          "execution_count": 755
        }
      ]
    },
    {
      "cell_type": "code",
      "source": [
        "reduce(np.intersect1d, [df10.B5_A_Um, \n",
        "                        df11.B5_A_Um,\n",
        "                        df13.B5_A_Um\n",
        "                        ])"
      ],
      "metadata": {
        "colab": {
          "base_uri": "https://localhost:8080/"
        },
        "outputId": "b099f6b5-d68f-4661-e609-07897c77b1f4",
        "id": "d4o1LKhA3-tc"
      },
      "execution_count": 756,
      "outputs": [
        {
          "output_type": "execute_result",
          "data": {
            "text/plain": [
              "array(['nan'], dtype=object)"
            ]
          },
          "metadata": {},
          "execution_count": 756
        }
      ]
    },
    {
      "cell_type": "code",
      "source": [
        "reduce(np.intersect1d, [df10.B5_N_Um, \n",
        "                        df11.B5_N_Um,\n",
        "                        df13.B5_N_Um\n",
        "                        ])"
      ],
      "metadata": {
        "colab": {
          "base_uri": "https://localhost:8080/"
        },
        "outputId": "439e2854-bdf7-4e50-bbcf-e4161c19b0ee",
        "id": "fJ8MwP_13-tc"
      },
      "execution_count": 757,
      "outputs": [
        {
          "output_type": "execute_result",
          "data": {
            "text/plain": [
              "array(['nan'], dtype=object)"
            ]
          },
          "metadata": {},
          "execution_count": 757
        }
      ]
    },
    {
      "cell_type": "code",
      "source": [
        "reduce(np.intersect1d, [df10.B5_O_Dm, \n",
        "                        df11.B5_O_Dm,\n",
        "                        df13.B5_O_Dm\n",
        "                        ])"
      ],
      "metadata": {
        "colab": {
          "base_uri": "https://localhost:8080/"
        },
        "outputId": "8d5ebfb3-677e-4f97-abc4-61b544827041",
        "id": "Kf-C5JtN3-td"
      },
      "execution_count": 758,
      "outputs": [
        {
          "output_type": "execute_result",
          "data": {
            "text/plain": [
              "array(['B5_C_Dm', 'B5_N_Dm', 'B5_O_Dm', 'C', 'Downward_momentum_created',\n",
              "       'Fake_news', 'N', 'O', 'TRANGE', 'Verified_status_False',\n",
              "       'Verified_status_True', 'Volume', 'nan'], dtype=object)"
            ]
          },
          "metadata": {},
          "execution_count": 758
        }
      ]
    },
    {
      "cell_type": "code",
      "source": [
        "reduce(np.intersect1d, [df10.B5_C_Dm, \n",
        "                        df11.B5_C_Dm,\n",
        "                        df13.B5_C_Dm\n",
        "                        ])"
      ],
      "metadata": {
        "colab": {
          "base_uri": "https://localhost:8080/"
        },
        "outputId": "5485b4c2-a5e7-4524-dc9e-bdc6026151a3",
        "id": "ueKgj1r63-td"
      },
      "execution_count": 759,
      "outputs": [
        {
          "output_type": "execute_result",
          "data": {
            "text/plain": [
              "array(['B5_C_Dm', 'B5_N_Dm', 'B5_O_Dm', 'C', 'Downward_momentum_created',\n",
              "       'Fake_news', 'N', 'O', 'TRANGE', 'Verified_status_False',\n",
              "       'Verified_status_True', 'Volume', 'nan'], dtype=object)"
            ]
          },
          "metadata": {},
          "execution_count": 759
        }
      ]
    },
    {
      "cell_type": "code",
      "source": [
        "reduce(np.intersect1d, [df10.B5_E_Dm, \n",
        "                        df11.B5_E_Dm,\n",
        "                        df13.B5_E_Dm\n",
        "                        ])"
      ],
      "metadata": {
        "colab": {
          "base_uri": "https://localhost:8080/"
        },
        "outputId": "9df3cb76-91a2-4f59-bf26-9a3a1e0ffdae",
        "id": "r5UgsS8L3-td"
      },
      "execution_count": 760,
      "outputs": [
        {
          "output_type": "execute_result",
          "data": {
            "text/plain": [
              "array(['nan'], dtype=object)"
            ]
          },
          "metadata": {},
          "execution_count": 760
        }
      ]
    },
    {
      "cell_type": "code",
      "source": [
        "reduce(np.intersect1d, [df10.B5_A_Dm, \n",
        "                        df11.B5_A_Dm,\n",
        "                        df13.B5_A_Dm\n",
        "                        ])"
      ],
      "metadata": {
        "colab": {
          "base_uri": "https://localhost:8080/"
        },
        "outputId": "60f30c39-3f05-4c96-c7dd-7dae4c9aef35",
        "id": "9P-kMoQv3-td"
      },
      "execution_count": 761,
      "outputs": [
        {
          "output_type": "execute_result",
          "data": {
            "text/plain": [
              "array(['nan'], dtype=object)"
            ]
          },
          "metadata": {},
          "execution_count": 761
        }
      ]
    },
    {
      "cell_type": "code",
      "source": [
        "reduce(np.intersect1d, [df10.B5_N_Dm, \n",
        "                        df11.B5_N_Dm,\n",
        "                        df13.B5_N_Dm\n",
        "                        ])"
      ],
      "metadata": {
        "colab": {
          "base_uri": "https://localhost:8080/"
        },
        "outputId": "1a28d689-a0f4-46c5-cb47-56878eae153f",
        "id": "ykHo6Que3-td"
      },
      "execution_count": 762,
      "outputs": [
        {
          "output_type": "execute_result",
          "data": {
            "text/plain": [
              "array(['B5_C_Dm', 'B5_N_Dm', 'B5_O_Dm', 'C', 'Downward_momentum_created',\n",
              "       'Fake_news', 'N', 'O', 'TRANGE', 'Verified_status_False',\n",
              "       'Verified_status_True', 'Volume', 'nan'], dtype=object)"
            ]
          },
          "metadata": {},
          "execution_count": 762
        }
      ]
    },
    {
      "cell_type": "code",
      "source": [
        "reduce(np.intersect1d, [df10.Fake_news, \n",
        "                        df11.Fake_news,\n",
        "                        df13.Fake_news\n",
        "                        ])"
      ],
      "metadata": {
        "colab": {
          "base_uri": "https://localhost:8080/"
        },
        "outputId": "3f35116c-d997-438a-f8ca-aae8139779be",
        "id": "c2wquGNe3-td"
      },
      "execution_count": 763,
      "outputs": [
        {
          "output_type": "execute_result",
          "data": {
            "text/plain": [
              "array(['B5_C_Dm', 'B5_N_Dm', 'B5_O_Dm', 'C', 'Downward_momentum_created',\n",
              "       'Fake_news', 'N', 'O', 'TRANGE', 'Verified_status_False',\n",
              "       'Verified_status_True', 'Volume', 'nan'], dtype=object)"
            ]
          },
          "metadata": {},
          "execution_count": 763
        }
      ]
    },
    {
      "cell_type": "code",
      "source": [
        "reduce(np.intersect1d, [df10.Upward_momentum_created, \n",
        "                        df11.Upward_momentum_created,\n",
        "                        df13.Upward_momentum_created\n",
        "                        ])"
      ],
      "metadata": {
        "colab": {
          "base_uri": "https://localhost:8080/"
        },
        "outputId": "fd3b3e3d-9d25-4304-dc6b-2a3abc36b08d",
        "id": "UgYxLl_b3-td"
      },
      "execution_count": 764,
      "outputs": [
        {
          "output_type": "execute_result",
          "data": {
            "text/plain": [
              "array(['nan'], dtype=object)"
            ]
          },
          "metadata": {},
          "execution_count": 764
        }
      ]
    },
    {
      "cell_type": "code",
      "source": [
        "reduce(np.intersect1d, [df10.Downward_momentum_created, \n",
        "                        df11.Downward_momentum_created,\n",
        "                        df13.Downward_momentum_created\n",
        "                        ])"
      ],
      "metadata": {
        "colab": {
          "base_uri": "https://localhost:8080/"
        },
        "outputId": "0d88270e-bf68-4add-faf6-70de09f67cd5",
        "id": "Vl6PMhr03-te"
      },
      "execution_count": 765,
      "outputs": [
        {
          "output_type": "execute_result",
          "data": {
            "text/plain": [
              "array(['B5_C_Dm', 'B5_N_Dm', 'B5_O_Dm', 'C', 'Downward_momentum_created',\n",
              "       'Fake_news', 'N', 'O', 'TRANGE', 'Verified_status_False',\n",
              "       'Verified_status_True', 'Volume', 'nan'], dtype=object)"
            ]
          },
          "metadata": {},
          "execution_count": 765
        }
      ]
    },
    {
      "cell_type": "code",
      "source": [
        "reduce(np.intersect1d, [df10.Verified_status_True, \n",
        "                        df11.Verified_status_True,\n",
        "                        df13.Verified_status_True\n",
        "                        ])"
      ],
      "metadata": {
        "colab": {
          "base_uri": "https://localhost:8080/"
        },
        "outputId": "dbdad4f2-c0bf-4b00-f031-aacc56687428",
        "id": "8j9odPRA3-te"
      },
      "execution_count": 766,
      "outputs": [
        {
          "output_type": "execute_result",
          "data": {
            "text/plain": [
              "array(['B5_C_Dm', 'B5_N_Dm', 'B5_O_Dm', 'C', 'Downward_momentum_created',\n",
              "       'Fake_news', 'N', 'O', 'Verified_status_False',\n",
              "       'Verified_status_True', 'Volume', 'nan'], dtype=object)"
            ]
          },
          "metadata": {},
          "execution_count": 766
        }
      ]
    },
    {
      "cell_type": "code",
      "source": [
        "reduce(np.intersect1d, [df10.Verified_status_True, \n",
        "                        df11.Verified_status_True,\n",
        "                        df13.Verified_status_True\n",
        "                        ])"
      ],
      "metadata": {
        "colab": {
          "base_uri": "https://localhost:8080/"
        },
        "outputId": "8d708485-45fe-465b-9f3f-3642ca0efa7a",
        "id": "oMtKuPuN3-te"
      },
      "execution_count": 767,
      "outputs": [
        {
          "output_type": "execute_result",
          "data": {
            "text/plain": [
              "array(['B5_C_Dm', 'B5_N_Dm', 'B5_O_Dm', 'C', 'Downward_momentum_created',\n",
              "       'Fake_news', 'N', 'O', 'Verified_status_False',\n",
              "       'Verified_status_True', 'Volume', 'nan'], dtype=object)"
            ]
          },
          "metadata": {},
          "execution_count": 767
        }
      ]
    }
  ]
}