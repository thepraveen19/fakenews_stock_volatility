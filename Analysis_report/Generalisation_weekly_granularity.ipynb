{
  "nbformat": 4,
  "nbformat_minor": 0,
  "metadata": {
    "colab": {
      "name": "Generalisation_weekly_granularity.ipynb",
      "provenance": [],
      "collapsed_sections": []
    },
    "kernelspec": {
      "name": "python3",
      "display_name": "Python 3"
    },
    "language_info": {
      "name": "python"
    }
  },
  "cells": [
    {
      "cell_type": "markdown",
      "source": [
        "**Generalisation based on correlation of parameters across the horizon,  with a weekly granularity, seggregation of industries and seggregation of stocks based on price**"
      ],
      "metadata": {
        "id": "7dShvhxV-RFq"
      }
    },
    {
      "cell_type": "code",
      "source": [
        "import pandas as pd\n",
        "import numpy as np\n",
        "\n",
        "from functools import reduce\n",
        "\n",
        "import ipywidgets as widgets\n",
        "from IPython.display import display"
      ],
      "metadata": {
        "id": "rQYsFIsDORUL"
      },
      "execution_count": 4,
      "outputs": []
    },
    {
      "cell_type": "code",
      "source": [
        "df1 = pd.read_csv('/content/weekly_corr_AAPL.csv') # Mid\n",
        "df2 = pd.read_csv('/content/weekly_corr_ABUS.csv') # Small\n",
        "df3 = pd.read_csv('/content/weekly_corr_ARDS.csv') # Small\n",
        "df4 = pd.read_csv('/content/weekly_corr_BABA.csv') # Mid\n",
        "df5 = pd.read_csv('/content/weekly_corr_FB.csv') # Large\n",
        "df6 = pd.read_csv('/content/weekly_corr_GME.csv') # Mid\n",
        "df7 = pd.read_csv('/content/weekly_corr_MCD.csv') # Large\n",
        "df8 = pd.read_csv('/content/weekly_corr_PFE.csv') # Small\n",
        "df9 = pd.read_csv('/content/weekly_corr_PLUG.csv') # Small\n",
        "df10 = pd.read_csv('/content/weekly_corr_QCOM.csv') # Mid\n",
        "df11= pd.read_csv('/content/weekly_corr_SENS.csv') # Small\n",
        "df12 = pd.read_csv('/content/weekly_corr_TSLA.csv') # Large\n",
        "df13 = pd.read_csv('/content/weekly_corr_TWTR.csv') # Small\n",
        "df14 = pd.read_csv('/content/weekly_corr_UUUU.csv') # Small\n"
      ],
      "metadata": {
        "id": "56NKrcbkOQob"
      },
      "execution_count": 5,
      "outputs": []
    },
    {
      "cell_type": "code",
      "source": [
        "def rename_df(df):\n",
        "  df=df.rename(columns={\"index\":\"AvgTrueRange\", \"index.1\":\"NATR\", \"index.2\":\"TRANGE\", \"index.3\":\"O\", \"index.4\":\"C\",\n",
        "                    \"index.5\":\"E\", \"index.6\":\"A\", \"index.7\":\"N\", \"index.8\":\"B5_O_Um\", \"index.9\":\"B5_C_Um\", \"index.10\":\"B5_E_Um\",\n",
        "                    \"index.11\":\"B5_A_Um\", \"index.12\":\"B5_N_Um\", \"index.13\":\"B5_O_Dm\", \"index.14\":\"B5_C_Dm\", \"index.15\":\"B5_E_Dm\",\n",
        "                    \"index.16\":\"B5_A_Dm\", \"index.17\":\"B5_N_Dm\", \"index.18\":\"Fake_news\", \"index.19\":\"Upward_momentum_created\", \"index.20\":\"Downward_momentum_created\",\n",
        "                    \"index.21\":\"Verified_status_True\", \"index.22\":\"Verified_status_False\"\n",
        "                    })\n",
        "  del df['Unnamed: 0']\n",
        "  df = df.astype(str)\n",
        "  return df"
      ],
      "metadata": {
        "id": "ocGisIUuQ6lO"
      },
      "execution_count": 6,
      "outputs": []
    },
    {
      "cell_type": "code",
      "source": [
        "df1=rename_df(df1)\n",
        "df2=rename_df(df2)\n",
        "df3=rename_df(df3)\n",
        "df4=rename_df(df4)\n",
        "df5=rename_df(df5)\n",
        "df6=rename_df(df6)\n",
        "df7=rename_df(df7)\n",
        "df8=rename_df(df8)\n",
        "df9=rename_df(df9)\n",
        "df10=rename_df(df10)\n",
        "df11=rename_df(df11)\n",
        "df12=rename_df(df12)\n",
        "df13=rename_df(df13)\n",
        "df14=rename_df(df14)"
      ],
      "metadata": {
        "id": "JGwzUwNCRcDF"
      },
      "execution_count": 7,
      "outputs": []
    },
    {
      "cell_type": "code",
      "source": [
        "df1.info()"
      ],
      "metadata": {
        "colab": {
          "base_uri": "https://localhost:8080/"
        },
        "id": "aTDKqvQdl3B7",
        "outputId": "91aed1c5-fc29-450a-9552-3ffc29d01a9b"
      },
      "execution_count": 8,
      "outputs": [
        {
          "output_type": "stream",
          "name": "stdout",
          "text": [
            "<class 'pandas.core.frame.DataFrame'>\n",
            "RangeIndex: 16 entries, 0 to 15\n",
            "Data columns (total 23 columns):\n",
            " #   Column                     Non-Null Count  Dtype \n",
            "---  ------                     --------------  ----- \n",
            " 0   AvgTrueRange               16 non-null     object\n",
            " 1   NATR                       16 non-null     object\n",
            " 2   TRANGE                     16 non-null     object\n",
            " 3   O                          16 non-null     object\n",
            " 4   C                          16 non-null     object\n",
            " 5   E                          16 non-null     object\n",
            " 6   A                          16 non-null     object\n",
            " 7   N                          16 non-null     object\n",
            " 8   B5_O_Um                    16 non-null     object\n",
            " 9   B5_C_Um                    16 non-null     object\n",
            " 10  B5_E_Um                    16 non-null     object\n",
            " 11  B5_A_Um                    16 non-null     object\n",
            " 12  B5_N_Um                    16 non-null     object\n",
            " 13  B5_O_Dm                    16 non-null     object\n",
            " 14  B5_C_Dm                    16 non-null     object\n",
            " 15  B5_E_Dm                    16 non-null     object\n",
            " 16  B5_A_Dm                    16 non-null     object\n",
            " 17  B5_N_Dm                    16 non-null     object\n",
            " 18  Fake_news                  16 non-null     object\n",
            " 19  Upward_momentum_created    16 non-null     object\n",
            " 20  Downward_momentum_created  16 non-null     object\n",
            " 21  Verified_status_True       16 non-null     object\n",
            " 22  Verified_status_False      16 non-null     object\n",
            "dtypes: object(23)\n",
            "memory usage: 3.0+ KB\n"
          ]
        }
      ]
    },
    {
      "cell_type": "markdown",
      "source": [
        "**Correlation based on the size of the company:**\n"
      ],
      "metadata": {
        "id": "7fufDigKgKaI"
      }
    },
    {
      "cell_type": "markdown",
      "source": [
        "**Small size**"
      ],
      "metadata": {
        "id": "KKIidVNPgvE6"
      }
    },
    {
      "cell_type": "code",
      "source": [
        "reduce(np.intersect1d, [df2.AvgTrueRange, \n",
        "                        df3.AvgTrueRange,\n",
        "                        df8.AvgTrueRange,\n",
        "                        df9.AvgTrueRange, \n",
        "                        df11.AvgTrueRange,\n",
        "                        df13.AvgTrueRange,\n",
        "                        df14.AvgTrueRange\n",
        "                        ])"
      ],
      "metadata": {
        "colab": {
          "base_uri": "https://localhost:8080/"
        },
        "id": "z34BvRTBOoUC",
        "outputId": "a8a87488-5a32-4e33-ef9b-4844abb5f7fc"
      },
      "execution_count": 9,
      "outputs": [
        {
          "output_type": "execute_result",
          "data": {
            "text/plain": [
              "array(['AvgTrueRange', 'TRANGE', 'Upperband', 'Variance'], dtype=object)"
            ]
          },
          "metadata": {},
          "execution_count": 9
        }
      ]
    },
    {
      "cell_type": "code",
      "source": [
        "reduce(np.intersect1d, [df2.NATR, \n",
        "                        df3.NATR,\n",
        "                        df8.NATR,\n",
        "                        df9.NATR, \n",
        "                        df11.NATR,\n",
        "                        df13.NATR,\n",
        "                        df14.NATR,\n",
        "                        ])"
      ],
      "metadata": {
        "colab": {
          "base_uri": "https://localhost:8080/"
        },
        "id": "Tvb7tx66qZ0Z",
        "outputId": "b7af158e-4726-4a0e-d964-b9da875e6a7d"
      },
      "execution_count": 10,
      "outputs": [
        {
          "output_type": "execute_result",
          "data": {
            "text/plain": [
              "array(['NATR', 'nan'], dtype=object)"
            ]
          },
          "metadata": {},
          "execution_count": 10
        }
      ]
    },
    {
      "cell_type": "code",
      "source": [
        "reduce(np.intersect1d, [df2.TRANGE, \n",
        "                        df3.TRANGE,\n",
        "                        df8.TRANGE,\n",
        "                        df9.TRANGE, \n",
        "                        df11.TRANGE,\n",
        "                        df13.TRANGE,\n",
        "                        df14.TRANGE,\n",
        "                        ])"
      ],
      "metadata": {
        "colab": {
          "base_uri": "https://localhost:8080/"
        },
        "id": "Z9s6gu39q5hB",
        "outputId": "01a561cb-c657-477a-88f9-b5b33fd82463"
      },
      "execution_count": 11,
      "outputs": [
        {
          "output_type": "execute_result",
          "data": {
            "text/plain": [
              "array(['AvgTrueRange', 'TRANGE'], dtype=object)"
            ]
          },
          "metadata": {},
          "execution_count": 11
        }
      ]
    },
    {
      "cell_type": "code",
      "source": [
        "reduce(np.intersect1d, [df2.O, \n",
        "                        df3.O,\n",
        "                        df8.O,\n",
        "                        df9.O, \n",
        "                        df11.O,\n",
        "                        df13.O,\n",
        "                        df14.O,\n",
        "                        ])"
      ],
      "metadata": {
        "colab": {
          "base_uri": "https://localhost:8080/"
        },
        "id": "fjjqhLVprA-S",
        "outputId": "d91cf4ff-c32a-4ba7-cc88-0e9fbe393099"
      },
      "execution_count": 12,
      "outputs": [
        {
          "output_type": "execute_result",
          "data": {
            "text/plain": [
              "array([], dtype=object)"
            ]
          },
          "metadata": {},
          "execution_count": 12
        }
      ]
    },
    {
      "cell_type": "code",
      "source": [
        "reduce(np.intersect1d, [df2.C, \n",
        "                        df3.C,\n",
        "                        df8.C,\n",
        "                        df9.C, \n",
        "                        df11.C,\n",
        "                        df13.C,\n",
        "                        df14.C,\n",
        "                        ])"
      ],
      "metadata": {
        "colab": {
          "base_uri": "https://localhost:8080/"
        },
        "id": "SEpWk69Dsg1s",
        "outputId": "c816eaf4-3842-468f-acf1-46196360262b"
      },
      "execution_count": 13,
      "outputs": [
        {
          "output_type": "execute_result",
          "data": {
            "text/plain": [
              "array([], dtype=object)"
            ]
          },
          "metadata": {},
          "execution_count": 13
        }
      ]
    },
    {
      "cell_type": "code",
      "source": [
        "reduce(np.intersect1d, [df2.E, \n",
        "                        df3.E,\n",
        "                        df8.E,\n",
        "                        df9.E, \n",
        "                        df11.E,\n",
        "                        df13.E,\n",
        "                        df14.E,\n",
        "                        ])"
      ],
      "metadata": {
        "colab": {
          "base_uri": "https://localhost:8080/"
        },
        "id": "zPC-fwkMspdU",
        "outputId": "8722b4c4-12c3-49ff-a2ff-5543b49437ae"
      },
      "execution_count": 14,
      "outputs": [
        {
          "output_type": "execute_result",
          "data": {
            "text/plain": [
              "array([], dtype=object)"
            ]
          },
          "metadata": {},
          "execution_count": 14
        }
      ]
    },
    {
      "cell_type": "code",
      "source": [
        "reduce(np.intersect1d, [df2.A, \n",
        "                        df3.A,\n",
        "                        df8.A,\n",
        "                        df9.A, \n",
        "                        df11.A,\n",
        "                        df13.A,\n",
        "                        df14.A,\n",
        "                        ])"
      ],
      "metadata": {
        "colab": {
          "base_uri": "https://localhost:8080/"
        },
        "id": "D9yRIbcUstj8",
        "outputId": "f84ce97a-43c4-4df0-e99e-c7848bc93b40"
      },
      "execution_count": 15,
      "outputs": [
        {
          "output_type": "execute_result",
          "data": {
            "text/plain": [
              "array([], dtype=object)"
            ]
          },
          "metadata": {},
          "execution_count": 15
        }
      ]
    },
    {
      "cell_type": "code",
      "source": [
        "reduce(np.intersect1d, [df2.N, \n",
        "                        df3.N,\n",
        "                        df8.N,\n",
        "                        df9.N, \n",
        "                        df11.N,\n",
        "                        df13.N,\n",
        "                        df14.N,\n",
        "                        ])"
      ],
      "metadata": {
        "colab": {
          "base_uri": "https://localhost:8080/"
        },
        "id": "IuRo2xGuswSM",
        "outputId": "f2a657c9-e3d9-477d-aa6d-b2e910a964a2"
      },
      "execution_count": 16,
      "outputs": [
        {
          "output_type": "execute_result",
          "data": {
            "text/plain": [
              "array([], dtype=object)"
            ]
          },
          "metadata": {},
          "execution_count": 16
        }
      ]
    },
    {
      "cell_type": "code",
      "source": [
        "reduce(np.intersect1d, [df2.B5_O_Um, \n",
        "                        df3.B5_O_Um,\n",
        "                        df8.B5_O_Um,\n",
        "                        df9.B5_O_Um, \n",
        "                        df11.B5_O_Um,\n",
        "                        df13.B5_O_Um,\n",
        "                        df14.B5_O_Um,\n",
        "                        ])"
      ],
      "metadata": {
        "colab": {
          "base_uri": "https://localhost:8080/"
        },
        "id": "0oCHOeCkszZc",
        "outputId": "d0451aa5-fd30-48eb-f215-e4663f46760c"
      },
      "execution_count": 17,
      "outputs": [
        {
          "output_type": "execute_result",
          "data": {
            "text/plain": [
              "array(['nan'], dtype=object)"
            ]
          },
          "metadata": {},
          "execution_count": 17
        }
      ]
    },
    {
      "cell_type": "code",
      "source": [
        "reduce(np.intersect1d, [df2.B5_C_Um, \n",
        "                        df3.B5_C_Um,\n",
        "                        df8.B5_C_Um,\n",
        "                        df9.B5_C_Um, \n",
        "                        df11.B5_C_Um,\n",
        "                        df13.B5_C_Um,\n",
        "                        df14.B5_C_Um,\n",
        "                        ])"
      ],
      "metadata": {
        "colab": {
          "base_uri": "https://localhost:8080/"
        },
        "id": "Lk54OMphtAhD",
        "outputId": "7be76609-5863-4e42-f0cb-3e9ce36b1a0d"
      },
      "execution_count": 18,
      "outputs": [
        {
          "output_type": "execute_result",
          "data": {
            "text/plain": [
              "array([], dtype=object)"
            ]
          },
          "metadata": {},
          "execution_count": 18
        }
      ]
    },
    {
      "cell_type": "code",
      "source": [
        "reduce(np.intersect1d, [df2.B5_E_Um, \n",
        "                        df3.B5_E_Um,\n",
        "                        df8.B5_E_Um,\n",
        "                        df9.B5_E_Um, \n",
        "                        df11.B5_E_Um,\n",
        "                        df13.B5_E_Um,\n",
        "                        df14.B5_E_Um,\n",
        "                        ])"
      ],
      "metadata": {
        "colab": {
          "base_uri": "https://localhost:8080/"
        },
        "id": "4lOrujaitITD",
        "outputId": "348219bc-f4c8-4b14-d70c-be347d8e9853"
      },
      "execution_count": 19,
      "outputs": [
        {
          "output_type": "execute_result",
          "data": {
            "text/plain": [
              "array([], dtype=object)"
            ]
          },
          "metadata": {},
          "execution_count": 19
        }
      ]
    },
    {
      "cell_type": "code",
      "source": [
        "reduce(np.intersect1d, [df2.B5_A_Um, \n",
        "                        df3.B5_A_Um,\n",
        "                        df8.B5_A_Um,\n",
        "                        df9.B5_A_Um, \n",
        "                        df11.B5_A_Um,\n",
        "                        df13.B5_A_Um,\n",
        "                        df14.B5_A_Um,\n",
        "                        ])"
      ],
      "metadata": {
        "colab": {
          "base_uri": "https://localhost:8080/"
        },
        "id": "6SQ0__IUtMfL",
        "outputId": "9b4158d8-0565-4804-d8b6-02de9f6d9fe0"
      },
      "execution_count": 20,
      "outputs": [
        {
          "output_type": "execute_result",
          "data": {
            "text/plain": [
              "array(['nan'], dtype=object)"
            ]
          },
          "metadata": {},
          "execution_count": 20
        }
      ]
    },
    {
      "cell_type": "code",
      "source": [
        "reduce(np.intersect1d, [df2.B5_N_Um, \n",
        "                        df3.B5_N_Um,\n",
        "                        df8.B5_N_Um,\n",
        "                        df9.B5_N_Um, \n",
        "                        df11.B5_N_Um,\n",
        "                        df13.B5_N_Um,\n",
        "                        df14.B5_N_Um,\n",
        "                        ])"
      ],
      "metadata": {
        "colab": {
          "base_uri": "https://localhost:8080/"
        },
        "id": "ZMACc_KstP-l",
        "outputId": "fe94dba1-1220-4072-db95-b08df8ffc34c"
      },
      "execution_count": 21,
      "outputs": [
        {
          "output_type": "execute_result",
          "data": {
            "text/plain": [
              "array([], dtype=object)"
            ]
          },
          "metadata": {},
          "execution_count": 21
        }
      ]
    },
    {
      "cell_type": "code",
      "source": [
        ""
      ],
      "metadata": {
        "id": "z8r4IfbEtTKM"
      },
      "execution_count": 21,
      "outputs": []
    },
    {
      "cell_type": "code",
      "source": [
        "reduce(np.intersect1d, [df2.B5_O_Dm, \n",
        "                        df3.B5_O_Dm,\n",
        "                        df8.B5_O_Dm,\n",
        "                        df9.B5_O_Dm, \n",
        "                        df11.B5_O_Dm,\n",
        "                        df13.B5_O_Dm,\n",
        "                        df14.B5_O_Dm,\n",
        "                        ])"
      ],
      "metadata": {
        "colab": {
          "base_uri": "https://localhost:8080/"
        },
        "outputId": "585a0257-500a-414e-eb4a-24ff3f38723c",
        "id": "1X3pY1RttcRm"
      },
      "execution_count": 22,
      "outputs": [
        {
          "output_type": "execute_result",
          "data": {
            "text/plain": [
              "array([], dtype=object)"
            ]
          },
          "metadata": {},
          "execution_count": 22
        }
      ]
    },
    {
      "cell_type": "code",
      "source": [
        "reduce(np.intersect1d, [df2.B5_C_Dm, \n",
        "                        df3.B5_C_Dm,\n",
        "                        df8.B5_C_Dm,\n",
        "                        df9.B5_C_Dm, \n",
        "                        df11.B5_C_Dm,\n",
        "                        df13.B5_C_Dm,\n",
        "                        df14.B5_C_Dm,\n",
        "                        ])"
      ],
      "metadata": {
        "colab": {
          "base_uri": "https://localhost:8080/"
        },
        "outputId": "2633ffa7-0759-4001-a5d6-8c3a7bf97231",
        "id": "9JGzDNI4tcRm"
      },
      "execution_count": 23,
      "outputs": [
        {
          "output_type": "execute_result",
          "data": {
            "text/plain": [
              "array([], dtype=object)"
            ]
          },
          "metadata": {},
          "execution_count": 23
        }
      ]
    },
    {
      "cell_type": "code",
      "source": [
        "reduce(np.intersect1d, [df2.B5_E_Dm, \n",
        "                        df3.B5_E_Dm,\n",
        "                        df8.B5_E_Dm,\n",
        "                        df9.B5_E_Dm, \n",
        "                        df11.B5_E_Dm,\n",
        "                        df13.B5_E_Dm,\n",
        "                        df14.B5_E_Dm,\n",
        "                        ])"
      ],
      "metadata": {
        "colab": {
          "base_uri": "https://localhost:8080/"
        },
        "outputId": "e70089e3-882c-4a5b-8c99-2a825d1a5154",
        "id": "_-VdCqoMtcRn"
      },
      "execution_count": 24,
      "outputs": [
        {
          "output_type": "execute_result",
          "data": {
            "text/plain": [
              "array([], dtype=object)"
            ]
          },
          "metadata": {},
          "execution_count": 24
        }
      ]
    },
    {
      "cell_type": "code",
      "source": [
        "reduce(np.intersect1d, [df2.B5_A_Dm, \n",
        "                        df3.B5_A_Dm,\n",
        "                        df8.B5_A_Dm,\n",
        "                        df9.B5_A_Dm, \n",
        "                        df11.B5_A_Dm,\n",
        "                        df13.B5_A_Dm,\n",
        "                        df14.B5_A_Dm,\n",
        "                        ])"
      ],
      "metadata": {
        "colab": {
          "base_uri": "https://localhost:8080/"
        },
        "outputId": "52163dd5-7abd-4b5c-f1cc-af065543bc54",
        "id": "kS9l1OeKtcRn"
      },
      "execution_count": 25,
      "outputs": [
        {
          "output_type": "execute_result",
          "data": {
            "text/plain": [
              "array([], dtype=object)"
            ]
          },
          "metadata": {},
          "execution_count": 25
        }
      ]
    },
    {
      "cell_type": "code",
      "source": [
        "reduce(np.intersect1d, [df2.B5_N_Dm, \n",
        "                        df3.B5_N_Dm,\n",
        "                        df8.B5_N_Dm,\n",
        "                        df9.B5_N_Dm, \n",
        "                        df11.B5_N_Dm,\n",
        "                        df13.B5_N_Dm,\n",
        "                        df14.B5_N_Dm,\n",
        "                        ])"
      ],
      "metadata": {
        "colab": {
          "base_uri": "https://localhost:8080/"
        },
        "outputId": "a2f3ad9c-56df-48ff-a194-e25d60b054b2",
        "id": "pJGbbdoEtcRn"
      },
      "execution_count": 26,
      "outputs": [
        {
          "output_type": "execute_result",
          "data": {
            "text/plain": [
              "array([], dtype=object)"
            ]
          },
          "metadata": {},
          "execution_count": 26
        }
      ]
    },
    {
      "cell_type": "code",
      "source": [
        "reduce(np.intersect1d, [df2.Fake_news, \n",
        "                        df3.Fake_news,\n",
        "                        df8.Fake_news,\n",
        "                        df9.Fake_news, \n",
        "                        df11.Fake_news,\n",
        "                        df13.Fake_news,\n",
        "                        df14.Fake_news,\n",
        "                        ])"
      ],
      "metadata": {
        "colab": {
          "base_uri": "https://localhost:8080/"
        },
        "id": "BBXga5Lhtwyt",
        "outputId": "c46aecaf-a7e7-4f7e-daa0-bf144f0ae4c3"
      },
      "execution_count": 27,
      "outputs": [
        {
          "output_type": "execute_result",
          "data": {
            "text/plain": [
              "array([], dtype=object)"
            ]
          },
          "metadata": {},
          "execution_count": 27
        }
      ]
    },
    {
      "cell_type": "code",
      "source": [
        "reduce(np.intersect1d, [df2.Upward_momentum_created, \n",
        "                        df3.Upward_momentum_created,\n",
        "                        df8.Upward_momentum_created,\n",
        "                        df9.Upward_momentum_created, \n",
        "                        df11.Upward_momentum_created,\n",
        "                        df13.Upward_momentum_created,\n",
        "                        df14.Upward_momentum_created,\n",
        "                        ])"
      ],
      "metadata": {
        "colab": {
          "base_uri": "https://localhost:8080/"
        },
        "id": "nbpo5FkUt64F",
        "outputId": "35c35081-14dd-491b-f0c8-60710f63d224"
      },
      "execution_count": 28,
      "outputs": [
        {
          "output_type": "execute_result",
          "data": {
            "text/plain": [
              "array([], dtype=object)"
            ]
          },
          "metadata": {},
          "execution_count": 28
        }
      ]
    },
    {
      "cell_type": "code",
      "source": [
        "reduce(np.intersect1d, [df2.Downward_momentum_created, \n",
        "                        df3.Downward_momentum_created,\n",
        "                        df8.Downward_momentum_created,\n",
        "                        df9.Downward_momentum_created, \n",
        "                        df11.Downward_momentum_created,\n",
        "                        df13.Downward_momentum_created,\n",
        "                        df14.Downward_momentum_created,\n",
        "                        ])"
      ],
      "metadata": {
        "colab": {
          "base_uri": "https://localhost:8080/"
        },
        "id": "IKfoyM8muD4E",
        "outputId": "68c3691b-0997-4068-a494-c7127f67a953"
      },
      "execution_count": 29,
      "outputs": [
        {
          "output_type": "execute_result",
          "data": {
            "text/plain": [
              "array(['Downward_momentum_created', 'Verified_status_False', 'Volume'],\n",
              "      dtype=object)"
            ]
          },
          "metadata": {},
          "execution_count": 29
        }
      ]
    },
    {
      "cell_type": "code",
      "source": [
        "reduce(np.intersect1d, [df2.Verified_status_True, \n",
        "                        df3.Verified_status_True,\n",
        "                        df8.Verified_status_True,\n",
        "                        df9.Verified_status_True, \n",
        "                        df11.Verified_status_True,\n",
        "                        df13.Verified_status_True,\n",
        "                        df14.Verified_status_True,\n",
        "                        ])"
      ],
      "metadata": {
        "colab": {
          "base_uri": "https://localhost:8080/"
        },
        "id": "u5bpq-EYuP9d",
        "outputId": "6fe6274c-2bfe-4139-fd15-cdea3f954a6b"
      },
      "execution_count": 30,
      "outputs": [
        {
          "output_type": "execute_result",
          "data": {
            "text/plain": [
              "array(['Verified_status_False', 'Verified_status_True', 'Volume'],\n",
              "      dtype=object)"
            ]
          },
          "metadata": {},
          "execution_count": 30
        }
      ]
    },
    {
      "cell_type": "code",
      "source": [
        "reduce(np.intersect1d, [df2.Verified_status_False, \n",
        "                        df3.Verified_status_False,\n",
        "                        df8.Verified_status_False,\n",
        "                        df9.Verified_status_False, \n",
        "                        df11.Verified_status_False,\n",
        "                        df13.Verified_status_False,\n",
        "                        df14.Verified_status_False,\n",
        "                        ])"
      ],
      "metadata": {
        "colab": {
          "base_uri": "https://localhost:8080/"
        },
        "id": "LkpUDyn-uZu_",
        "outputId": "9cabf615-c238-48ca-cf1d-59cd71b89739"
      },
      "execution_count": 31,
      "outputs": [
        {
          "output_type": "execute_result",
          "data": {
            "text/plain": [
              "array(['Downward_momentum_created', 'Verified_status_False',\n",
              "       'Verified_status_True', 'Volume'], dtype=object)"
            ]
          },
          "metadata": {},
          "execution_count": 31
        }
      ]
    },
    {
      "cell_type": "markdown",
      "source": [
        "**Mid size:**"
      ],
      "metadata": {
        "id": "VEAoBBwcgSfP"
      }
    },
    {
      "cell_type": "code",
      "source": [
        "reduce(np.intersect1d, [df1.AvgTrueRange, \n",
        "                        df4.AvgTrueRange,\n",
        "                        df6.AvgTrueRange,\n",
        "                        df10.AvgTrueRange\n",
        "                        ])"
      ],
      "metadata": {
        "colab": {
          "base_uri": "https://localhost:8080/"
        },
        "outputId": "7052ea69-e11b-4fc7-dfe5-205828e73182",
        "id": "8G28gH-FwcNA"
      },
      "execution_count": 32,
      "outputs": [
        {
          "output_type": "execute_result",
          "data": {
            "text/plain": [
              "array(['AvgTrueRange', 'NATR', 'TRANGE', 'Variance', 'nan'], dtype=object)"
            ]
          },
          "metadata": {},
          "execution_count": 32
        }
      ]
    },
    {
      "cell_type": "code",
      "source": [
        "reduce(np.intersect1d, [df1.NATR, \n",
        "                        df4.NATR,\n",
        "                        df6.NATR,\n",
        "                        df10.NATR\n",
        "                        ])"
      ],
      "metadata": {
        "colab": {
          "base_uri": "https://localhost:8080/"
        },
        "outputId": "18881ada-c396-40b1-92e3-991ebc7e4800",
        "id": "Tb7bXf0AwcNB"
      },
      "execution_count": 33,
      "outputs": [
        {
          "output_type": "execute_result",
          "data": {
            "text/plain": [
              "array(['AvgTrueRange', 'NATR', 'nan'], dtype=object)"
            ]
          },
          "metadata": {},
          "execution_count": 33
        }
      ]
    },
    {
      "cell_type": "code",
      "source": [
        "reduce(np.intersect1d, [df1.TRANGE, \n",
        "                        df4.TRANGE,\n",
        "                        df6.TRANGE,\n",
        "                        df10.TRANGE\n",
        "                        ])"
      ],
      "metadata": {
        "colab": {
          "base_uri": "https://localhost:8080/"
        },
        "outputId": "d31396a6-9e01-4242-ebcf-c8958bfd7301",
        "id": "GOQN-qt2wcNB"
      },
      "execution_count": 34,
      "outputs": [
        {
          "output_type": "execute_result",
          "data": {
            "text/plain": [
              "array(['AvgTrueRange', 'N', 'O', 'TRANGE', 'Verified_status_False'],\n",
              "      dtype=object)"
            ]
          },
          "metadata": {},
          "execution_count": 34
        }
      ]
    },
    {
      "cell_type": "code",
      "source": [
        "reduce(np.intersect1d, [df1.O, \n",
        "                        df4.O,\n",
        "                        df6.O,\n",
        "                        df10.O\n",
        "                        ])"
      ],
      "metadata": {
        "colab": {
          "base_uri": "https://localhost:8080/"
        },
        "outputId": "b5705c4a-63e5-4172-8e47-a1d57a927979",
        "id": "tdvVduxxwcNB"
      },
      "execution_count": 35,
      "outputs": [
        {
          "output_type": "execute_result",
          "data": {
            "text/plain": [
              "array(['B5_N_Dm', 'B5_O_Dm', 'Downward_momentum_created', 'N', 'O',\n",
              "       'TRANGE', 'Verified_status_False', 'Verified_status_True', 'nan'],\n",
              "      dtype=object)"
            ]
          },
          "metadata": {},
          "execution_count": 35
        }
      ]
    },
    {
      "cell_type": "code",
      "source": [
        "reduce(np.intersect1d, [df1.C, \n",
        "                        df4.C,\n",
        "                        df6.C,\n",
        "                        df10.C\n",
        "                        ])"
      ],
      "metadata": {
        "colab": {
          "base_uri": "https://localhost:8080/"
        },
        "outputId": "fb2a96b1-1f9e-4933-8b84-77444bfa674f",
        "id": "A2dhu9E7wcNB"
      },
      "execution_count": 36,
      "outputs": [
        {
          "output_type": "execute_result",
          "data": {
            "text/plain": [
              "array(['nan'], dtype=object)"
            ]
          },
          "metadata": {},
          "execution_count": 36
        }
      ]
    },
    {
      "cell_type": "code",
      "source": [
        "reduce(np.intersect1d, [df1.E, \n",
        "                        df4.E,\n",
        "                        df6.E,\n",
        "                        df10.E\n",
        "                        ])"
      ],
      "metadata": {
        "colab": {
          "base_uri": "https://localhost:8080/"
        },
        "outputId": "4e9c0b16-74c1-4fe5-aca8-20906ad003f4",
        "id": "tnJvzQQUwcNB"
      },
      "execution_count": 37,
      "outputs": [
        {
          "output_type": "execute_result",
          "data": {
            "text/plain": [
              "array(['nan'], dtype=object)"
            ]
          },
          "metadata": {},
          "execution_count": 37
        }
      ]
    },
    {
      "cell_type": "code",
      "source": [
        "reduce(np.intersect1d, [df1.A, \n",
        "                        df4.A,\n",
        "                        df6.A,\n",
        "                        df10.A\n",
        "                        ])"
      ],
      "metadata": {
        "colab": {
          "base_uri": "https://localhost:8080/"
        },
        "outputId": "c1453d44-0b16-4aee-8c02-2fc11235f5ea",
        "id": "-kpb09BfwcNC"
      },
      "execution_count": 38,
      "outputs": [
        {
          "output_type": "execute_result",
          "data": {
            "text/plain": [
              "array(['nan'], dtype=object)"
            ]
          },
          "metadata": {},
          "execution_count": 38
        }
      ]
    },
    {
      "cell_type": "code",
      "source": [
        "reduce(np.intersect1d, [df1.N, \n",
        "                        df4.N,\n",
        "                        df6.N,\n",
        "                        df10.N\n",
        "                        ])"
      ],
      "metadata": {
        "colab": {
          "base_uri": "https://localhost:8080/"
        },
        "outputId": "9ab02bb3-b591-4486-acff-40c4a900596c",
        "id": "YG9yWobxwcNC"
      },
      "execution_count": 39,
      "outputs": [
        {
          "output_type": "execute_result",
          "data": {
            "text/plain": [
              "array(['B5_N_Dm', 'B5_O_Dm', 'Downward_momentum_created', 'N', 'O',\n",
              "       'TRANGE', 'Verified_status_False', 'Verified_status_True', 'nan'],\n",
              "      dtype=object)"
            ]
          },
          "metadata": {},
          "execution_count": 39
        }
      ]
    },
    {
      "cell_type": "code",
      "source": [
        "reduce(np.intersect1d, [df1.B5_O_Um, \n",
        "                        df4.B5_O_Um,\n",
        "                        df6.B5_O_Um,\n",
        "                        df10.B5_O_Um\n",
        "                        ])"
      ],
      "metadata": {
        "colab": {
          "base_uri": "https://localhost:8080/"
        },
        "outputId": "0eaf4d83-fb44-446a-ff73-05cd1be9cabc",
        "id": "Uj-fsh_nwcNC"
      },
      "execution_count": 40,
      "outputs": [
        {
          "output_type": "execute_result",
          "data": {
            "text/plain": [
              "array(['nan'], dtype=object)"
            ]
          },
          "metadata": {},
          "execution_count": 40
        }
      ]
    },
    {
      "cell_type": "code",
      "source": [
        "reduce(np.intersect1d, [df1.B5_C_Um, \n",
        "                        df4.B5_C_Um,\n",
        "                        df6.B5_C_Um,\n",
        "                        df10.B5_C_Um\n",
        "                        ])"
      ],
      "metadata": {
        "colab": {
          "base_uri": "https://localhost:8080/"
        },
        "outputId": "ef5c5d5e-0946-448e-928b-e43870480e06",
        "id": "HPq9SLP1wcNC"
      },
      "execution_count": 41,
      "outputs": [
        {
          "output_type": "execute_result",
          "data": {
            "text/plain": [
              "array(['nan'], dtype=object)"
            ]
          },
          "metadata": {},
          "execution_count": 41
        }
      ]
    },
    {
      "cell_type": "code",
      "source": [
        "reduce(np.intersect1d, [df1.B5_E_Um, \n",
        "                        df4.B5_E_Um,\n",
        "                        df6.B5_E_Um,\n",
        "                        df10.B5_E_Um\n",
        "                        ])"
      ],
      "metadata": {
        "colab": {
          "base_uri": "https://localhost:8080/"
        },
        "outputId": "c3916c04-a6f9-40c8-ca69-add2f7e06d67",
        "id": "j20gV5FiwcNC"
      },
      "execution_count": 42,
      "outputs": [
        {
          "output_type": "execute_result",
          "data": {
            "text/plain": [
              "array(['nan'], dtype=object)"
            ]
          },
          "metadata": {},
          "execution_count": 42
        }
      ]
    },
    {
      "cell_type": "code",
      "source": [
        "reduce(np.intersect1d, [df1.B5_A_Um, \n",
        "                        df4.B5_A_Um,\n",
        "                        df6.B5_A_Um,\n",
        "                        df10.B5_A_Um\n",
        "                        ])"
      ],
      "metadata": {
        "colab": {
          "base_uri": "https://localhost:8080/"
        },
        "outputId": "aecc5a1b-a64f-4429-e765-b0d867e4d5c4",
        "id": "r5FTEdlnwcND"
      },
      "execution_count": 43,
      "outputs": [
        {
          "output_type": "execute_result",
          "data": {
            "text/plain": [
              "array(['nan'], dtype=object)"
            ]
          },
          "metadata": {},
          "execution_count": 43
        }
      ]
    },
    {
      "cell_type": "code",
      "source": [
        "reduce(np.intersect1d, [df1.B5_N_Um, \n",
        "                        df4.B5_N_Um,\n",
        "                        df6.B5_N_Um,\n",
        "                        df10.B5_N_Um\n",
        "                        ])"
      ],
      "metadata": {
        "colab": {
          "base_uri": "https://localhost:8080/"
        },
        "outputId": "282c7512-f8a2-4f27-e9c3-7131626603b7",
        "id": "yQaEmH5YwcND"
      },
      "execution_count": 44,
      "outputs": [
        {
          "output_type": "execute_result",
          "data": {
            "text/plain": [
              "array(['nan'], dtype=object)"
            ]
          },
          "metadata": {},
          "execution_count": 44
        }
      ]
    },
    {
      "cell_type": "code",
      "source": [
        "reduce(np.intersect1d, [df1.B5_O_Dm, \n",
        "                        df4.B5_O_Dm,\n",
        "                        df6.B5_O_Dm,\n",
        "                        df10.B5_O_Dm\n",
        "                        ])"
      ],
      "metadata": {
        "colab": {
          "base_uri": "https://localhost:8080/"
        },
        "outputId": "a4649e64-5dd1-41d4-fc3b-c97305e4d0c9",
        "id": "Jt2vGtlbwcNE"
      },
      "execution_count": 45,
      "outputs": [
        {
          "output_type": "execute_result",
          "data": {
            "text/plain": [
              "array(['B5_N_Dm', 'B5_O_Dm', 'Downward_momentum_created', 'N', 'O',\n",
              "       'Verified_status_False', 'Verified_status_True', 'nan'],\n",
              "      dtype=object)"
            ]
          },
          "metadata": {},
          "execution_count": 45
        }
      ]
    },
    {
      "cell_type": "code",
      "source": [
        "reduce(np.intersect1d, [df1.B5_C_Dm, \n",
        "                        df4.B5_C_Dm,\n",
        "                        df6.B5_C_Dm,\n",
        "                        df10.B5_C_Dm\n",
        "                        ])"
      ],
      "metadata": {
        "colab": {
          "base_uri": "https://localhost:8080/"
        },
        "outputId": "f44c2dd4-49bc-4d5c-ca32-40e5ba68e726",
        "id": "Fze7R4YCwcNE"
      },
      "execution_count": 46,
      "outputs": [
        {
          "output_type": "execute_result",
          "data": {
            "text/plain": [
              "array(['nan'], dtype=object)"
            ]
          },
          "metadata": {},
          "execution_count": 46
        }
      ]
    },
    {
      "cell_type": "code",
      "source": [
        "reduce(np.intersect1d, [df1.B5_E_Dm, \n",
        "                        df4.B5_E_Dm,\n",
        "                        df6.B5_E_Dm,\n",
        "                        df10.B5_E_Dm\n",
        "                        ])"
      ],
      "metadata": {
        "colab": {
          "base_uri": "https://localhost:8080/"
        },
        "outputId": "44edace1-d4f5-408d-c233-3e9768ad2e4a",
        "id": "9AE5wO2EwcNE"
      },
      "execution_count": 47,
      "outputs": [
        {
          "output_type": "execute_result",
          "data": {
            "text/plain": [
              "array(['nan'], dtype=object)"
            ]
          },
          "metadata": {},
          "execution_count": 47
        }
      ]
    },
    {
      "cell_type": "code",
      "source": [
        "reduce(np.intersect1d, [df1.B5_A_Dm, \n",
        "                        df4.B5_A_Dm,\n",
        "                        df6.B5_A_Dm,\n",
        "                        df10.B5_A_Dm\n",
        "                        ])"
      ],
      "metadata": {
        "colab": {
          "base_uri": "https://localhost:8080/"
        },
        "outputId": "0c64371f-5586-4c2e-b9ab-c236e006dba2",
        "id": "JVLT2nlZwcNF"
      },
      "execution_count": 48,
      "outputs": [
        {
          "output_type": "execute_result",
          "data": {
            "text/plain": [
              "array(['nan'], dtype=object)"
            ]
          },
          "metadata": {},
          "execution_count": 48
        }
      ]
    },
    {
      "cell_type": "code",
      "source": [
        "reduce(np.intersect1d, [df1.B5_N_Dm, \n",
        "                        df4.B5_N_Dm,\n",
        "                        df6.B5_N_Dm,\n",
        "                        df10.B5_N_Dm\n",
        "                        ])"
      ],
      "metadata": {
        "colab": {
          "base_uri": "https://localhost:8080/"
        },
        "outputId": "df3e883d-fcd9-40df-9e04-c4be9cc7d4ff",
        "id": "8dCqdKI4wcNF"
      },
      "execution_count": 49,
      "outputs": [
        {
          "output_type": "execute_result",
          "data": {
            "text/plain": [
              "array(['B5_N_Dm', 'B5_O_Dm', 'Downward_momentum_created', 'N', 'O',\n",
              "       'Verified_status_False', 'Verified_status_True', 'nan'],\n",
              "      dtype=object)"
            ]
          },
          "metadata": {},
          "execution_count": 49
        }
      ]
    },
    {
      "cell_type": "code",
      "source": [
        "reduce(np.intersect1d, [df1.Fake_news, \n",
        "                        df4.Fake_news,\n",
        "                        df6.Fake_news,\n",
        "                        df10.Fake_news\n",
        "                        ])"
      ],
      "metadata": {
        "colab": {
          "base_uri": "https://localhost:8080/"
        },
        "outputId": "ade1586d-3c3c-4216-b3d2-8d433bbbe01f",
        "id": "hS1DBP27wcNF"
      },
      "execution_count": 50,
      "outputs": [
        {
          "output_type": "execute_result",
          "data": {
            "text/plain": [
              "array(['nan'], dtype=object)"
            ]
          },
          "metadata": {},
          "execution_count": 50
        }
      ]
    },
    {
      "cell_type": "code",
      "source": [
        "reduce(np.intersect1d, [df1.Upward_momentum_created, \n",
        "                        df4.Upward_momentum_created,\n",
        "                        df6.Upward_momentum_created,\n",
        "                        df10.Upward_momentum_created\n",
        "                        ])"
      ],
      "metadata": {
        "colab": {
          "base_uri": "https://localhost:8080/"
        },
        "outputId": "cdf71db0-e471-4ee9-9236-9e99d32b633b",
        "id": "DGVtf5BuwcNF"
      },
      "execution_count": 51,
      "outputs": [
        {
          "output_type": "execute_result",
          "data": {
            "text/plain": [
              "array(['nan'], dtype=object)"
            ]
          },
          "metadata": {},
          "execution_count": 51
        }
      ]
    },
    {
      "cell_type": "code",
      "source": [
        "reduce(np.intersect1d, [df1.Downward_momentum_created, \n",
        "                        df4.Downward_momentum_created,\n",
        "                        df6.Downward_momentum_created,\n",
        "                        df10.Downward_momentum_created\n",
        "                        ])"
      ],
      "metadata": {
        "colab": {
          "base_uri": "https://localhost:8080/"
        },
        "outputId": "1c2e9a2f-2fdc-458a-cf4c-a669e245437d",
        "id": "4ISf4YCpwcNF"
      },
      "execution_count": 52,
      "outputs": [
        {
          "output_type": "execute_result",
          "data": {
            "text/plain": [
              "array(['B5_N_Dm', 'B5_O_Dm', 'Downward_momentum_created', 'N', 'O',\n",
              "       'Verified_status_False', 'Verified_status_True', 'nan'],\n",
              "      dtype=object)"
            ]
          },
          "metadata": {},
          "execution_count": 52
        }
      ]
    },
    {
      "cell_type": "code",
      "source": [
        "reduce(np.intersect1d, [df1.Verified_status_True, \n",
        "                        df4.Verified_status_True,\n",
        "                        df6.Verified_status_True,\n",
        "                        df10.Verified_status_True\n",
        "                        ])"
      ],
      "metadata": {
        "colab": {
          "base_uri": "https://localhost:8080/"
        },
        "outputId": "9e056d88-91c4-4ebc-dd2a-12e6a241d090",
        "id": "-EiF6qVWwcNF"
      },
      "execution_count": 53,
      "outputs": [
        {
          "output_type": "execute_result",
          "data": {
            "text/plain": [
              "array(['B5_N_Dm', 'B5_O_Dm', 'Downward_momentum_created', 'N', 'O',\n",
              "       'Verified_status_False', 'Verified_status_True'], dtype=object)"
            ]
          },
          "metadata": {},
          "execution_count": 53
        }
      ]
    },
    {
      "cell_type": "code",
      "source": [
        "reduce(np.intersect1d, [df1.Verified_status_False, \n",
        "                        df4.Verified_status_False,\n",
        "                        df6.Verified_status_False,\n",
        "                        df10.Verified_status_False\n",
        "                        ])"
      ],
      "metadata": {
        "colab": {
          "base_uri": "https://localhost:8080/"
        },
        "outputId": "ad70ea37-0b03-461d-b903-420e8b60063b",
        "id": "7ZkhSc6FwcNG"
      },
      "execution_count": 54,
      "outputs": [
        {
          "output_type": "execute_result",
          "data": {
            "text/plain": [
              "array(['B5_N_Dm', 'B5_O_Dm', 'Downward_momentum_created', 'N', 'O',\n",
              "       'TRANGE', 'Verified_status_False', 'Verified_status_True'],\n",
              "      dtype=object)"
            ]
          },
          "metadata": {},
          "execution_count": 54
        }
      ]
    },
    {
      "cell_type": "markdown",
      "source": [
        "**Large size:**"
      ],
      "metadata": {
        "id": "UbHUSUQNwcNG"
      }
    },
    {
      "cell_type": "code",
      "source": [
        "reduce(np.intersect1d, [df5.AvgTrueRange, \n",
        "                        df7.AvgTrueRange,\n",
        "                        df12.AvgTrueRange\n",
        "                        ])"
      ],
      "metadata": {
        "colab": {
          "base_uri": "https://localhost:8080/"
        },
        "outputId": "f4671f10-fc17-49d9-f845-f70af19224e8",
        "id": "AFFWVEGezWRC"
      },
      "execution_count": 55,
      "outputs": [
        {
          "output_type": "execute_result",
          "data": {
            "text/plain": [
              "array(['AvgTrueRange', 'NATR', 'TRANGE', 'Variance'], dtype=object)"
            ]
          },
          "metadata": {},
          "execution_count": 55
        }
      ]
    },
    {
      "cell_type": "code",
      "source": [
        "reduce(np.intersect1d, [df5.NATR, \n",
        "                        df7.NATR,\n",
        "                        df12.NATR\n",
        "                        ])"
      ],
      "metadata": {
        "colab": {
          "base_uri": "https://localhost:8080/"
        },
        "outputId": "15a316b9-6620-4ae9-a578-efb06502ae8c",
        "id": "SUNuCwEzzWRK"
      },
      "execution_count": 56,
      "outputs": [
        {
          "output_type": "execute_result",
          "data": {
            "text/plain": [
              "array(['AvgTrueRange', 'NATR', 'TRANGE', 'nan'], dtype=object)"
            ]
          },
          "metadata": {},
          "execution_count": 56
        }
      ]
    },
    {
      "cell_type": "code",
      "source": [
        "reduce(np.intersect1d, [df5.TRANGE, \n",
        "                        df7.TRANGE,\n",
        "                        df12.TRANGE\n",
        "                        ])"
      ],
      "metadata": {
        "colab": {
          "base_uri": "https://localhost:8080/"
        },
        "outputId": "e8c62176-ae5c-4782-967c-12c2683cf9ff",
        "id": "n29PuksUzWRK"
      },
      "execution_count": 57,
      "outputs": [
        {
          "output_type": "execute_result",
          "data": {
            "text/plain": [
              "array(['AvgTrueRange', 'NATR', 'TRANGE', 'Variance'], dtype=object)"
            ]
          },
          "metadata": {},
          "execution_count": 57
        }
      ]
    },
    {
      "cell_type": "code",
      "source": [
        "reduce(np.intersect1d, [df5.O, \n",
        "                        df7.O,\n",
        "                        df12.O\n",
        "                        ])"
      ],
      "metadata": {
        "colab": {
          "base_uri": "https://localhost:8080/"
        },
        "outputId": "8b7f5ccd-ea1a-4023-d3c3-0504706d368e",
        "id": "6BaVJaoVzWRL"
      },
      "execution_count": 58,
      "outputs": [
        {
          "output_type": "execute_result",
          "data": {
            "text/plain": [
              "array(['B5_O_Dm', 'Downward_momentum_created', 'Fake_news', 'O',\n",
              "       'Verified_status_False', 'Verified_status_True', 'nan'],\n",
              "      dtype=object)"
            ]
          },
          "metadata": {},
          "execution_count": 58
        }
      ]
    },
    {
      "cell_type": "code",
      "source": [
        "reduce(np.intersect1d, [df5.C, \n",
        "                        df7.C,\n",
        "                        df12.C\n",
        "                        ])"
      ],
      "metadata": {
        "colab": {
          "base_uri": "https://localhost:8080/"
        },
        "outputId": "06474e7b-eb27-4a94-bd07-6520bad69984",
        "id": "8iCztw63zWRL"
      },
      "execution_count": 59,
      "outputs": [
        {
          "output_type": "execute_result",
          "data": {
            "text/plain": [
              "array(['nan'], dtype=object)"
            ]
          },
          "metadata": {},
          "execution_count": 59
        }
      ]
    },
    {
      "cell_type": "code",
      "source": [
        "reduce(np.intersect1d, [df5.E, \n",
        "                        df7.E,\n",
        "                        df12.E\n",
        "                        ])"
      ],
      "metadata": {
        "colab": {
          "base_uri": "https://localhost:8080/"
        },
        "outputId": "205265ea-aa4f-4c8b-ea58-a32d26ce6d5f",
        "id": "-T4_PI_gzWRL"
      },
      "execution_count": 60,
      "outputs": [
        {
          "output_type": "execute_result",
          "data": {
            "text/plain": [
              "array(['nan'], dtype=object)"
            ]
          },
          "metadata": {},
          "execution_count": 60
        }
      ]
    },
    {
      "cell_type": "code",
      "source": [
        "reduce(np.intersect1d, [df5.A, \n",
        "                        df7.A,\n",
        "                        df12.A\n",
        "                        ])"
      ],
      "metadata": {
        "colab": {
          "base_uri": "https://localhost:8080/"
        },
        "outputId": "d4f75a02-cc92-43cf-a9fa-c71232176ef3",
        "id": "S20JN2hBzWRL"
      },
      "execution_count": 61,
      "outputs": [
        {
          "output_type": "execute_result",
          "data": {
            "text/plain": [
              "array(['nan'], dtype=object)"
            ]
          },
          "metadata": {},
          "execution_count": 61
        }
      ]
    },
    {
      "cell_type": "code",
      "source": [
        "reduce(np.intersect1d, [df5.N, \n",
        "                        df7.N,\n",
        "                        df12.N\n",
        "                        ])"
      ],
      "metadata": {
        "colab": {
          "base_uri": "https://localhost:8080/"
        },
        "outputId": "62b66490-7401-4244-e1db-4c8dc29e5ba9",
        "id": "Bll6tjMbzWRL"
      },
      "execution_count": 62,
      "outputs": [
        {
          "output_type": "execute_result",
          "data": {
            "text/plain": [
              "array(['nan'], dtype=object)"
            ]
          },
          "metadata": {},
          "execution_count": 62
        }
      ]
    },
    {
      "cell_type": "code",
      "source": [
        "reduce(np.intersect1d, [df5.B5_O_Um, \n",
        "                        df7.B5_O_Um,\n",
        "                        df12.B5_O_Um\n",
        "                        ])"
      ],
      "metadata": {
        "colab": {
          "base_uri": "https://localhost:8080/"
        },
        "outputId": "c35d2711-f5ba-4808-fad2-087dc4000ddb",
        "id": "pIf7Es8ZzWRL"
      },
      "execution_count": 63,
      "outputs": [
        {
          "output_type": "execute_result",
          "data": {
            "text/plain": [
              "array(['nan'], dtype=object)"
            ]
          },
          "metadata": {},
          "execution_count": 63
        }
      ]
    },
    {
      "cell_type": "code",
      "source": [
        "reduce(np.intersect1d, [df5.B5_C_Um, \n",
        "                        df7.B5_C_Um,\n",
        "                        df12.B5_C_Um\n",
        "                        ])"
      ],
      "metadata": {
        "colab": {
          "base_uri": "https://localhost:8080/"
        },
        "outputId": "fe2ab19d-c54a-4d55-b6cf-397654ed5bf0",
        "id": "9OqIsM8AzWRM"
      },
      "execution_count": 64,
      "outputs": [
        {
          "output_type": "execute_result",
          "data": {
            "text/plain": [
              "array(['nan'], dtype=object)"
            ]
          },
          "metadata": {},
          "execution_count": 64
        }
      ]
    },
    {
      "cell_type": "code",
      "source": [
        "reduce(np.intersect1d, [df5.B5_E_Um, \n",
        "                        df7.B5_E_Um,\n",
        "                        df12.B5_E_Um\n",
        "                        ])"
      ],
      "metadata": {
        "colab": {
          "base_uri": "https://localhost:8080/"
        },
        "outputId": "43993285-83fc-44a9-ed21-bc9df3a6b397",
        "id": "zO6TSMfOzWRM"
      },
      "execution_count": 65,
      "outputs": [
        {
          "output_type": "execute_result",
          "data": {
            "text/plain": [
              "array(['nan'], dtype=object)"
            ]
          },
          "metadata": {},
          "execution_count": 65
        }
      ]
    },
    {
      "cell_type": "code",
      "source": [
        "reduce(np.intersect1d, [df5.B5_A_Um, \n",
        "                        df7.B5_A_Um,\n",
        "                        df12.B5_A_Um\n",
        "                        ])"
      ],
      "metadata": {
        "colab": {
          "base_uri": "https://localhost:8080/"
        },
        "outputId": "1320ca93-a9e6-429d-dfaa-59477e359f77",
        "id": "U-zsOj6rzWRM"
      },
      "execution_count": 66,
      "outputs": [
        {
          "output_type": "execute_result",
          "data": {
            "text/plain": [
              "array(['nan'], dtype=object)"
            ]
          },
          "metadata": {},
          "execution_count": 66
        }
      ]
    },
    {
      "cell_type": "code",
      "source": [
        "reduce(np.intersect1d, [df5.B5_N_Um, \n",
        "                        df7.B5_N_Um,\n",
        "                        df12.B5_N_Um\n",
        "                        ])"
      ],
      "metadata": {
        "colab": {
          "base_uri": "https://localhost:8080/"
        },
        "outputId": "e9a10714-0dbb-4123-f214-1701e3d124e5",
        "id": "rpwFaqAAzWRM"
      },
      "execution_count": 67,
      "outputs": [
        {
          "output_type": "execute_result",
          "data": {
            "text/plain": [
              "array(['nan'], dtype=object)"
            ]
          },
          "metadata": {},
          "execution_count": 67
        }
      ]
    },
    {
      "cell_type": "code",
      "source": [
        "reduce(np.intersect1d, [df5.B5_O_Dm, \n",
        "                        df7.B5_O_Dm,\n",
        "                        df12.B5_O_Dm\n",
        "                        ])"
      ],
      "metadata": {
        "colab": {
          "base_uri": "https://localhost:8080/"
        },
        "outputId": "e3fc5295-4f0d-4baa-a0bb-419c1b816932",
        "id": "BAFsRnGLzWRM"
      },
      "execution_count": 68,
      "outputs": [
        {
          "output_type": "execute_result",
          "data": {
            "text/plain": [
              "array(['B5_O_Dm', 'Downward_momentum_created', 'Fake_news', 'O',\n",
              "       'Verified_status_False', 'Verified_status_True', 'nan'],\n",
              "      dtype=object)"
            ]
          },
          "metadata": {},
          "execution_count": 68
        }
      ]
    },
    {
      "cell_type": "code",
      "source": [
        "reduce(np.intersect1d, [df5.B5_C_Dm, \n",
        "                        df7.B5_C_Dm,\n",
        "                        df12.B5_C_Dm\n",
        "                        ])"
      ],
      "metadata": {
        "colab": {
          "base_uri": "https://localhost:8080/"
        },
        "outputId": "0abf6502-88ea-4172-d372-af81215663d5",
        "id": "gyNFkevRzWRM"
      },
      "execution_count": 69,
      "outputs": [
        {
          "output_type": "execute_result",
          "data": {
            "text/plain": [
              "array(['nan'], dtype=object)"
            ]
          },
          "metadata": {},
          "execution_count": 69
        }
      ]
    },
    {
      "cell_type": "code",
      "source": [
        "reduce(np.intersect1d, [df5.B5_E_Dm, \n",
        "                        df7.B5_E_Dm,\n",
        "                        df12.B5_E_Dm\n",
        "                        ])"
      ],
      "metadata": {
        "colab": {
          "base_uri": "https://localhost:8080/"
        },
        "outputId": "2afaac81-6b2f-49dd-b593-1bbdfb71ab6a",
        "id": "Vp2HL7n1zWRM"
      },
      "execution_count": 70,
      "outputs": [
        {
          "output_type": "execute_result",
          "data": {
            "text/plain": [
              "array(['nan'], dtype=object)"
            ]
          },
          "metadata": {},
          "execution_count": 70
        }
      ]
    },
    {
      "cell_type": "code",
      "source": [
        "reduce(np.intersect1d, [df5.B5_A_Dm, \n",
        "                        df7.B5_A_Dm,\n",
        "                        df12.B5_A_Dm\n",
        "                        ])"
      ],
      "metadata": {
        "colab": {
          "base_uri": "https://localhost:8080/"
        },
        "outputId": "05a28384-b620-4c2f-ed89-92f610b23a43",
        "id": "4UfhZqNvzWRN"
      },
      "execution_count": 71,
      "outputs": [
        {
          "output_type": "execute_result",
          "data": {
            "text/plain": [
              "array(['nan'], dtype=object)"
            ]
          },
          "metadata": {},
          "execution_count": 71
        }
      ]
    },
    {
      "cell_type": "code",
      "source": [
        "reduce(np.intersect1d, [df5.B5_N_Dm, \n",
        "                        df7.B5_N_Dm,\n",
        "                        df12.B5_N_Dm\n",
        "                        ])"
      ],
      "metadata": {
        "colab": {
          "base_uri": "https://localhost:8080/"
        },
        "outputId": "683898c9-c5dd-48e0-c8ee-a410bd028ca6",
        "id": "YL_Ut-YVzWRN"
      },
      "execution_count": 72,
      "outputs": [
        {
          "output_type": "execute_result",
          "data": {
            "text/plain": [
              "array(['nan'], dtype=object)"
            ]
          },
          "metadata": {},
          "execution_count": 72
        }
      ]
    },
    {
      "cell_type": "code",
      "source": [
        "reduce(np.intersect1d, [df5.Fake_news, \n",
        "                        df7.Fake_news,\n",
        "                        df12.Fake_news\n",
        "                        ])"
      ],
      "metadata": {
        "colab": {
          "base_uri": "https://localhost:8080/"
        },
        "outputId": "af3bcd29-0f4c-4093-c82a-a464cfa1340a",
        "id": "i3qY_5rmzWRN"
      },
      "execution_count": 73,
      "outputs": [
        {
          "output_type": "execute_result",
          "data": {
            "text/plain": [
              "array(['B5_O_Dm', 'Downward_momentum_created', 'Fake_news', 'O',\n",
              "       'Verified_status_False', 'Verified_status_True', 'nan'],\n",
              "      dtype=object)"
            ]
          },
          "metadata": {},
          "execution_count": 73
        }
      ]
    },
    {
      "cell_type": "code",
      "source": [
        "reduce(np.intersect1d, [df5.Upward_momentum_created, \n",
        "                        df7.Upward_momentum_created,\n",
        "                        df12.Upward_momentum_created\n",
        "                        ])"
      ],
      "metadata": {
        "colab": {
          "base_uri": "https://localhost:8080/"
        },
        "outputId": "b6f9dc79-b24e-47a6-8d96-9ac76f3a56d5",
        "id": "AuhkyFgBzWRN"
      },
      "execution_count": 74,
      "outputs": [
        {
          "output_type": "execute_result",
          "data": {
            "text/plain": [
              "array(['nan'], dtype=object)"
            ]
          },
          "metadata": {},
          "execution_count": 74
        }
      ]
    },
    {
      "cell_type": "code",
      "source": [
        "reduce(np.intersect1d, [df5.Downward_momentum_created, \n",
        "                        df7.Downward_momentum_created,\n",
        "                        df12.Downward_momentum_created\n",
        "                        ])"
      ],
      "metadata": {
        "colab": {
          "base_uri": "https://localhost:8080/"
        },
        "outputId": "94f68931-76bb-4149-8304-d73ad9d2c39d",
        "id": "qP5QMhKnzWRN"
      },
      "execution_count": 75,
      "outputs": [
        {
          "output_type": "execute_result",
          "data": {
            "text/plain": [
              "array(['B5_O_Dm', 'Downward_momentum_created', 'Fake_news', 'O',\n",
              "       'Verified_status_False', 'Verified_status_True', 'nan'],\n",
              "      dtype=object)"
            ]
          },
          "metadata": {},
          "execution_count": 75
        }
      ]
    },
    {
      "cell_type": "code",
      "source": [
        "reduce(np.intersect1d, [df5.Verified_status_True, \n",
        "                        df7.Verified_status_True,\n",
        "                        df12.Verified_status_True\n",
        "                        ])"
      ],
      "metadata": {
        "colab": {
          "base_uri": "https://localhost:8080/"
        },
        "outputId": "8485bfad-231a-457f-8593-6fa2cee4d813",
        "id": "yPNmAiQnzWRN"
      },
      "execution_count": 76,
      "outputs": [
        {
          "output_type": "execute_result",
          "data": {
            "text/plain": [
              "array(['B5_O_Dm', 'Downward_momentum_created', 'Fake_news', 'O',\n",
              "       'Verified_status_False', 'Verified_status_True', 'nan'],\n",
              "      dtype=object)"
            ]
          },
          "metadata": {},
          "execution_count": 76
        }
      ]
    },
    {
      "cell_type": "code",
      "source": [
        "reduce(np.intersect1d, [df5.Verified_status_False, \n",
        "                        df7.Verified_status_False,\n",
        "                        df12.Verified_status_False\n",
        "                        ])"
      ],
      "metadata": {
        "colab": {
          "base_uri": "https://localhost:8080/"
        },
        "outputId": "ba7d4ff3-e62b-4341-9c39-afda09d59b5b",
        "id": "NhidQY5ezWRO"
      },
      "execution_count": 77,
      "outputs": [
        {
          "output_type": "execute_result",
          "data": {
            "text/plain": [
              "array(['B5_O_Dm', 'Downward_momentum_created', 'Fake_news', 'O',\n",
              "       'Verified_status_False', 'Verified_status_True', 'nan'],\n",
              "      dtype=object)"
            ]
          },
          "metadata": {},
          "execution_count": 77
        }
      ]
    },
    {
      "cell_type": "markdown",
      "source": [
        "**Type of industry**"
      ],
      "metadata": {
        "id": "xgTIcnbj23zc"
      }
    },
    {
      "cell_type": "markdown",
      "source": [
        "**Technology:**"
      ],
      "metadata": {
        "id": "njaOPXfJ3Ehk"
      }
    },
    {
      "cell_type": "code",
      "source": [
        "reduce(np.intersect1d, [df1.AvgTrueRange, \n",
        "                        df2.AvgTrueRange,\n",
        "                        df4.AvgTrueRange,\n",
        "                        df6.AvgTrueRange, \n",
        "                        df12.AvgTrueRange,\n",
        "                        df14.AvgTrueRange\n",
        "                        ])"
      ],
      "metadata": {
        "colab": {
          "base_uri": "https://localhost:8080/"
        },
        "outputId": "4898a9e6-dca3-469c-d602-e04198ffcd9d",
        "id": "bXOOXwqJ36oK"
      },
      "execution_count": 78,
      "outputs": [
        {
          "output_type": "execute_result",
          "data": {
            "text/plain": [
              "array(['AvgTrueRange', 'TRANGE', 'Variance', 'nan'], dtype=object)"
            ]
          },
          "metadata": {},
          "execution_count": 78
        }
      ]
    },
    {
      "cell_type": "code",
      "source": [
        "reduce(np.intersect1d, [df1.NATR, \n",
        "                        df2.NATR,\n",
        "                        df4.NATR,\n",
        "                        df6.NATR, \n",
        "                        df12.NATR,\n",
        "                        df14.NATR\n",
        "                        ])"
      ],
      "metadata": {
        "colab": {
          "base_uri": "https://localhost:8080/"
        },
        "outputId": "6c374221-db7c-4853-8c53-7abafad99037",
        "id": "VxY5x0r_36oL"
      },
      "execution_count": 79,
      "outputs": [
        {
          "output_type": "execute_result",
          "data": {
            "text/plain": [
              "array(['NATR', 'nan'], dtype=object)"
            ]
          },
          "metadata": {},
          "execution_count": 79
        }
      ]
    },
    {
      "cell_type": "code",
      "source": [
        "reduce(np.intersect1d, [df1.TRANGE, \n",
        "                        df2.TRANGE,\n",
        "                        df4.TRANGE,\n",
        "                        df6.TRANGE, \n",
        "                        df12.TRANGE,\n",
        "                        df14.TRANGE\n",
        "                        ])"
      ],
      "metadata": {
        "colab": {
          "base_uri": "https://localhost:8080/"
        },
        "outputId": "b575a8d2-b75a-491e-f6e0-9f0b81d5ea09",
        "id": "q6mrCbSi36oL"
      },
      "execution_count": 80,
      "outputs": [
        {
          "output_type": "execute_result",
          "data": {
            "text/plain": [
              "array(['AvgTrueRange', 'E', 'N', 'O', 'TRANGE', 'Variance',\n",
              "       'Verified_status_False'], dtype=object)"
            ]
          },
          "metadata": {},
          "execution_count": 80
        }
      ]
    },
    {
      "cell_type": "code",
      "source": [
        "reduce(np.intersect1d, [df1.O, \n",
        "                        df2.O,\n",
        "                        df4.O,\n",
        "                        df6.O, \n",
        "                        df12.O,\n",
        "                        df14.O\n",
        "                        ])"
      ],
      "metadata": {
        "colab": {
          "base_uri": "https://localhost:8080/"
        },
        "outputId": "88f974ca-b991-449a-9d79-2fd3a29d06b2",
        "id": "5OFQGWLr36oL"
      },
      "execution_count": 81,
      "outputs": [
        {
          "output_type": "execute_result",
          "data": {
            "text/plain": [
              "array(['B5_E_Dm', 'B5_N_Dm', 'B5_O_Dm', 'Downward_momentum_created', 'E',\n",
              "       'N', 'O', 'TRANGE', 'Verified_status_False',\n",
              "       'Verified_status_True'], dtype=object)"
            ]
          },
          "metadata": {},
          "execution_count": 81
        }
      ]
    },
    {
      "cell_type": "code",
      "source": [
        "reduce(np.intersect1d, [df1.C, \n",
        "                        df2.C,\n",
        "                        df4.C,\n",
        "                        df6.C, \n",
        "                        df12.C,\n",
        "                        df14.C\n",
        "                        ])"
      ],
      "metadata": {
        "colab": {
          "base_uri": "https://localhost:8080/"
        },
        "outputId": "5f6b0df4-28ed-4763-806b-baf6f59f925a",
        "id": "oHkItUvO36oL"
      },
      "execution_count": 82,
      "outputs": [
        {
          "output_type": "execute_result",
          "data": {
            "text/plain": [
              "array(['nan'], dtype=object)"
            ]
          },
          "metadata": {},
          "execution_count": 82
        }
      ]
    },
    {
      "cell_type": "code",
      "source": [
        "reduce(np.intersect1d, [df1.E, \n",
        "                        df2.E,\n",
        "                        df4.E,\n",
        "                        df6.E, \n",
        "                        df12.E,\n",
        "                        df14.E\n",
        "                        ])"
      ],
      "metadata": {
        "colab": {
          "base_uri": "https://localhost:8080/"
        },
        "outputId": "3f833911-c6ba-44df-c0b1-96c4f256a104",
        "id": "EfnMlQns36oM"
      },
      "execution_count": 83,
      "outputs": [
        {
          "output_type": "execute_result",
          "data": {
            "text/plain": [
              "array(['B5_E_Dm', 'B5_N_Dm', 'B5_O_Dm', 'Downward_momentum_created', 'E',\n",
              "       'N', 'O', 'TRANGE', 'Verified_status_False',\n",
              "       'Verified_status_True'], dtype=object)"
            ]
          },
          "metadata": {},
          "execution_count": 83
        }
      ]
    },
    {
      "cell_type": "code",
      "source": [
        "reduce(np.intersect1d, [df1.A, \n",
        "                        df2.A,\n",
        "                        df4.A,\n",
        "                        df6.A, \n",
        "                        df12.A,\n",
        "                        df14.A\n",
        "                        ])"
      ],
      "metadata": {
        "colab": {
          "base_uri": "https://localhost:8080/"
        },
        "outputId": "3e15cfb1-1fa7-4899-e9c6-d1697b1c70e7",
        "id": "ETLEbp4G36oM"
      },
      "execution_count": 84,
      "outputs": [
        {
          "output_type": "execute_result",
          "data": {
            "text/plain": [
              "array(['nan'], dtype=object)"
            ]
          },
          "metadata": {},
          "execution_count": 84
        }
      ]
    },
    {
      "cell_type": "code",
      "source": [
        "reduce(np.intersect1d, [df1.N, \n",
        "                        df2.N,\n",
        "                        df4.N,\n",
        "                        df6.N, \n",
        "                        df12.N,\n",
        "                        df14.N\n",
        "                        ])"
      ],
      "metadata": {
        "colab": {
          "base_uri": "https://localhost:8080/"
        },
        "outputId": "d708449a-ee86-43c0-d31d-edadb58fb757",
        "id": "LQx-jpVu36oM"
      },
      "execution_count": 85,
      "outputs": [
        {
          "output_type": "execute_result",
          "data": {
            "text/plain": [
              "array(['B5_E_Dm', 'B5_N_Dm', 'B5_O_Dm', 'Downward_momentum_created', 'E',\n",
              "       'N', 'O', 'TRANGE', 'Verified_status_False',\n",
              "       'Verified_status_True'], dtype=object)"
            ]
          },
          "metadata": {},
          "execution_count": 85
        }
      ]
    },
    {
      "cell_type": "code",
      "source": [
        "reduce(np.intersect1d, [df1.B5_O_Um, \n",
        "                        df2.B5_O_Um,\n",
        "                        df4.B5_O_Um,\n",
        "                        df6.B5_O_Um, \n",
        "                        df12.B5_O_Um,\n",
        "                        df14.B5_O_Um\n",
        "                        ])"
      ],
      "metadata": {
        "colab": {
          "base_uri": "https://localhost:8080/"
        },
        "outputId": "63ec9676-d21b-4c94-d74e-332bfdbeb739",
        "id": "STtQ5m0y36oM"
      },
      "execution_count": 86,
      "outputs": [
        {
          "output_type": "execute_result",
          "data": {
            "text/plain": [
              "array(['nan'], dtype=object)"
            ]
          },
          "metadata": {},
          "execution_count": 86
        }
      ]
    },
    {
      "cell_type": "code",
      "source": [
        "reduce(np.intersect1d, [df1.B5_C_Um, \n",
        "                        df2.B5_C_Um,\n",
        "                        df4.B5_C_Um,\n",
        "                        df6.B5_C_Um, \n",
        "                        df12.B5_C_Um,\n",
        "                        df14.B5_C_Um\n",
        "                        ])"
      ],
      "metadata": {
        "colab": {
          "base_uri": "https://localhost:8080/"
        },
        "outputId": "8aa9ac36-4237-47af-e999-e04fb61c968d",
        "id": "pniEOlZ336oM"
      },
      "execution_count": 87,
      "outputs": [
        {
          "output_type": "execute_result",
          "data": {
            "text/plain": [
              "array(['nan'], dtype=object)"
            ]
          },
          "metadata": {},
          "execution_count": 87
        }
      ]
    },
    {
      "cell_type": "code",
      "source": [
        "reduce(np.intersect1d, [df1.B5_E_Um, \n",
        "                        df2.B5_E_Um,\n",
        "                        df4.B5_E_Um,\n",
        "                        df6.B5_E_Um, \n",
        "                        df12.B5_E_Um,\n",
        "                        df14.B5_E_Um\n",
        "                        ])"
      ],
      "metadata": {
        "colab": {
          "base_uri": "https://localhost:8080/"
        },
        "outputId": "afa654c0-454e-4818-f2de-b31101cd05a7",
        "id": "nZ8tl1hX36oM"
      },
      "execution_count": 88,
      "outputs": [
        {
          "output_type": "execute_result",
          "data": {
            "text/plain": [
              "array(['nan'], dtype=object)"
            ]
          },
          "metadata": {},
          "execution_count": 88
        }
      ]
    },
    {
      "cell_type": "code",
      "source": [
        "reduce(np.intersect1d, [df1.B5_A_Um, \n",
        "                        df2.B5_A_Um,\n",
        "                        df4.B5_A_Um,\n",
        "                        df6.B5_A_Um, \n",
        "                        df12.B5_A_Um,\n",
        "                        df14.B5_A_Um\n",
        "                        ])"
      ],
      "metadata": {
        "colab": {
          "base_uri": "https://localhost:8080/"
        },
        "outputId": "28be9142-5aaa-4cc2-8d61-9b0ecc930275",
        "id": "VKwHv7LE36oN"
      },
      "execution_count": 89,
      "outputs": [
        {
          "output_type": "execute_result",
          "data": {
            "text/plain": [
              "array(['nan'], dtype=object)"
            ]
          },
          "metadata": {},
          "execution_count": 89
        }
      ]
    },
    {
      "cell_type": "code",
      "source": [
        "reduce(np.intersect1d, [df1.B5_N_Um, \n",
        "                        df2.B5_N_Um,\n",
        "                        df4.B5_N_Um,\n",
        "                        df6.B5_N_Um, \n",
        "                        df12.B5_N_Um,\n",
        "                        df14.B5_N_Um\n",
        "                        ])"
      ],
      "metadata": {
        "colab": {
          "base_uri": "https://localhost:8080/"
        },
        "outputId": "75bd6e18-e6ca-46fc-917c-9631c43dbcc3",
        "id": "x6zSH2tS36oN"
      },
      "execution_count": 90,
      "outputs": [
        {
          "output_type": "execute_result",
          "data": {
            "text/plain": [
              "array(['nan'], dtype=object)"
            ]
          },
          "metadata": {},
          "execution_count": 90
        }
      ]
    },
    {
      "cell_type": "code",
      "source": [
        ""
      ],
      "metadata": {
        "id": "FpuXFAk536oN"
      },
      "execution_count": 90,
      "outputs": []
    },
    {
      "cell_type": "code",
      "source": [
        "reduce(np.intersect1d, [df1.B5_O_Dm, \n",
        "                        df2.B5_O_Dm,\n",
        "                        df4.B5_O_Dm,\n",
        "                        df6.B5_O_Dm, \n",
        "                        df12.B5_O_Dm,\n",
        "                        df14.B5_O_Dm\n",
        "                        ])"
      ],
      "metadata": {
        "colab": {
          "base_uri": "https://localhost:8080/"
        },
        "outputId": "b428c05b-48a2-4d8a-b6a6-1d86b0abb560",
        "id": "_bcV9fkD36oN"
      },
      "execution_count": 91,
      "outputs": [
        {
          "output_type": "execute_result",
          "data": {
            "text/plain": [
              "array(['B5_E_Dm', 'B5_N_Dm', 'B5_O_Dm', 'Downward_momentum_created', 'E',\n",
              "       'N', 'O', 'Verified_status_False', 'nan'], dtype=object)"
            ]
          },
          "metadata": {},
          "execution_count": 91
        }
      ]
    },
    {
      "cell_type": "code",
      "source": [
        "reduce(np.intersect1d, [df1.B5_C_Dm, \n",
        "                        df2.B5_C_Dm,\n",
        "                        df4.B5_C_Dm,\n",
        "                        df6.B5_C_Dm, \n",
        "                        df12.B5_C_Dm,\n",
        "                        df14.B5_C_Dm\n",
        "                        ])"
      ],
      "metadata": {
        "colab": {
          "base_uri": "https://localhost:8080/"
        },
        "outputId": "281dde7b-5c01-4d3d-ac70-1cccba058081",
        "id": "KvNUyIoA36oN"
      },
      "execution_count": 92,
      "outputs": [
        {
          "output_type": "execute_result",
          "data": {
            "text/plain": [
              "array(['nan'], dtype=object)"
            ]
          },
          "metadata": {},
          "execution_count": 92
        }
      ]
    },
    {
      "cell_type": "code",
      "source": [
        "reduce(np.intersect1d, [df1.B5_E_Dm, \n",
        "                        df2.B5_E_Dm,\n",
        "                        df4.B5_E_Dm,\n",
        "                        df6.B5_E_Dm, \n",
        "                        df12.B5_E_Dm,\n",
        "                        df14.B5_E_Dm\n",
        "                        ])"
      ],
      "metadata": {
        "colab": {
          "base_uri": "https://localhost:8080/"
        },
        "outputId": "7beeb2cd-512e-4b37-ff6a-f79817457e70",
        "id": "LHnkGKm_36oN"
      },
      "execution_count": 93,
      "outputs": [
        {
          "output_type": "execute_result",
          "data": {
            "text/plain": [
              "array(['B5_E_Dm', 'B5_N_Dm', 'B5_O_Dm', 'Downward_momentum_created', 'E',\n",
              "       'N', 'O', 'Verified_status_False', 'nan'], dtype=object)"
            ]
          },
          "metadata": {},
          "execution_count": 93
        }
      ]
    },
    {
      "cell_type": "code",
      "source": [
        "reduce(np.intersect1d, [df1.B5_A_Dm, \n",
        "                        df2.B5_A_Dm,\n",
        "                        df4.B5_A_Dm,\n",
        "                        df6.B5_A_Dm, \n",
        "                        df12.B5_A_Dm,\n",
        "                        df14.B5_A_Dm\n",
        "                        ])"
      ],
      "metadata": {
        "colab": {
          "base_uri": "https://localhost:8080/"
        },
        "outputId": "c89e179a-6262-4a1f-ca40-b79ebc9fbbb1",
        "id": "EFxFsDKA36oN"
      },
      "execution_count": 94,
      "outputs": [
        {
          "output_type": "execute_result",
          "data": {
            "text/plain": [
              "array(['nan'], dtype=object)"
            ]
          },
          "metadata": {},
          "execution_count": 94
        }
      ]
    },
    {
      "cell_type": "code",
      "source": [
        "reduce(np.intersect1d, [df1.B5_N_Dm, \n",
        "                        df2.B5_N_Dm,\n",
        "                        df4.B5_N_Dm,\n",
        "                        df6.B5_N_Dm, \n",
        "                        df12.B5_N_Dm,\n",
        "                        df14.B5_N_Dm\n",
        "                        ])"
      ],
      "metadata": {
        "colab": {
          "base_uri": "https://localhost:8080/"
        },
        "outputId": "f95c78df-bb56-4e58-e3fc-5f63727aaa18",
        "id": "EmimVEHK36oO"
      },
      "execution_count": 95,
      "outputs": [
        {
          "output_type": "execute_result",
          "data": {
            "text/plain": [
              "array(['B5_E_Dm', 'B5_N_Dm', 'B5_O_Dm', 'Downward_momentum_created', 'E',\n",
              "       'N', 'O', 'Verified_status_False', 'nan'], dtype=object)"
            ]
          },
          "metadata": {},
          "execution_count": 95
        }
      ]
    },
    {
      "cell_type": "code",
      "source": [
        "reduce(np.intersect1d, [df1.Fake_news, \n",
        "                        df2.Fake_news,\n",
        "                        df4.Fake_news,\n",
        "                        df6.Fake_news, \n",
        "                        df12.Fake_news,\n",
        "                        df14.Fake_news\n",
        "                        ])"
      ],
      "metadata": {
        "colab": {
          "base_uri": "https://localhost:8080/"
        },
        "outputId": "aae17131-5d30-4417-f130-f1b76834c8c1",
        "id": "Paqz0Nwj36oO"
      },
      "execution_count": 96,
      "outputs": [
        {
          "output_type": "execute_result",
          "data": {
            "text/plain": [
              "array([], dtype=object)"
            ]
          },
          "metadata": {},
          "execution_count": 96
        }
      ]
    },
    {
      "cell_type": "code",
      "source": [
        "reduce(np.intersect1d, [df1.Upward_momentum_created, \n",
        "                        df2.Upward_momentum_created,\n",
        "                        df4.Upward_momentum_created,\n",
        "                        df6.Upward_momentum_created, \n",
        "                        df12.Upward_momentum_created,\n",
        "                        df14.Upward_momentum_created\n",
        "                        ])"
      ],
      "metadata": {
        "colab": {
          "base_uri": "https://localhost:8080/"
        },
        "outputId": "e2d4e83f-8cb2-49a8-fc37-83bff89a3ccf",
        "id": "2s-6TzIK36oO"
      },
      "execution_count": 97,
      "outputs": [
        {
          "output_type": "execute_result",
          "data": {
            "text/plain": [
              "array(['nan'], dtype=object)"
            ]
          },
          "metadata": {},
          "execution_count": 97
        }
      ]
    },
    {
      "cell_type": "code",
      "source": [
        "reduce(np.intersect1d, [df1.Downward_momentum_created, \n",
        "                        df2.Downward_momentum_created,\n",
        "                        df4.Downward_momentum_created,\n",
        "                        df6.Downward_momentum_created, \n",
        "                        df12.Downward_momentum_created,\n",
        "                        df14.Downward_momentum_created\n",
        "                        ])"
      ],
      "metadata": {
        "colab": {
          "base_uri": "https://localhost:8080/"
        },
        "outputId": "a36c77f5-75e8-4719-a50d-6e9bf0f59af9",
        "id": "Rjwi3RCG36oO"
      },
      "execution_count": 98,
      "outputs": [
        {
          "output_type": "execute_result",
          "data": {
            "text/plain": [
              "array(['B5_E_Dm', 'B5_N_Dm', 'B5_O_Dm', 'Downward_momentum_created', 'E',\n",
              "       'N', 'O', 'Verified_status_False', 'nan'], dtype=object)"
            ]
          },
          "metadata": {},
          "execution_count": 98
        }
      ]
    },
    {
      "cell_type": "code",
      "source": [
        "reduce(np.intersect1d, [df1.Verified_status_True, \n",
        "                        df2.Verified_status_True,\n",
        "                        df4.Verified_status_True,\n",
        "                        df6.Verified_status_True, \n",
        "                        df12.Verified_status_True,\n",
        "                        df14.Verified_status_True\n",
        "                        ])"
      ],
      "metadata": {
        "colab": {
          "base_uri": "https://localhost:8080/"
        },
        "outputId": "d27bc272-e23e-4164-dd4e-d1889f105c99",
        "id": "GP-iW5QJ36oO"
      },
      "execution_count": 99,
      "outputs": [
        {
          "output_type": "execute_result",
          "data": {
            "text/plain": [
              "array(['E', 'N', 'O', 'Verified_status_False', 'Verified_status_True'],\n",
              "      dtype=object)"
            ]
          },
          "metadata": {},
          "execution_count": 99
        }
      ]
    },
    {
      "cell_type": "code",
      "source": [
        "reduce(np.intersect1d, [df1.Verified_status_False, \n",
        "                        df2.Verified_status_False,\n",
        "                        df4.Verified_status_False,\n",
        "                        df6.Verified_status_False, \n",
        "                        df12.Verified_status_False,\n",
        "                        df14.Verified_status_False\n",
        "                        ])"
      ],
      "metadata": {
        "colab": {
          "base_uri": "https://localhost:8080/"
        },
        "outputId": "911fbf80-53b2-4b8f-a0a7-64b3b138a0b1",
        "id": "EGIfS77k36oO"
      },
      "execution_count": 100,
      "outputs": [
        {
          "output_type": "execute_result",
          "data": {
            "text/plain": [
              "array(['B5_E_Dm', 'B5_N_Dm', 'B5_O_Dm', 'Downward_momentum_created', 'E',\n",
              "       'N', 'O', 'TRANGE', 'Verified_status_False',\n",
              "       'Verified_status_True'], dtype=object)"
            ]
          },
          "metadata": {},
          "execution_count": 100
        }
      ]
    },
    {
      "cell_type": "markdown",
      "source": [
        "**Pharma**: "
      ],
      "metadata": {
        "id": "2B5Eqghg3L8H"
      }
    },
    {
      "cell_type": "code",
      "source": [
        "reduce(np.intersect1d, [df2.AvgTrueRange, \n",
        "                        df5.AvgTrueRange,\n",
        "                        df9.AvgTrueRange\n",
        "                        ])"
      ],
      "metadata": {
        "colab": {
          "base_uri": "https://localhost:8080/"
        },
        "outputId": "67b125b0-7222-492e-e8a4-94224a2b1ca8",
        "id": "RFPk3QjW392f"
      },
      "execution_count": 101,
      "outputs": [
        {
          "output_type": "execute_result",
          "data": {
            "text/plain": [
              "array(['AvgTrueRange', 'TRANGE', 'Variance'], dtype=object)"
            ]
          },
          "metadata": {},
          "execution_count": 101
        }
      ]
    },
    {
      "cell_type": "code",
      "source": [
        "reduce(np.intersect1d, [df2.NATR, \n",
        "                        df5.NATR,\n",
        "                        df9.NATR\n",
        "                        ])"
      ],
      "metadata": {
        "colab": {
          "base_uri": "https://localhost:8080/"
        },
        "outputId": "d5ef8757-809c-475e-a6e7-37a7dd994aeb",
        "id": "afsRGp-g392p"
      },
      "execution_count": 102,
      "outputs": [
        {
          "output_type": "execute_result",
          "data": {
            "text/plain": [
              "array(['NATR', 'nan'], dtype=object)"
            ]
          },
          "metadata": {},
          "execution_count": 102
        }
      ]
    },
    {
      "cell_type": "code",
      "source": [
        "reduce(np.intersect1d, [df2.TRANGE, \n",
        "                        df5.TRANGE,\n",
        "                        df9.TRANGE\n",
        "                        ])"
      ],
      "metadata": {
        "colab": {
          "base_uri": "https://localhost:8080/"
        },
        "outputId": "16d8f41c-105b-4119-84a7-0a70a628570c",
        "id": "C8R6pF_4392p"
      },
      "execution_count": 103,
      "outputs": [
        {
          "output_type": "execute_result",
          "data": {
            "text/plain": [
              "array(['AvgTrueRange', 'B5_N_Dm', 'Downward_momentum_created', 'N',\n",
              "       'TRANGE', 'Variance', 'Verified_status_False', 'Volume'],\n",
              "      dtype=object)"
            ]
          },
          "metadata": {},
          "execution_count": 103
        }
      ]
    },
    {
      "cell_type": "code",
      "source": [
        "reduce(np.intersect1d, [df2.O, \n",
        "                        df5.O,\n",
        "                        df9.O\n",
        "                        ])"
      ],
      "metadata": {
        "colab": {
          "base_uri": "https://localhost:8080/"
        },
        "outputId": "857f1cf9-bfc5-4cc9-bd49-b212215103df",
        "id": "Es-L8MmQ392y"
      },
      "execution_count": 104,
      "outputs": [
        {
          "output_type": "execute_result",
          "data": {
            "text/plain": [
              "array(['nan'], dtype=object)"
            ]
          },
          "metadata": {},
          "execution_count": 104
        }
      ]
    },
    {
      "cell_type": "code",
      "source": [
        "reduce(np.intersect1d, [df2.C, \n",
        "                        df5.C,\n",
        "                        df9.C\n",
        "                        ])"
      ],
      "metadata": {
        "colab": {
          "base_uri": "https://localhost:8080/"
        },
        "outputId": "4b336210-3470-488f-f9b4-7433e2be03e8",
        "id": "yn0nq5Eb392z"
      },
      "execution_count": 105,
      "outputs": [
        {
          "output_type": "execute_result",
          "data": {
            "text/plain": [
              "array([], dtype=object)"
            ]
          },
          "metadata": {},
          "execution_count": 105
        }
      ]
    },
    {
      "cell_type": "code",
      "source": [
        "reduce(np.intersect1d, [df2.E, \n",
        "                        df5.E,\n",
        "                        df9.E\n",
        "                        ])"
      ],
      "metadata": {
        "colab": {
          "base_uri": "https://localhost:8080/"
        },
        "outputId": "8a4f1582-5ad5-4e04-e614-10fc677ea1c6",
        "id": "iXIzypZj392z"
      },
      "execution_count": 106,
      "outputs": [
        {
          "output_type": "execute_result",
          "data": {
            "text/plain": [
              "array([], dtype=object)"
            ]
          },
          "metadata": {},
          "execution_count": 106
        }
      ]
    },
    {
      "cell_type": "code",
      "source": [
        "reduce(np.intersect1d, [df2.A, \n",
        "                        df5.A,\n",
        "                        df9.A\n",
        "                        ])"
      ],
      "metadata": {
        "colab": {
          "base_uri": "https://localhost:8080/"
        },
        "outputId": "fc7059d1-0305-41f2-f160-eaadfa14c8ad",
        "id": "Lz1-D2tN3929"
      },
      "execution_count": 107,
      "outputs": [
        {
          "output_type": "execute_result",
          "data": {
            "text/plain": [
              "array(['nan'], dtype=object)"
            ]
          },
          "metadata": {},
          "execution_count": 107
        }
      ]
    },
    {
      "cell_type": "code",
      "source": [
        "reduce(np.intersect1d, [df2.N, \n",
        "                        df5.N,\n",
        "                        df9.N\n",
        "                        ])"
      ],
      "metadata": {
        "colab": {
          "base_uri": "https://localhost:8080/"
        },
        "outputId": "ea48f015-db8e-4727-a26e-2d6a1c9b9fc0",
        "id": "_jz2jpHC3929"
      },
      "execution_count": 108,
      "outputs": [
        {
          "output_type": "execute_result",
          "data": {
            "text/plain": [
              "array(['B5_N_Dm', 'Downward_momentum_created', 'N', 'TRANGE',\n",
              "       'Verified_status_False', 'Verified_status_True', 'Volume'],\n",
              "      dtype=object)"
            ]
          },
          "metadata": {},
          "execution_count": 108
        }
      ]
    },
    {
      "cell_type": "code",
      "source": [
        "reduce(np.intersect1d, [df2.B5_O_Um, \n",
        "                        df5.B5_O_Um,\n",
        "                        df9.B5_O_Um\n",
        "                        ])"
      ],
      "metadata": {
        "colab": {
          "base_uri": "https://localhost:8080/"
        },
        "outputId": "4f2422ee-3d00-4948-e907-7ee1be80a12d",
        "id": "kkooeS_13929"
      },
      "execution_count": 109,
      "outputs": [
        {
          "output_type": "execute_result",
          "data": {
            "text/plain": [
              "array(['nan'], dtype=object)"
            ]
          },
          "metadata": {},
          "execution_count": 109
        }
      ]
    },
    {
      "cell_type": "code",
      "source": [
        "reduce(np.intersect1d, [df2.B5_C_Um, \n",
        "                        df5.B5_C_Um,\n",
        "                        df9.B5_C_Um\n",
        "                        ])"
      ],
      "metadata": {
        "colab": {
          "base_uri": "https://localhost:8080/"
        },
        "outputId": "242c5ff7-2ae4-4302-b031-404a381f739e",
        "id": "RBLcHw2U393H"
      },
      "execution_count": 110,
      "outputs": [
        {
          "output_type": "execute_result",
          "data": {
            "text/plain": [
              "array([], dtype=object)"
            ]
          },
          "metadata": {},
          "execution_count": 110
        }
      ]
    },
    {
      "cell_type": "code",
      "source": [
        "reduce(np.intersect1d, [df2.B5_E_Um, \n",
        "                        df5.B5_E_Um,\n",
        "                        df9.B5_E_Um\n",
        "                        ])"
      ],
      "metadata": {
        "colab": {
          "base_uri": "https://localhost:8080/"
        },
        "outputId": "d3bd2142-5d56-4e9b-f979-ef8fa1281f5e",
        "id": "V0p2j4qj393H"
      },
      "execution_count": 111,
      "outputs": [
        {
          "output_type": "execute_result",
          "data": {
            "text/plain": [
              "array([], dtype=object)"
            ]
          },
          "metadata": {},
          "execution_count": 111
        }
      ]
    },
    {
      "cell_type": "code",
      "source": [
        "reduce(np.intersect1d, [df2.B5_A_Um, \n",
        "                        df5.B5_A_Um,\n",
        "                        df9.B5_A_Um\n",
        "                        ])"
      ],
      "metadata": {
        "colab": {
          "base_uri": "https://localhost:8080/"
        },
        "outputId": "73b772a4-fa00-4cae-8593-5b2c58d0c283",
        "id": "eIKAaC9R393I"
      },
      "execution_count": 112,
      "outputs": [
        {
          "output_type": "execute_result",
          "data": {
            "text/plain": [
              "array(['nan'], dtype=object)"
            ]
          },
          "metadata": {},
          "execution_count": 112
        }
      ]
    },
    {
      "cell_type": "code",
      "source": [
        "reduce(np.intersect1d, [df2.B5_N_Um, \n",
        "                        df5.B5_N_Um,\n",
        "                        df9.B5_N_Um\n",
        "                        ])"
      ],
      "metadata": {
        "colab": {
          "base_uri": "https://localhost:8080/"
        },
        "outputId": "b212eb53-5e08-45b7-e1e0-4eb98a9feba6",
        "id": "sJ2Jgasm393R"
      },
      "execution_count": 113,
      "outputs": [
        {
          "output_type": "execute_result",
          "data": {
            "text/plain": [
              "array([], dtype=object)"
            ]
          },
          "metadata": {},
          "execution_count": 113
        }
      ]
    },
    {
      "cell_type": "code",
      "source": [
        "reduce(np.intersect1d, [df2.B5_O_Dm, \n",
        "                        df5.B5_O_Dm,\n",
        "                        df9.B5_O_Dm\n",
        "                        ])"
      ],
      "metadata": {
        "colab": {
          "base_uri": "https://localhost:8080/"
        },
        "outputId": "48c81998-09dc-43cd-fde7-d5a42f96a505",
        "id": "8TngId5_393S"
      },
      "execution_count": 114,
      "outputs": [
        {
          "output_type": "execute_result",
          "data": {
            "text/plain": [
              "array(['nan'], dtype=object)"
            ]
          },
          "metadata": {},
          "execution_count": 114
        }
      ]
    },
    {
      "cell_type": "code",
      "source": [
        "reduce(np.intersect1d, [df2.B5_C_Dm, \n",
        "                        df5.B5_C_Dm,\n",
        "                        df9.B5_C_Dm\n",
        "                        ])"
      ],
      "metadata": {
        "colab": {
          "base_uri": "https://localhost:8080/"
        },
        "outputId": "434c15f1-ad2a-4b59-8418-8428f0f76036",
        "id": "N5acu_xj393b"
      },
      "execution_count": 115,
      "outputs": [
        {
          "output_type": "execute_result",
          "data": {
            "text/plain": [
              "array([], dtype=object)"
            ]
          },
          "metadata": {},
          "execution_count": 115
        }
      ]
    },
    {
      "cell_type": "code",
      "source": [
        "reduce(np.intersect1d, [df2.B5_E_Dm, \n",
        "                        df5.B5_E_Dm,\n",
        "                        df9.B5_E_Dm\n",
        "                        ])"
      ],
      "metadata": {
        "colab": {
          "base_uri": "https://localhost:8080/"
        },
        "outputId": "ea3def36-ce4b-42a2-bd70-9c490f8683bf",
        "id": "lSS_SZ1c393c"
      },
      "execution_count": 116,
      "outputs": [
        {
          "output_type": "execute_result",
          "data": {
            "text/plain": [
              "array([], dtype=object)"
            ]
          },
          "metadata": {},
          "execution_count": 116
        }
      ]
    },
    {
      "cell_type": "code",
      "source": [
        "reduce(np.intersect1d, [df2.B5_A_Dm, \n",
        "                        df5.B5_A_Dm,\n",
        "                        df9.B5_A_Dm\n",
        "                        ])"
      ],
      "metadata": {
        "colab": {
          "base_uri": "https://localhost:8080/"
        },
        "outputId": "75764a92-379b-4935-9816-9456bee3e64b",
        "id": "KQ6kfaif393c"
      },
      "execution_count": 117,
      "outputs": [
        {
          "output_type": "execute_result",
          "data": {
            "text/plain": [
              "array(['nan'], dtype=object)"
            ]
          },
          "metadata": {},
          "execution_count": 117
        }
      ]
    },
    {
      "cell_type": "code",
      "source": [
        "reduce(np.intersect1d, [df2.B5_N_Dm, \n",
        "                        df5.B5_N_Dm,\n",
        "                        df9.B5_N_Dm\n",
        "                        ])"
      ],
      "metadata": {
        "colab": {
          "base_uri": "https://localhost:8080/"
        },
        "outputId": "0241651d-e0a1-452a-fc69-81db4d565240",
        "id": "zd4Kocro393h"
      },
      "execution_count": 118,
      "outputs": [
        {
          "output_type": "execute_result",
          "data": {
            "text/plain": [
              "array(['B5_N_Dm', 'Downward_momentum_created', 'N', 'TRANGE',\n",
              "       'Verified_status_False', 'Verified_status_True', 'Volume'],\n",
              "      dtype=object)"
            ]
          },
          "metadata": {},
          "execution_count": 118
        }
      ]
    },
    {
      "cell_type": "code",
      "source": [
        "reduce(np.intersect1d, [df2.Fake_news, \n",
        "                        df5.Fake_news,\n",
        "                        df9.Fake_news\n",
        "                        ])"
      ],
      "metadata": {
        "colab": {
          "base_uri": "https://localhost:8080/"
        },
        "outputId": "d8e061ff-090a-41a4-bad0-9e53659ef805",
        "id": "CpfOqocR393h"
      },
      "execution_count": 119,
      "outputs": [
        {
          "output_type": "execute_result",
          "data": {
            "text/plain": [
              "array(['nan'], dtype=object)"
            ]
          },
          "metadata": {},
          "execution_count": 119
        }
      ]
    },
    {
      "cell_type": "code",
      "source": [
        "reduce(np.intersect1d, [df2.Upward_momentum_created, \n",
        "                        df5.Upward_momentum_created,\n",
        "                        df9.Upward_momentum_created\n",
        "                        ])"
      ],
      "metadata": {
        "colab": {
          "base_uri": "https://localhost:8080/"
        },
        "outputId": "cfd23356-0192-4e99-f11f-95458357a47b",
        "id": "aEKZlBWg393i"
      },
      "execution_count": 120,
      "outputs": [
        {
          "output_type": "execute_result",
          "data": {
            "text/plain": [
              "array([], dtype=object)"
            ]
          },
          "metadata": {},
          "execution_count": 120
        }
      ]
    },
    {
      "cell_type": "code",
      "source": [
        "reduce(np.intersect1d, [df2.Downward_momentum_created, \n",
        "                        df5.Downward_momentum_created,\n",
        "                        df9.Downward_momentum_created\n",
        "                        ])"
      ],
      "metadata": {
        "colab": {
          "base_uri": "https://localhost:8080/"
        },
        "outputId": "31408ad5-3f2c-4d0b-d1f4-7f1c808d8004",
        "id": "tRhrNYWt393i"
      },
      "execution_count": 121,
      "outputs": [
        {
          "output_type": "execute_result",
          "data": {
            "text/plain": [
              "array(['B5_N_Dm', 'Downward_momentum_created', 'N', 'TRANGE',\n",
              "       'Verified_status_False', 'Verified_status_True', 'Volume'],\n",
              "      dtype=object)"
            ]
          },
          "metadata": {},
          "execution_count": 121
        }
      ]
    },
    {
      "cell_type": "code",
      "source": [
        "reduce(np.intersect1d, [df2.Verified_status_True, \n",
        "                        df5.Verified_status_True,\n",
        "                        df9.Verified_status_True\n",
        "                        ])"
      ],
      "metadata": {
        "colab": {
          "base_uri": "https://localhost:8080/"
        },
        "outputId": "93b7271b-c86c-49df-8bc6-cf10776b00da",
        "id": "bLiahj3h393i"
      },
      "execution_count": 122,
      "outputs": [
        {
          "output_type": "execute_result",
          "data": {
            "text/plain": [
              "array(['B5_N_Dm', 'Downward_momentum_created', 'N',\n",
              "       'Verified_status_False', 'Verified_status_True', 'Volume'],\n",
              "      dtype=object)"
            ]
          },
          "metadata": {},
          "execution_count": 122
        }
      ]
    },
    {
      "cell_type": "code",
      "source": [
        "reduce(np.intersect1d, [df2.Verified_status_False, \n",
        "                        df5.Verified_status_False,\n",
        "                        df9.Verified_status_False\n",
        "                        ])"
      ],
      "metadata": {
        "colab": {
          "base_uri": "https://localhost:8080/"
        },
        "outputId": "d8805d43-cb26-4e58-8213-684620dd1269",
        "id": "ugjPPM1w393j"
      },
      "execution_count": 123,
      "outputs": [
        {
          "output_type": "execute_result",
          "data": {
            "text/plain": [
              "array(['B5_N_Dm', 'Downward_momentum_created', 'N', 'TRANGE',\n",
              "       'Verified_status_False', 'Verified_status_True', 'Volume'],\n",
              "      dtype=object)"
            ]
          },
          "metadata": {},
          "execution_count": 123
        }
      ]
    },
    {
      "cell_type": "markdown",
      "source": [
        "**Manufacturing**:"
      ],
      "metadata": {
        "id": "TlKWK7J53Zam"
      }
    },
    {
      "cell_type": "code",
      "source": [
        "reduce(np.intersect1d, [df10.AvgTrueRange, \n",
        "                        df11.AvgTrueRange,\n",
        "                        df13.AvgTrueRange\n",
        "                        ])"
      ],
      "metadata": {
        "colab": {
          "base_uri": "https://localhost:8080/"
        },
        "outputId": "c2954270-2d31-4f29-f49c-d375143f80f3",
        "id": "Kw8jlult3-ta"
      },
      "execution_count": 124,
      "outputs": [
        {
          "output_type": "execute_result",
          "data": {
            "text/plain": [
              "array(['AvgTrueRange', 'MACDSIGNAL', 'TRANGE', 'Upperband', 'Variance',\n",
              "       'Volume', 'nan'], dtype=object)"
            ]
          },
          "metadata": {},
          "execution_count": 124
        }
      ]
    },
    {
      "cell_type": "code",
      "source": [
        "reduce(np.intersect1d, [df10.NATR, \n",
        "                        df11.NATR,\n",
        "                        df13.NATR\n",
        "                        ])"
      ],
      "metadata": {
        "colab": {
          "base_uri": "https://localhost:8080/"
        },
        "outputId": "f5bd50f6-bec4-466f-c009-4931e8c9cc4f",
        "id": "doYzaCh93-ta"
      },
      "execution_count": 125,
      "outputs": [
        {
          "output_type": "execute_result",
          "data": {
            "text/plain": [
              "array(['NATR', 'nan'], dtype=object)"
            ]
          },
          "metadata": {},
          "execution_count": 125
        }
      ]
    },
    {
      "cell_type": "code",
      "source": [
        "reduce(np.intersect1d, [df10.TRANGE, \n",
        "                        df11.TRANGE,\n",
        "                        df13.TRANGE\n",
        "                        ])"
      ],
      "metadata": {
        "colab": {
          "base_uri": "https://localhost:8080/"
        },
        "outputId": "69f5c0a7-2528-48e8-c3e0-f3056f6e652a",
        "id": "TNcybbiW3-tb"
      },
      "execution_count": 126,
      "outputs": [
        {
          "output_type": "execute_result",
          "data": {
            "text/plain": [
              "array(['AvgTrueRange', 'B5_C_Dm', 'B5_N_Dm', 'B5_O_Dm',\n",
              "       'Downward_momentum_created', 'TRANGE', 'Verified_status_True',\n",
              "       'Volume'], dtype=object)"
            ]
          },
          "metadata": {},
          "execution_count": 126
        }
      ]
    },
    {
      "cell_type": "code",
      "source": [
        "reduce(np.intersect1d, [df10.O, \n",
        "                        df11.O,\n",
        "                        df13.O\n",
        "                        ])"
      ],
      "metadata": {
        "colab": {
          "base_uri": "https://localhost:8080/"
        },
        "outputId": "c8a02219-141b-44de-ae17-cf6124206dfc",
        "id": "ezTT5_3O3-tb"
      },
      "execution_count": 127,
      "outputs": [
        {
          "output_type": "execute_result",
          "data": {
            "text/plain": [
              "array(['B5_C_Dm', 'B5_N_Dm', 'B5_O_Dm', 'C', 'Downward_momentum_created',\n",
              "       'Fake_news', 'N', 'O', 'Verified_status_False',\n",
              "       'Verified_status_True', 'Volume', 'nan'], dtype=object)"
            ]
          },
          "metadata": {},
          "execution_count": 127
        }
      ]
    },
    {
      "cell_type": "code",
      "source": [
        "reduce(np.intersect1d, [df10.C, \n",
        "                        df11.C,\n",
        "                        df13.C\n",
        "                        ])"
      ],
      "metadata": {
        "colab": {
          "base_uri": "https://localhost:8080/"
        },
        "outputId": "bcfcbd24-5cc4-4deb-9f07-b1a7e991dca9",
        "id": "aEXXgR3L3-tb"
      },
      "execution_count": 128,
      "outputs": [
        {
          "output_type": "execute_result",
          "data": {
            "text/plain": [
              "array(['B5_C_Dm', 'B5_N_Dm', 'B5_O_Dm', 'C', 'Downward_momentum_created',\n",
              "       'Fake_news', 'N', 'O', 'Verified_status_False',\n",
              "       'Verified_status_True', 'Volume', 'nan'], dtype=object)"
            ]
          },
          "metadata": {},
          "execution_count": 128
        }
      ]
    },
    {
      "cell_type": "code",
      "source": [
        "reduce(np.intersect1d, [df10.E, \n",
        "                        df11.E,\n",
        "                        df13.E\n",
        "                        ])"
      ],
      "metadata": {
        "colab": {
          "base_uri": "https://localhost:8080/"
        },
        "outputId": "b5ff7b82-35e9-48cb-e64b-71633dce318c",
        "id": "flExVdH03-tb"
      },
      "execution_count": 129,
      "outputs": [
        {
          "output_type": "execute_result",
          "data": {
            "text/plain": [
              "array(['nan'], dtype=object)"
            ]
          },
          "metadata": {},
          "execution_count": 129
        }
      ]
    },
    {
      "cell_type": "code",
      "source": [
        "reduce(np.intersect1d, [df10.A, \n",
        "                        df11.A,\n",
        "                        df13.A\n",
        "                        ])"
      ],
      "metadata": {
        "colab": {
          "base_uri": "https://localhost:8080/"
        },
        "outputId": "75f411d8-aa73-4466-af79-2d5789322d3b",
        "id": "CRiBF6yu3-tb"
      },
      "execution_count": 130,
      "outputs": [
        {
          "output_type": "execute_result",
          "data": {
            "text/plain": [
              "array(['nan'], dtype=object)"
            ]
          },
          "metadata": {},
          "execution_count": 130
        }
      ]
    },
    {
      "cell_type": "code",
      "source": [
        "reduce(np.intersect1d, [df10.N, \n",
        "                        df11.N,\n",
        "                        df13.N\n",
        "                        ])"
      ],
      "metadata": {
        "colab": {
          "base_uri": "https://localhost:8080/"
        },
        "outputId": "59170751-297e-4f71-bd29-5113e8835132",
        "id": "Rnktj2eN3-tb"
      },
      "execution_count": 131,
      "outputs": [
        {
          "output_type": "execute_result",
          "data": {
            "text/plain": [
              "array(['B5_C_Dm', 'B5_N_Dm', 'B5_O_Dm', 'C', 'Downward_momentum_created',\n",
              "       'Fake_news', 'N', 'O', 'Verified_status_False',\n",
              "       'Verified_status_True', 'Volume', 'nan'], dtype=object)"
            ]
          },
          "metadata": {},
          "execution_count": 131
        }
      ]
    },
    {
      "cell_type": "code",
      "source": [
        "reduce(np.intersect1d, [df10.B5_O_Um, \n",
        "                        df11.B5_O_Um,\n",
        "                        df13.B5_O_Um\n",
        "                        ])"
      ],
      "metadata": {
        "colab": {
          "base_uri": "https://localhost:8080/"
        },
        "outputId": "6df41ea1-0b1a-4996-aee7-7fa5fe36628d",
        "id": "1d2ACaCq3-tc"
      },
      "execution_count": 132,
      "outputs": [
        {
          "output_type": "execute_result",
          "data": {
            "text/plain": [
              "array(['nan'], dtype=object)"
            ]
          },
          "metadata": {},
          "execution_count": 132
        }
      ]
    },
    {
      "cell_type": "code",
      "source": [
        "reduce(np.intersect1d, [df10.B5_C_Um, \n",
        "                        df11.B5_C_Um,\n",
        "                        df13.B5_C_Um\n",
        "                        ])"
      ],
      "metadata": {
        "colab": {
          "base_uri": "https://localhost:8080/"
        },
        "outputId": "82a9d13b-0fae-449b-a296-ebbc136458d5",
        "id": "aSNycXpm3-tc"
      },
      "execution_count": 133,
      "outputs": [
        {
          "output_type": "execute_result",
          "data": {
            "text/plain": [
              "array(['nan'], dtype=object)"
            ]
          },
          "metadata": {},
          "execution_count": 133
        }
      ]
    },
    {
      "cell_type": "code",
      "source": [
        "reduce(np.intersect1d, [df10.B5_E_Um, \n",
        "                        df11.B5_E_Um,\n",
        "                        df13.B5_E_Um\n",
        "                        ])"
      ],
      "metadata": {
        "colab": {
          "base_uri": "https://localhost:8080/"
        },
        "outputId": "dd20af0c-0ac9-44a3-8c95-f46f6af3749a",
        "id": "pey3HjZP3-tc"
      },
      "execution_count": 134,
      "outputs": [
        {
          "output_type": "execute_result",
          "data": {
            "text/plain": [
              "array(['nan'], dtype=object)"
            ]
          },
          "metadata": {},
          "execution_count": 134
        }
      ]
    },
    {
      "cell_type": "code",
      "source": [
        "reduce(np.intersect1d, [df10.B5_A_Um, \n",
        "                        df11.B5_A_Um,\n",
        "                        df13.B5_A_Um\n",
        "                        ])"
      ],
      "metadata": {
        "colab": {
          "base_uri": "https://localhost:8080/"
        },
        "outputId": "99d0adbc-add2-477f-b415-6ce292c7e829",
        "id": "d4o1LKhA3-tc"
      },
      "execution_count": 135,
      "outputs": [
        {
          "output_type": "execute_result",
          "data": {
            "text/plain": [
              "array(['nan'], dtype=object)"
            ]
          },
          "metadata": {},
          "execution_count": 135
        }
      ]
    },
    {
      "cell_type": "code",
      "source": [
        "reduce(np.intersect1d, [df10.B5_N_Um, \n",
        "                        df11.B5_N_Um,\n",
        "                        df13.B5_N_Um\n",
        "                        ])"
      ],
      "metadata": {
        "colab": {
          "base_uri": "https://localhost:8080/"
        },
        "outputId": "5242e35b-4c32-431c-c106-f02bf5a0ebde",
        "id": "fJ8MwP_13-tc"
      },
      "execution_count": 136,
      "outputs": [
        {
          "output_type": "execute_result",
          "data": {
            "text/plain": [
              "array(['nan'], dtype=object)"
            ]
          },
          "metadata": {},
          "execution_count": 136
        }
      ]
    },
    {
      "cell_type": "code",
      "source": [
        "reduce(np.intersect1d, [df10.B5_O_Dm, \n",
        "                        df11.B5_O_Dm,\n",
        "                        df13.B5_O_Dm\n",
        "                        ])"
      ],
      "metadata": {
        "colab": {
          "base_uri": "https://localhost:8080/"
        },
        "outputId": "97b4e565-68ab-4b5c-ab7c-adbcc5be7fb2",
        "id": "Kf-C5JtN3-td"
      },
      "execution_count": 137,
      "outputs": [
        {
          "output_type": "execute_result",
          "data": {
            "text/plain": [
              "array(['B5_C_Dm', 'B5_N_Dm', 'B5_O_Dm', 'C', 'Downward_momentum_created',\n",
              "       'Fake_news', 'N', 'O', 'TRANGE', 'Verified_status_False',\n",
              "       'Verified_status_True', 'Volume'], dtype=object)"
            ]
          },
          "metadata": {},
          "execution_count": 137
        }
      ]
    },
    {
      "cell_type": "code",
      "source": [
        "reduce(np.intersect1d, [df10.B5_C_Dm, \n",
        "                        df11.B5_C_Dm,\n",
        "                        df13.B5_C_Dm\n",
        "                        ])"
      ],
      "metadata": {
        "colab": {
          "base_uri": "https://localhost:8080/"
        },
        "outputId": "7321112e-4683-4bb5-c202-af835621ee80",
        "id": "ueKgj1r63-td"
      },
      "execution_count": 138,
      "outputs": [
        {
          "output_type": "execute_result",
          "data": {
            "text/plain": [
              "array(['B5_C_Dm', 'B5_N_Dm', 'B5_O_Dm', 'C', 'Downward_momentum_created',\n",
              "       'Fake_news', 'N', 'O', 'TRANGE', 'Verified_status_False',\n",
              "       'Verified_status_True', 'Volume'], dtype=object)"
            ]
          },
          "metadata": {},
          "execution_count": 138
        }
      ]
    },
    {
      "cell_type": "code",
      "source": [
        "reduce(np.intersect1d, [df10.B5_E_Dm, \n",
        "                        df11.B5_E_Dm,\n",
        "                        df13.B5_E_Dm\n",
        "                        ])"
      ],
      "metadata": {
        "colab": {
          "base_uri": "https://localhost:8080/"
        },
        "outputId": "8f3c47eb-1b1f-41c3-8ed6-0e3f2d4bc088",
        "id": "r5UgsS8L3-td"
      },
      "execution_count": 139,
      "outputs": [
        {
          "output_type": "execute_result",
          "data": {
            "text/plain": [
              "array(['nan'], dtype=object)"
            ]
          },
          "metadata": {},
          "execution_count": 139
        }
      ]
    },
    {
      "cell_type": "code",
      "source": [
        "reduce(np.intersect1d, [df10.B5_A_Dm, \n",
        "                        df11.B5_A_Dm,\n",
        "                        df13.B5_A_Dm\n",
        "                        ])"
      ],
      "metadata": {
        "colab": {
          "base_uri": "https://localhost:8080/"
        },
        "outputId": "a7700564-e468-42c4-9a81-f7c5754f9867",
        "id": "9P-kMoQv3-td"
      },
      "execution_count": 140,
      "outputs": [
        {
          "output_type": "execute_result",
          "data": {
            "text/plain": [
              "array([], dtype=object)"
            ]
          },
          "metadata": {},
          "execution_count": 140
        }
      ]
    },
    {
      "cell_type": "code",
      "source": [
        "reduce(np.intersect1d, [df10.B5_N_Dm, \n",
        "                        df11.B5_N_Dm,\n",
        "                        df13.B5_N_Dm\n",
        "                        ])"
      ],
      "metadata": {
        "colab": {
          "base_uri": "https://localhost:8080/"
        },
        "outputId": "a99dece3-4a25-4324-964d-079624ce2041",
        "id": "ykHo6Que3-td"
      },
      "execution_count": 141,
      "outputs": [
        {
          "output_type": "execute_result",
          "data": {
            "text/plain": [
              "array(['B5_C_Dm', 'B5_N_Dm', 'B5_O_Dm', 'C', 'Downward_momentum_created',\n",
              "       'Fake_news', 'N', 'O', 'TRANGE', 'Verified_status_False',\n",
              "       'Verified_status_True', 'Volume'], dtype=object)"
            ]
          },
          "metadata": {},
          "execution_count": 141
        }
      ]
    },
    {
      "cell_type": "code",
      "source": [
        "reduce(np.intersect1d, [df10.Fake_news, \n",
        "                        df11.Fake_news,\n",
        "                        df13.Fake_news\n",
        "                        ])"
      ],
      "metadata": {
        "colab": {
          "base_uri": "https://localhost:8080/"
        },
        "outputId": "ef071d05-146d-4e80-a160-2c09daaa2d46",
        "id": "c2wquGNe3-td"
      },
      "execution_count": 142,
      "outputs": [
        {
          "output_type": "execute_result",
          "data": {
            "text/plain": [
              "array(['B5_C_Dm', 'B5_N_Dm', 'B5_O_Dm', 'C', 'Downward_momentum_created',\n",
              "       'Fake_news', 'N', 'O', 'Verified_status_False',\n",
              "       'Verified_status_True', 'Volume', 'nan'], dtype=object)"
            ]
          },
          "metadata": {},
          "execution_count": 142
        }
      ]
    },
    {
      "cell_type": "code",
      "source": [
        "reduce(np.intersect1d, [df10.Upward_momentum_created, \n",
        "                        df11.Upward_momentum_created,\n",
        "                        df13.Upward_momentum_created\n",
        "                        ])"
      ],
      "metadata": {
        "colab": {
          "base_uri": "https://localhost:8080/"
        },
        "outputId": "8ff9937c-73dc-497a-fbbc-92186fad4e3e",
        "id": "UgYxLl_b3-td"
      },
      "execution_count": 143,
      "outputs": [
        {
          "output_type": "execute_result",
          "data": {
            "text/plain": [
              "array(['nan'], dtype=object)"
            ]
          },
          "metadata": {},
          "execution_count": 143
        }
      ]
    },
    {
      "cell_type": "code",
      "source": [
        "reduce(np.intersect1d, [df10.Downward_momentum_created, \n",
        "                        df11.Downward_momentum_created,\n",
        "                        df13.Downward_momentum_created\n",
        "                        ])"
      ],
      "metadata": {
        "colab": {
          "base_uri": "https://localhost:8080/"
        },
        "outputId": "c2815334-93c0-42eb-c4c1-1898349a6b1b",
        "id": "Vl6PMhr03-te"
      },
      "execution_count": 144,
      "outputs": [
        {
          "output_type": "execute_result",
          "data": {
            "text/plain": [
              "array(['B5_C_Dm', 'B5_N_Dm', 'B5_O_Dm', 'C', 'Downward_momentum_created',\n",
              "       'Fake_news', 'N', 'O', 'TRANGE', 'Verified_status_False',\n",
              "       'Verified_status_True', 'Volume'], dtype=object)"
            ]
          },
          "metadata": {},
          "execution_count": 144
        }
      ]
    },
    {
      "cell_type": "code",
      "source": [
        "reduce(np.intersect1d, [df10.Verified_status_True, \n",
        "                        df11.Verified_status_True,\n",
        "                        df13.Verified_status_True\n",
        "                        ])"
      ],
      "metadata": {
        "colab": {
          "base_uri": "https://localhost:8080/"
        },
        "outputId": "f95ae4ed-c996-45d7-a91e-9e9c7f650817",
        "id": "8j9odPRA3-te"
      },
      "execution_count": 145,
      "outputs": [
        {
          "output_type": "execute_result",
          "data": {
            "text/plain": [
              "array(['B5_C_Dm', 'B5_N_Dm', 'B5_O_Dm', 'C', 'Downward_momentum_created',\n",
              "       'Fake_news', 'N', 'O', 'TRANGE', 'Verified_status_False',\n",
              "       'Verified_status_True', 'Volume'], dtype=object)"
            ]
          },
          "metadata": {},
          "execution_count": 145
        }
      ]
    },
    {
      "cell_type": "code",
      "source": [
        "reduce(np.intersect1d, [df10.Verified_status_True, \n",
        "                        df11.Verified_status_True,\n",
        "                        df13.Verified_status_True\n",
        "                        ])"
      ],
      "metadata": {
        "colab": {
          "base_uri": "https://localhost:8080/"
        },
        "outputId": "da9c5943-a778-4eec-f75f-394d808908ae",
        "id": "oMtKuPuN3-te"
      },
      "execution_count": 146,
      "outputs": [
        {
          "output_type": "execute_result",
          "data": {
            "text/plain": [
              "array(['B5_C_Dm', 'B5_N_Dm', 'B5_O_Dm', 'C', 'Downward_momentum_created',\n",
              "       'Fake_news', 'N', 'O', 'TRANGE', 'Verified_status_False',\n",
              "       'Verified_status_True', 'Volume'], dtype=object)"
            ]
          },
          "metadata": {},
          "execution_count": 146
        }
      ]
    }
  ]
}